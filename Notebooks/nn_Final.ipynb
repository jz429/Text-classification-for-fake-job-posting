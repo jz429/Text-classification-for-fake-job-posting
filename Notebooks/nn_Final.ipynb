{
  "nbformat": 4,
  "nbformat_minor": 0,
  "metadata": {
    "colab": {
      "name": "nn_Final.ipynb",
      "provenance": [],
      "collapsed_sections": []
    },
    "kernelspec": {
      "name": "python3",
      "display_name": "Python 3"
    }
  },
  "cells": [
    {
      "cell_type": "code",
      "metadata": {
        "id": "IGt29bVBgHWN",
        "colab_type": "code",
        "outputId": "860d477b-7815-47e7-bb71-279f31677e96",
        "colab": {
          "base_uri": "https://localhost:8080/",
          "height": 34
        }
      },
      "source": [
        "%tensorflow_version 1.x"
      ],
      "execution_count": 1,
      "outputs": [
        {
          "output_type": "stream",
          "text": [
            "TensorFlow 1.x selected.\n"
          ],
          "name": "stdout"
        }
      ]
    },
    {
      "cell_type": "code",
      "metadata": {
        "id": "Y5I85txxgQY-",
        "colab_type": "code",
        "outputId": "c71715b0-3879-4caa-e1f8-599e97d5a416",
        "colab": {
          "base_uri": "https://localhost:8080/",
          "height": 68
        }
      },
      "source": [
        "import pandas as pd\n",
        "import numpy as np\n",
        "import torch\n",
        "import collections, re\n",
        "import matplotlib.pyplot as plt\n",
        "import seaborn as sns\n",
        "from nltk.util import ngrams\n",
        "from nltk.tokenize import RegexpTokenizer\n",
        "use_cuda = torch.cuda.is_available()\n",
        "device = torch.device(\"cuda:0\" if use_cuda else \"cpu\")\n",
        "from sklearn.feature_extraction.text import CountVectorizer\n",
        "from keras.preprocessing.text import Tokenizer\n",
        "from keras.preprocessing.sequence import pad_sequences\n",
        "from keras.models import Sequential\n",
        "from keras.layers import Dense, Embedding, LSTM\n",
        "from sklearn.model_selection import train_test_split\n",
        "from keras.utils.np_utils import to_categorical\n",
        "import re\n",
        "from keras.layers import  CuDNNLSTM \n",
        "from keras.layers import concatenate\n",
        "from keras import Sequential, Model\n",
        "from sklearn.metrics import classification_report, confusion_matrix,f1_score,accuracy_score"
      ],
      "execution_count": 2,
      "outputs": [
        {
          "output_type": "stream",
          "text": [
            "/usr/local/lib/python3.6/dist-packages/statsmodels/tools/_testing.py:19: FutureWarning: pandas.util.testing is deprecated. Use the functions in the public API at pandas.testing instead.\n",
            "  import pandas.util.testing as tm\n",
            "Using TensorFlow backend.\n"
          ],
          "name": "stderr"
        }
      ]
    },
    {
      "cell_type": "code",
      "metadata": {
        "id": "NTMNHJ8ZgULy",
        "colab_type": "code",
        "outputId": "337c96be-5292-4b11-ae91-d2c830231d35",
        "colab": {
          "base_uri": "https://localhost:8080/",
          "height": 122
        }
      },
      "source": [
        "from google.colab import drive\n",
        "drive.mount('/content/drive')"
      ],
      "execution_count": 3,
      "outputs": [
        {
          "output_type": "stream",
          "text": [
            "Go to this URL in a browser: https://accounts.google.com/o/oauth2/auth?client_id=947318989803-6bn6qk8qdgf4n4g3pfee6491hc0brc4i.apps.googleusercontent.com&redirect_uri=urn%3aietf%3awg%3aoauth%3a2.0%3aoob&response_type=code&scope=email%20https%3a%2f%2fwww.googleapis.com%2fauth%2fdocs.test%20https%3a%2f%2fwww.googleapis.com%2fauth%2fdrive%20https%3a%2f%2fwww.googleapis.com%2fauth%2fdrive.photos.readonly%20https%3a%2f%2fwww.googleapis.com%2fauth%2fpeopleapi.readonly\n",
            "\n",
            "Enter your authorization code:\n",
            "··········\n",
            "Mounted at /content/drive\n"
          ],
          "name": "stdout"
        }
      ]
    },
    {
      "cell_type": "code",
      "metadata": {
        "id": "euT9johZgWj1",
        "colab_type": "code",
        "colab": {}
      },
      "source": [
        "clean_data=pd.read_csv(\"/content/drive/My Drive/NLP project/final_clean_data.csv\",encoding='latin-1') #you need to change the path"
      ],
      "execution_count": 0,
      "outputs": []
    },
    {
      "cell_type": "code",
      "metadata": {
        "id": "pgiDAKXlg7K2",
        "colab_type": "code",
        "outputId": "d3a3e334-d509-4e8e-ba6f-1bd02cab1c18",
        "colab": {
          "base_uri": "https://localhost:8080/",
          "height": 139
        }
      },
      "source": [
        "from sklearn.model_selection import StratifiedKFold\n",
        "from sklearn.model_selection import train_test_split\n",
        "\n",
        "train_indices, test_indices, y_train, y_test = train_test_split(np.arange(len(clean_data)), clean_data['fraudulent'],\n",
        "                                                    stratify=clean_data['fraudulent'], \n",
        "                                                    test_size=0.3,random_state=0)\n",
        "from imblearn.over_sampling import RandomOverSampler\n",
        "ros = RandomOverSampler(random_state=0)\n",
        "X_resampled, y_resampled = ros.fit_resample(np.array(train_indices).reshape(-1, 1), clean_data.iloc[train_indices]['fraudulent'])\n",
        "X_resampled=X_resampled.flatten()"
      ],
      "execution_count": 5,
      "outputs": [
        {
          "output_type": "stream",
          "text": [
            "/usr/local/lib/python3.6/dist-packages/sklearn/externals/six.py:31: FutureWarning: The module is deprecated in version 0.21 and will be removed in version 0.23 since we've dropped support for Python 2.7. Please rely on the official version of six (https://pypi.org/project/six/).\n",
            "  \"(https://pypi.org/project/six/).\", FutureWarning)\n",
            "/usr/local/lib/python3.6/dist-packages/sklearn/utils/deprecation.py:144: FutureWarning: The sklearn.neighbors.base module is  deprecated in version 0.22 and will be removed in version 0.24. The corresponding classes / functions should instead be imported from sklearn.neighbors. Anything that cannot be imported from sklearn.neighbors is now part of the private API.\n",
            "  warnings.warn(message, FutureWarning)\n",
            "/usr/local/lib/python3.6/dist-packages/sklearn/utils/deprecation.py:87: FutureWarning: Function safe_indexing is deprecated; safe_indexing is deprecated in version 0.22 and will be removed in version 0.24.\n",
            "  warnings.warn(msg, category=FutureWarning)\n"
          ],
          "name": "stderr"
        }
      ]
    },
    {
      "cell_type": "code",
      "metadata": {
        "id": "rrXFGW6ShcGF",
        "colab_type": "code",
        "colab": {}
      },
      "source": [
        "train_indices=X_resampled"
      ],
      "execution_count": 0,
      "outputs": []
    },
    {
      "cell_type": "code",
      "metadata": {
        "id": "kDZkfklEhJDR",
        "colab_type": "code",
        "outputId": "64c89271-be60-482b-d7a2-fb72b73ab3ef",
        "colab": {
          "base_uri": "https://localhost:8080/",
          "height": 496
        }
      },
      "source": [
        "clean_data.head()"
      ],
      "execution_count": 7,
      "outputs": [
        {
          "output_type": "execute_result",
          "data": {
            "text/html": [
              "<div>\n",
              "<style scoped>\n",
              "    .dataframe tbody tr th:only-of-type {\n",
              "        vertical-align: middle;\n",
              "    }\n",
              "\n",
              "    .dataframe tbody tr th {\n",
              "        vertical-align: top;\n",
              "    }\n",
              "\n",
              "    .dataframe thead th {\n",
              "        text-align: right;\n",
              "    }\n",
              "</style>\n",
              "<table border=\"1\" class=\"dataframe\">\n",
              "  <thead>\n",
              "    <tr style=\"text-align: right;\">\n",
              "      <th></th>\n",
              "      <th>job_id</th>\n",
              "      <th>title</th>\n",
              "      <th>company_profile</th>\n",
              "      <th>description</th>\n",
              "      <th>Special_Char</th>\n",
              "      <th>telecommuting</th>\n",
              "      <th>has_company_logo</th>\n",
              "      <th>has_questions</th>\n",
              "      <th>Ambiguous Range</th>\n",
              "      <th>missing_salary</th>\n",
              "      <th>missing_stat</th>\n",
              "      <th>ambiguous_salary</th>\n",
              "      <th>missing</th>\n",
              "      <th>major_benefits</th>\n",
              "      <th>Country_AU</th>\n",
              "      <th>Country_GB</th>\n",
              "      <th>Country_MY</th>\n",
              "      <th>Country_US</th>\n",
              "      <th>State_CA</th>\n",
              "      <th>State_MD</th>\n",
              "      <th>State_NSW</th>\n",
              "      <th>State_NY</th>\n",
              "      <th>State_None</th>\n",
              "      <th>State_TX</th>\n",
              "      <th>employment_type_Contract</th>\n",
              "      <th>employment_type_Full-time</th>\n",
              "      <th>employment_type_None</th>\n",
              "      <th>employment_type_Part-time</th>\n",
              "      <th>required_experience_Associate</th>\n",
              "      <th>required_experience_Entry level</th>\n",
              "      <th>required_experience_Mid-Senior level</th>\n",
              "      <th>required_experience_None</th>\n",
              "      <th>required_education_Bachelor &amp; Assoc</th>\n",
              "      <th>required_education_High School</th>\n",
              "      <th>required_education_Master &amp; Doctorate</th>\n",
              "      <th>required_education_None</th>\n",
              "      <th>required_education_Prof &amp; Cert</th>\n",
              "      <th>industry_accounting</th>\n",
              "      <th>industry_computer networking</th>\n",
              "      <th>industry_consumer services</th>\n",
              "      <th>industry_financial services</th>\n",
              "      <th>industry_hospital health care</th>\n",
              "      <th>industry_information technology services</th>\n",
              "      <th>industry_leisure travel tourism</th>\n",
              "      <th>industry_marketing advertising</th>\n",
              "      <th>industry_none</th>\n",
              "      <th>industry_oil energy</th>\n",
              "      <th>industry_real estate</th>\n",
              "      <th>industry_telecommunications</th>\n",
              "      <th>function_accounting auditing</th>\n",
              "      <th>function_administrative</th>\n",
              "      <th>function_customer service</th>\n",
              "      <th>function_engineering</th>\n",
              "      <th>function_information technology</th>\n",
              "      <th>function_none</th>\n",
              "      <th>function_other</th>\n",
              "      <th>function_sales</th>\n",
              "      <th>fraudulent</th>\n",
              "    </tr>\n",
              "  </thead>\n",
              "  <tbody>\n",
              "    <tr>\n",
              "      <th>0</th>\n",
              "      <td>1</td>\n",
              "      <td>marketing intern</td>\n",
              "      <td>food weve created groundbreaking awardwinning ...</td>\n",
              "      <td>food fastgrowing james beard awardwinning onli...</td>\n",
              "      <td>0</td>\n",
              "      <td>0</td>\n",
              "      <td>1</td>\n",
              "      <td>0</td>\n",
              "      <td>1.0</td>\n",
              "      <td>1</td>\n",
              "      <td>0.0</td>\n",
              "      <td>0.0</td>\n",
              "      <td>1.0</td>\n",
              "      <td>0.0</td>\n",
              "      <td>0</td>\n",
              "      <td>0</td>\n",
              "      <td>0</td>\n",
              "      <td>1</td>\n",
              "      <td>0</td>\n",
              "      <td>0</td>\n",
              "      <td>0</td>\n",
              "      <td>1</td>\n",
              "      <td>0</td>\n",
              "      <td>0</td>\n",
              "      <td>0</td>\n",
              "      <td>0</td>\n",
              "      <td>0</td>\n",
              "      <td>0</td>\n",
              "      <td>0</td>\n",
              "      <td>0</td>\n",
              "      <td>0</td>\n",
              "      <td>0</td>\n",
              "      <td>0</td>\n",
              "      <td>0</td>\n",
              "      <td>0</td>\n",
              "      <td>1</td>\n",
              "      <td>0</td>\n",
              "      <td>0</td>\n",
              "      <td>0</td>\n",
              "      <td>0</td>\n",
              "      <td>0</td>\n",
              "      <td>0</td>\n",
              "      <td>0</td>\n",
              "      <td>0</td>\n",
              "      <td>0</td>\n",
              "      <td>1</td>\n",
              "      <td>0</td>\n",
              "      <td>0</td>\n",
              "      <td>0</td>\n",
              "      <td>0</td>\n",
              "      <td>0</td>\n",
              "      <td>0</td>\n",
              "      <td>0</td>\n",
              "      <td>0</td>\n",
              "      <td>0</td>\n",
              "      <td>0</td>\n",
              "      <td>0</td>\n",
              "      <td>0</td>\n",
              "    </tr>\n",
              "    <tr>\n",
              "      <th>1</th>\n",
              "      <td>2</td>\n",
              "      <td>customer service cloud video production</td>\n",
              "      <td>seconds worlds cloud video production service ...</td>\n",
              "      <td>organised focused vibrant awesomedo passion cu...</td>\n",
              "      <td>0</td>\n",
              "      <td>0</td>\n",
              "      <td>1</td>\n",
              "      <td>0</td>\n",
              "      <td>1.0</td>\n",
              "      <td>1</td>\n",
              "      <td>1.0</td>\n",
              "      <td>1.0</td>\n",
              "      <td>0.0</td>\n",
              "      <td>0.0</td>\n",
              "      <td>0</td>\n",
              "      <td>0</td>\n",
              "      <td>0</td>\n",
              "      <td>0</td>\n",
              "      <td>0</td>\n",
              "      <td>0</td>\n",
              "      <td>0</td>\n",
              "      <td>0</td>\n",
              "      <td>1</td>\n",
              "      <td>0</td>\n",
              "      <td>0</td>\n",
              "      <td>1</td>\n",
              "      <td>0</td>\n",
              "      <td>0</td>\n",
              "      <td>0</td>\n",
              "      <td>0</td>\n",
              "      <td>0</td>\n",
              "      <td>1</td>\n",
              "      <td>0</td>\n",
              "      <td>0</td>\n",
              "      <td>0</td>\n",
              "      <td>1</td>\n",
              "      <td>0</td>\n",
              "      <td>0</td>\n",
              "      <td>0</td>\n",
              "      <td>0</td>\n",
              "      <td>0</td>\n",
              "      <td>0</td>\n",
              "      <td>0</td>\n",
              "      <td>0</td>\n",
              "      <td>1</td>\n",
              "      <td>0</td>\n",
              "      <td>0</td>\n",
              "      <td>0</td>\n",
              "      <td>0</td>\n",
              "      <td>0</td>\n",
              "      <td>0</td>\n",
              "      <td>1</td>\n",
              "      <td>0</td>\n",
              "      <td>0</td>\n",
              "      <td>0</td>\n",
              "      <td>0</td>\n",
              "      <td>0</td>\n",
              "      <td>0</td>\n",
              "    </tr>\n",
              "    <tr>\n",
              "      <th>2</th>\n",
              "      <td>3</td>\n",
              "      <td>commissioning machinery assistant cma</td>\n",
              "      <td>valor services provides workforce solutions me...</td>\n",
              "      <td>client located houston actively seeking experi...</td>\n",
              "      <td>0</td>\n",
              "      <td>0</td>\n",
              "      <td>1</td>\n",
              "      <td>0</td>\n",
              "      <td>1.0</td>\n",
              "      <td>1</td>\n",
              "      <td>1.0</td>\n",
              "      <td>1.0</td>\n",
              "      <td>1.0</td>\n",
              "      <td>0.0</td>\n",
              "      <td>0</td>\n",
              "      <td>0</td>\n",
              "      <td>0</td>\n",
              "      <td>1</td>\n",
              "      <td>0</td>\n",
              "      <td>0</td>\n",
              "      <td>0</td>\n",
              "      <td>0</td>\n",
              "      <td>0</td>\n",
              "      <td>0</td>\n",
              "      <td>0</td>\n",
              "      <td>0</td>\n",
              "      <td>1</td>\n",
              "      <td>0</td>\n",
              "      <td>0</td>\n",
              "      <td>0</td>\n",
              "      <td>0</td>\n",
              "      <td>1</td>\n",
              "      <td>0</td>\n",
              "      <td>0</td>\n",
              "      <td>0</td>\n",
              "      <td>1</td>\n",
              "      <td>0</td>\n",
              "      <td>0</td>\n",
              "      <td>0</td>\n",
              "      <td>0</td>\n",
              "      <td>0</td>\n",
              "      <td>0</td>\n",
              "      <td>0</td>\n",
              "      <td>0</td>\n",
              "      <td>0</td>\n",
              "      <td>1</td>\n",
              "      <td>0</td>\n",
              "      <td>0</td>\n",
              "      <td>0</td>\n",
              "      <td>0</td>\n",
              "      <td>0</td>\n",
              "      <td>0</td>\n",
              "      <td>0</td>\n",
              "      <td>0</td>\n",
              "      <td>1</td>\n",
              "      <td>0</td>\n",
              "      <td>0</td>\n",
              "      <td>0</td>\n",
              "    </tr>\n",
              "    <tr>\n",
              "      <th>3</th>\n",
              "      <td>4</td>\n",
              "      <td>account executive washington dc</td>\n",
              "      <td>passion improving quality life geography heart...</td>\n",
              "      <td>company esri environmental systems research in...</td>\n",
              "      <td>0</td>\n",
              "      <td>0</td>\n",
              "      <td>1</td>\n",
              "      <td>0</td>\n",
              "      <td>1.0</td>\n",
              "      <td>1</td>\n",
              "      <td>0.0</td>\n",
              "      <td>0.0</td>\n",
              "      <td>0.0</td>\n",
              "      <td>0.0</td>\n",
              "      <td>0</td>\n",
              "      <td>0</td>\n",
              "      <td>0</td>\n",
              "      <td>1</td>\n",
              "      <td>0</td>\n",
              "      <td>0</td>\n",
              "      <td>0</td>\n",
              "      <td>0</td>\n",
              "      <td>0</td>\n",
              "      <td>0</td>\n",
              "      <td>0</td>\n",
              "      <td>1</td>\n",
              "      <td>0</td>\n",
              "      <td>0</td>\n",
              "      <td>0</td>\n",
              "      <td>0</td>\n",
              "      <td>1</td>\n",
              "      <td>0</td>\n",
              "      <td>1</td>\n",
              "      <td>0</td>\n",
              "      <td>0</td>\n",
              "      <td>0</td>\n",
              "      <td>0</td>\n",
              "      <td>0</td>\n",
              "      <td>0</td>\n",
              "      <td>0</td>\n",
              "      <td>0</td>\n",
              "      <td>0</td>\n",
              "      <td>0</td>\n",
              "      <td>0</td>\n",
              "      <td>0</td>\n",
              "      <td>0</td>\n",
              "      <td>0</td>\n",
              "      <td>0</td>\n",
              "      <td>0</td>\n",
              "      <td>0</td>\n",
              "      <td>0</td>\n",
              "      <td>0</td>\n",
              "      <td>0</td>\n",
              "      <td>0</td>\n",
              "      <td>0</td>\n",
              "      <td>0</td>\n",
              "      <td>1</td>\n",
              "      <td>0</td>\n",
              "    </tr>\n",
              "    <tr>\n",
              "      <th>4</th>\n",
              "      <td>5</td>\n",
              "      <td>bill review manager</td>\n",
              "      <td>spotsource solutions llc global human capital ...</td>\n",
              "      <td>job title itemization review managerlocation f...</td>\n",
              "      <td>0</td>\n",
              "      <td>0</td>\n",
              "      <td>1</td>\n",
              "      <td>1</td>\n",
              "      <td>1.0</td>\n",
              "      <td>1</td>\n",
              "      <td>1.0</td>\n",
              "      <td>1.0</td>\n",
              "      <td>0.0</td>\n",
              "      <td>0.0</td>\n",
              "      <td>0</td>\n",
              "      <td>0</td>\n",
              "      <td>0</td>\n",
              "      <td>1</td>\n",
              "      <td>0</td>\n",
              "      <td>0</td>\n",
              "      <td>0</td>\n",
              "      <td>0</td>\n",
              "      <td>0</td>\n",
              "      <td>0</td>\n",
              "      <td>0</td>\n",
              "      <td>1</td>\n",
              "      <td>0</td>\n",
              "      <td>0</td>\n",
              "      <td>0</td>\n",
              "      <td>0</td>\n",
              "      <td>1</td>\n",
              "      <td>0</td>\n",
              "      <td>1</td>\n",
              "      <td>0</td>\n",
              "      <td>0</td>\n",
              "      <td>0</td>\n",
              "      <td>0</td>\n",
              "      <td>0</td>\n",
              "      <td>0</td>\n",
              "      <td>0</td>\n",
              "      <td>0</td>\n",
              "      <td>1</td>\n",
              "      <td>0</td>\n",
              "      <td>0</td>\n",
              "      <td>0</td>\n",
              "      <td>0</td>\n",
              "      <td>0</td>\n",
              "      <td>0</td>\n",
              "      <td>0</td>\n",
              "      <td>0</td>\n",
              "      <td>0</td>\n",
              "      <td>0</td>\n",
              "      <td>0</td>\n",
              "      <td>0</td>\n",
              "      <td>0</td>\n",
              "      <td>0</td>\n",
              "      <td>0</td>\n",
              "      <td>0</td>\n",
              "    </tr>\n",
              "  </tbody>\n",
              "</table>\n",
              "</div>"
            ],
            "text/plain": [
              "   job_id                                    title  ... function_sales fraudulent\n",
              "0       1                         marketing intern  ...              0          0\n",
              "1       2  customer service cloud video production  ...              0          0\n",
              "2       3    commissioning machinery assistant cma  ...              0          0\n",
              "3       4          account executive washington dc  ...              1          0\n",
              "4       5                      bill review manager  ...              0          0\n",
              "\n",
              "[5 rows x 58 columns]"
            ]
          },
          "metadata": {
            "tags": []
          },
          "execution_count": 7
        }
      ]
    },
    {
      "cell_type": "code",
      "metadata": {
        "id": "BMtKXVBBhClp",
        "colab_type": "code",
        "colab": {}
      },
      "source": [
        "non_text=df1 = clean_data.drop(['title', 'job_id', 'company_profile','description','fraudulent'], axis=1).to_numpy()"
      ],
      "execution_count": 0,
      "outputs": []
    },
    {
      "cell_type": "code",
      "metadata": {
        "id": "iID39gI6hIe1",
        "colab_type": "code",
        "colab": {}
      },
      "source": [
        "clean_data[['company_profile','description']]=clean_data[['company_profile','description']].replace({np.NAN: \"Not provided\"})\n",
        "clean_data['company_profile']=clean_data['company_profile'].astype(str)\n",
        "clean_data['description']=clean_data['description'].astype(str)"
      ],
      "execution_count": 0,
      "outputs": []
    },
    {
      "cell_type": "code",
      "metadata": {
        "id": "CHeiMUEqhW1Y",
        "colab_type": "code",
        "colab": {}
      },
      "source": [
        "from sklearn.feature_extraction.text import CountVectorizer\n",
        "vectorizer = CountVectorizer(max_features=3000, ngram_range=(1,1))\n",
        "X1 = vectorizer.fit_transform(clean_data[\"company_profile\"]).toarray()\n",
        "X1_train=X1[train_indices]\n",
        "X1_test=X1[test_indices]\n",
        "Y_train=clean_data['fraudulent'][train_indices]\n",
        "Y_test=clean_data['fraudulent'][test_indices]\n",
        "\n",
        "X2 = vectorizer.fit_transform(clean_data[\"description\"]).toarray()\n",
        "X2_train=X2[train_indices]\n",
        "X2_test=X2[test_indices]\n",
        "Y_train=clean_data['fraudulent'][train_indices]\n",
        "Y_test=clean_data['fraudulent'][test_indices]"
      ],
      "execution_count": 0,
      "outputs": []
    },
    {
      "cell_type": "code",
      "metadata": {
        "id": "ojV-Kh7Khy_j",
        "colab_type": "code",
        "colab": {}
      },
      "source": [
        "Y1 = pd.get_dummies(clean_data['fraudulent']).values\n",
        "Y1_train=Y1[train_indices]\n",
        "Y1_test=Y1[test_indices]"
      ],
      "execution_count": 0,
      "outputs": []
    },
    {
      "cell_type": "code",
      "metadata": {
        "id": "uF_uYDhObyeF",
        "colab_type": "code",
        "outputId": "5c9c93a1-89e2-4486-8734-c07beadc7cd5",
        "colab": {
          "base_uri": "https://localhost:8080/",
          "height": 969
        }
      },
      "source": [
        "max_fatures = 30000\n",
        "model1 = Sequential()\n",
        "model1.add(Dense(200,activation='softmax',input_shape = (X1.shape[1],)))\n",
        "model1.add(Dense(50,activation='softmax'))\n",
        "model1.add(Dense(2,activation='softmax'))\n",
        "\n",
        "model2 = Sequential()\n",
        "model2.add(Dense(200,activation='softmax',input_shape = (X2.shape[1],)))\n",
        "model2.add(Dense(50,activation='softmax'))\n",
        "model2.add(Dense(2,activation='softmax'))\n",
        "\n",
        "model3 = Sequential()\n",
        "model3.add(Dense(80,input_dim=non_text.shape[1],activation='relu'))\n",
        "model3.add(Dense(40,activation='relu'))\n",
        "model3.add(Dense(2,activation='sigmoid'))\n",
        "\n",
        "model_concat = concatenate([model1.output, model2.output, model3.output], axis=-1)\n",
        "model_concat = Dense(40, activation='sigmoid')(model_concat)\n",
        "model_concat = Dense(2, activation='softmax')(model_concat)\n",
        "model= Model(inputs=[model1.input, model2.input, model3.input], outputs=model_concat)\n",
        "model.compile(loss = 'categorical_crossentropy', optimizer='adam',metrics = ['accuracy'])\n",
        "print(model.summary())\n",
        "history=model.fit([X1_train, X2_train,non_text[train_indices]], Y1_train, epochs = 7, batch_size=30,verbose = 2)\n",
        "\n",
        "y_pred=model.predict([X1_test, X2_test,non_text[test_indices]],verbose = 2, batch_size = 30)\n",
        "y_pred1=np.argmax(y_pred,axis=1)\n",
        "Y1_test1=np.argmax(Y1_test,axis=1)\n",
        "print(f1_score(Y1_test1, y_pred1))"
      ],
      "execution_count": 28,
      "outputs": [
        {
          "output_type": "stream",
          "text": [
            "Model: \"model_9\"\n",
            "__________________________________________________________________________________________________\n",
            "Layer (type)                    Output Shape         Param #     Connected to                     \n",
            "==================================================================================================\n",
            "dense_79_input (InputLayer)     (None, 3000)         0                                            \n",
            "__________________________________________________________________________________________________\n",
            "dense_82_input (InputLayer)     (None, 3000)         0                                            \n",
            "__________________________________________________________________________________________________\n",
            "dense_85_input (InputLayer)     (None, 53)           0                                            \n",
            "__________________________________________________________________________________________________\n",
            "dense_79 (Dense)                (None, 200)          600200      dense_79_input[0][0]             \n",
            "__________________________________________________________________________________________________\n",
            "dense_82 (Dense)                (None, 200)          600200      dense_82_input[0][0]             \n",
            "__________________________________________________________________________________________________\n",
            "dense_85 (Dense)                (None, 80)           4320        dense_85_input[0][0]             \n",
            "__________________________________________________________________________________________________\n",
            "dense_80 (Dense)                (None, 50)           10050       dense_79[0][0]                   \n",
            "__________________________________________________________________________________________________\n",
            "dense_83 (Dense)                (None, 50)           10050       dense_82[0][0]                   \n",
            "__________________________________________________________________________________________________\n",
            "dense_86 (Dense)                (None, 40)           3240        dense_85[0][0]                   \n",
            "__________________________________________________________________________________________________\n",
            "dense_81 (Dense)                (None, 2)            102         dense_80[0][0]                   \n",
            "__________________________________________________________________________________________________\n",
            "dense_84 (Dense)                (None, 2)            102         dense_83[0][0]                   \n",
            "__________________________________________________________________________________________________\n",
            "dense_87 (Dense)                (None, 2)            82          dense_86[0][0]                   \n",
            "__________________________________________________________________________________________________\n",
            "concatenate_9 (Concatenate)     (None, 6)            0           dense_81[0][0]                   \n",
            "                                                                 dense_84[0][0]                   \n",
            "                                                                 dense_87[0][0]                   \n",
            "__________________________________________________________________________________________________\n",
            "dense_88 (Dense)                (None, 40)           280         concatenate_9[0][0]              \n",
            "__________________________________________________________________________________________________\n",
            "dense_89 (Dense)                (None, 2)            82          dense_88[0][0]                   \n",
            "==================================================================================================\n",
            "Total params: 1,228,708\n",
            "Trainable params: 1,228,708\n",
            "Non-trainable params: 0\n",
            "__________________________________________________________________________________________________\n",
            "None\n",
            "Epoch 1/7\n",
            " - 14s - loss: 0.3657 - accuracy: 0.8675\n",
            "Epoch 2/7\n",
            " - 13s - loss: 0.0459 - accuracy: 0.9881\n",
            "Epoch 3/7\n",
            " - 14s - loss: 0.0151 - accuracy: 0.9966\n",
            "Epoch 4/7\n",
            " - 13s - loss: 0.0078 - accuracy: 0.9983\n",
            "Epoch 5/7\n",
            " - 14s - loss: 0.0041 - accuracy: 0.9991\n",
            "Epoch 6/7\n",
            " - 14s - loss: 0.0017 - accuracy: 0.9999\n",
            "Epoch 7/7\n",
            " - 14s - loss: 0.0017 - accuracy: 0.9995\n",
            "0.8166666666666667\n"
          ],
          "name": "stdout"
        }
      ]
    },
    {
      "cell_type": "code",
      "metadata": {
        "id": "mtylL4rqSFod",
        "colab_type": "code",
        "colab": {
          "base_uri": "https://localhost:8080/",
          "height": 119
        },
        "outputId": "72a25f66-4deb-41d2-e4ba-0ba0c644dbc5"
      },
      "source": [
        "from sklearn.metrics import classification_report, confusion_matrix,f1_score,accuracy_score, precision_score, recall_score\n",
        "print(f1_score(Y1_test1, y_pred1))\n",
        "print(confusion_matrix(Y1_test1, y_pred1))\n",
        "print(accuracy_score(Y1_test1, y_pred1))\n",
        "print(precision_score(Y1_test1, y_pred1))\n",
        "print(recall_score(Y1_test1, y_pred1))"
      ],
      "execution_count": 29,
      "outputs": [
        {
          "output_type": "stream",
          "text": [
            "0.8166666666666667\n",
            "[[5080   24]\n",
            " [  64  196]]\n",
            "0.9835943325876212\n",
            "0.8909090909090909\n",
            "0.7538461538461538\n"
          ],
          "name": "stdout"
        }
      ]
    },
    {
      "cell_type": "code",
      "metadata": {
        "id": "POMC92xPS7xR",
        "colab_type": "code",
        "colab": {
          "base_uri": "https://localhost:8080/",
          "height": 295
        },
        "outputId": "fcd65908-543d-43cf-819e-7561762b7b8d"
      },
      "source": [
        "training_loss = history.history['loss']\n",
        "epoch_count = range(1, len(training_loss) + 1)\n",
        "plt.plot(epoch_count, training_loss)\n",
        "plt.title('Training Loss Plot')\n",
        "plt.xlabel('Epoch')\n",
        "plt.ylabel('Training Loss')\n",
        "plt.show();"
      ],
      "execution_count": 30,
      "outputs": [
        {
          "output_type": "display_data",
          "data": {
            "image/png": "[encoded data removed]",
            "text/plain": [
              "<Figure size 432x288 with 1 Axes>"
            ]
          },
          "metadata": {
            "tags": [],
            "needs_background": "light"
          }
        }
      ]
    },
    {
      "cell_type": "code",
      "metadata": {
        "id": "hnI-mb2uf3q8",
        "colab_type": "code",
        "colab": {}
      },
      "source": [
        "train_indices, test_indices, y_train, y_test = train_test_split(np.arange(len(clean_data)), clean_data['fraudulent'],\n",
        "                                                    stratify=clean_data['fraudulent'], \n",
        "                                                    test_size=0.3,random_state=0)\n",
        "reduced_train_indices, val_indices, y_train, y_test = train_test_split(train_indices, clean_data.loc[train_indices]['fraudulent'],\n",
        "                                                    stratify=clean_data.loc[train_indices]['fraudulent'], \n",
        "                                                    test_size=0.2,random_state=0)"
      ],
      "execution_count": 0,
      "outputs": []
    },
    {
      "cell_type": "markdown",
      "metadata": {
        "id": "68pv7-AjrBEx",
        "colab_type": "text"
      },
      "source": [
        "# **Cross Validation**"
      ]
    },
    {
      "cell_type": "code",
      "metadata": {
        "id": "0-XJ4LDRcs6t",
        "colab_type": "code",
        "colab": {
          "base_uri": "https://localhost:8080/",
          "height": 275
        },
        "outputId": "40f0d563-92d9-4929-be2e-2dbc2cf671a9"
      },
      "source": [
        "train_indices, test_indices, y_train, y_test = train_test_split(np.arange(len(clean_data)), clean_data['fraudulent'],\n",
        "                                                    stratify=clean_data['fraudulent'], \n",
        "                                                    test_size=0.3,random_state=0)\n",
        "\n",
        "from sklearn.model_selection import StratifiedKFold\n",
        "skf = StratifiedKFold(n_splits=4,random_state=0)\n",
        "skf.get_n_splits(train_indices, y_train)\n",
        "stratified_index=[]\n",
        "for train_index, test_index in skf.split(train_indices, y_train):\n",
        "  print(\"TRAIN:\", train_index, \"TEST:\", test_index)\n",
        "  stratified_index.append({\"train\":train_index,\"test\":test_index})\n",
        "stratified_index"
      ],
      "execution_count": 33,
      "outputs": [
        {
          "output_type": "stream",
          "text": [
            "TRAIN: [ 3125  3126  3127 ... 12513 12514 12515] TEST: [   0    1    2 ... 3173 3176 3207]\n",
            "TRAIN: [    0     1     2 ... 12513 12514 12515] TEST: [3125 3126 3127 ... 6442 6489 6503]\n",
            "TRAIN: [    0     1     2 ... 12513 12514 12515] TEST: [6244 6245 6246 ... 9958 9959 9962]\n",
            "TRAIN: [   0    1    2 ... 9958 9959 9962] TEST: [ 9356  9357  9358 ... 12513 12514 12515]\n"
          ],
          "name": "stdout"
        },
        {
          "output_type": "stream",
          "text": [
            "/usr/local/lib/python3.6/dist-packages/sklearn/model_selection/_split.py:296: FutureWarning: Setting a random_state has no effect since shuffle is False. This will raise an error in 0.24. You should leave random_state to its default (None), or set shuffle=True.\n",
            "  FutureWarning\n"
          ],
          "name": "stderr"
        },
        {
          "output_type": "execute_result",
          "data": {
            "text/plain": [
              "[{'test': array([   0,    1,    2, ..., 3173, 3176, 3207]),\n",
              "  'train': array([ 3125,  3126,  3127, ..., 12513, 12514, 12515])},\n",
              " {'test': array([3125, 3126, 3127, ..., 6442, 6489, 6503]),\n",
              "  'train': array([    0,     1,     2, ..., 12513, 12514, 12515])},\n",
              " {'test': array([6244, 6245, 6246, ..., 9958, 9959, 9962]),\n",
              "  'train': array([    0,     1,     2, ..., 12513, 12514, 12515])},\n",
              " {'test': array([ 9356,  9357,  9358, ..., 12513, 12514, 12515]),\n",
              "  'train': array([   0,    1,    2, ..., 9958, 9959, 9962])}]"
            ]
          },
          "metadata": {
            "tags": []
          },
          "execution_count": 33
        }
      ]
    },
    {
      "cell_type": "code",
      "metadata": {
        "id": "zqDVinhbrFpw",
        "colab_type": "code",
        "colab": {
          "base_uri": "https://localhost:8080/",
          "height": 170
        },
        "outputId": "b85aa884-454d-4676-d5fb-a502365fe36e"
      },
      "source": [
        "from itertools import product\n",
        "batch_size = [20, 30, 40]\n",
        "epochs = [4, 7, 10]\n",
        "param_grid = list(product(batch_size, epochs))\n",
        "param_grid"
      ],
      "execution_count": 34,
      "outputs": [
        {
          "output_type": "execute_result",
          "data": {
            "text/plain": [
              "[(20, 4),\n",
              " (20, 7),\n",
              " (20, 10),\n",
              " (30, 4),\n",
              " (30, 7),\n",
              " (30, 10),\n",
              " (40, 4),\n",
              " (40, 7),\n",
              " (40, 10)]"
            ]
          },
          "metadata": {
            "tags": []
          },
          "execution_count": 34
        }
      ]
    },
    {
      "cell_type": "code",
      "metadata": {
        "id": "dyzE4SpFsWcx",
        "colab_type": "code",
        "colab": {
          "base_uri": "https://localhost:8080/",
          "height": 1000
        },
        "outputId": "68c1db9d-3e4c-4b13-deb7-9e5bc6d29204"
      },
      "source": [
        "F_1_cv=[]\n",
        "embed_dim = 500\n",
        "lstm_out = 200\n",
        "from statistics import mean \n",
        "from imblearn.over_sampling import RandomOverSampler\n",
        "ros = RandomOverSampler(random_state=0)\n",
        "\n",
        "for i in param_grid:\n",
        "  f1=[]\n",
        "  for j in stratified_index:\n",
        "    X_resampled, y_resampled = ros.fit_resample(np.array(j[\"train\"]).reshape(-1, 1), clean_data.iloc[j[\"train\"]]['fraudulent'])\n",
        "    X_resampled=X_resampled.flatten()\n",
        "\n",
        "    model1 = Sequential()\n",
        "    model1.add(Dense(200,activation='softmax',input_shape = (X1.shape[1],)))\n",
        "    model1.add(Dense(50,activation='softmax'))\n",
        "    model1.add(Dense(2,activation='softmax'))\n",
        "\n",
        "    model2 = Sequential()\n",
        "    model2.add(Dense(200,activation='softmax',input_shape = (X2.shape[1],)))\n",
        "    model2.add(Dense(50,activation='softmax'))\n",
        "    model2.add(Dense(2,activation='softmax'))\n",
        "\n",
        "    model3 = Sequential()\n",
        "    model3.add(Dense(80,input_dim=non_text.shape[1],activation='relu'))\n",
        "    model3.add(Dense(40,activation='relu'))\n",
        "    model3.add(Dense(2,activation='sigmoid'))\n",
        "\n",
        "    model_concat = concatenate([model1.output, model2.output, model3.output], axis=-1)\n",
        "    model_concat = Dense(40, activation='sigmoid')(model_concat)\n",
        "    model_concat = Dense(2, activation='softmax')(model_concat)\n",
        "    model= Model(inputs=[model1.input, model2.input, model3.input], outputs=model_concat)\n",
        "    model.compile(loss = 'categorical_crossentropy', optimizer='adam',metrics = ['accuracy'])\n",
        "    model.fit([X1[X_resampled], X2[X_resampled],non_text[X_resampled]], Y1[X_resampled], epochs = i[1], batch_size=i[0],verbose = 2)\n",
        "\n",
        "    y_pred=model.predict([X1[j[\"test\"]], X2[j[\"test\"]],non_text[j[\"test\"]]],verbose = 2, batch_size = i[0])\n",
        "    y_pred1=np.argmax(y_pred,axis=1)\n",
        "    Y1_test1=np.argmax(Y1[j[\"test\"]],axis=1)\n",
        "    print(f1_score(Y1_test1, y_pred1))\n",
        "    f1.append(f1_score(Y1_test1, y_pred1))\n",
        "  F_1_cv.append([i,sum(f1)/4])"
      ],
      "execution_count": 35,
      "outputs": [
        {
          "output_type": "stream",
          "text": [
            "/usr/local/lib/python3.6/dist-packages/sklearn/utils/deprecation.py:87: FutureWarning: Function safe_indexing is deprecated; safe_indexing is deprecated in version 0.22 and will be removed in version 0.24.\n",
            "  warnings.warn(msg, category=FutureWarning)\n"
          ],
          "name": "stderr"
        },
        {
          "output_type": "stream",
          "text": [
            "Epoch 1/4\n",
            " - 16s - loss: 0.3700 - accuracy: 0.8606\n",
            "Epoch 2/4\n",
            " - 16s - loss: 0.0465 - accuracy: 0.9875\n",
            "Epoch 3/4\n",
            " - 16s - loss: 0.0111 - accuracy: 0.9984\n",
            "Epoch 4/4\n",
            " - 16s - loss: 0.0048 - accuracy: 0.9993\n",
            "0.6829268292682926\n"
          ],
          "name": "stdout"
        },
        {
          "output_type": "stream",
          "text": [
            "/usr/local/lib/python3.6/dist-packages/sklearn/utils/deprecation.py:87: FutureWarning: Function safe_indexing is deprecated; safe_indexing is deprecated in version 0.22 and will be removed in version 0.24.\n",
            "  warnings.warn(msg, category=FutureWarning)\n"
          ],
          "name": "stderr"
        },
        {
          "output_type": "stream",
          "text": [
            "Epoch 1/4\n",
            " - 18s - loss: 0.3707 - accuracy: 0.8709\n",
            "Epoch 2/4\n",
            " - 19s - loss: 0.1240 - accuracy: 0.9600\n",
            "Epoch 3/4\n",
            " - 17s - loss: 0.0147 - accuracy: 0.9972\n",
            "Epoch 4/4\n",
            " - 17s - loss: 0.0039 - accuracy: 0.9998\n",
            "0.5494505494505494\n"
          ],
          "name": "stdout"
        },
        {
          "output_type": "stream",
          "text": [
            "/usr/local/lib/python3.6/dist-packages/sklearn/utils/deprecation.py:87: FutureWarning: Function safe_indexing is deprecated; safe_indexing is deprecated in version 0.22 and will be removed in version 0.24.\n",
            "  warnings.warn(msg, category=FutureWarning)\n"
          ],
          "name": "stderr"
        },
        {
          "output_type": "stream",
          "text": [
            "Epoch 1/4\n",
            " - 18s - loss: 0.4043 - accuracy: 0.8431\n",
            "Epoch 2/4\n",
            " - 17s - loss: 0.0401 - accuracy: 0.9910\n",
            "Epoch 3/4\n",
            " - 17s - loss: 0.0078 - accuracy: 0.9987\n",
            "Epoch 4/4\n",
            " - 17s - loss: 0.0036 - accuracy: 0.9992\n",
            "0.5901639344262294\n"
          ],
          "name": "stdout"
        },
        {
          "output_type": "stream",
          "text": [
            "/usr/local/lib/python3.6/dist-packages/sklearn/utils/deprecation.py:87: FutureWarning: Function safe_indexing is deprecated; safe_indexing is deprecated in version 0.22 and will be removed in version 0.24.\n",
            "  warnings.warn(msg, category=FutureWarning)\n"
          ],
          "name": "stderr"
        },
        {
          "output_type": "stream",
          "text": [
            "Epoch 1/4\n",
            " - 18s - loss: 0.3995 - accuracy: 0.8546\n",
            "Epoch 2/4\n",
            " - 17s - loss: 0.0520 - accuracy: 0.9866\n",
            "Epoch 3/4\n",
            " - 17s - loss: 0.0122 - accuracy: 0.9983\n",
            "Epoch 4/4\n",
            " - 17s - loss: 0.0057 - accuracy: 0.9993\n",
            "0.7101449275362319\n"
          ],
          "name": "stdout"
        },
        {
          "output_type": "stream",
          "text": [
            "/usr/local/lib/python3.6/dist-packages/sklearn/utils/deprecation.py:87: FutureWarning: Function safe_indexing is deprecated; safe_indexing is deprecated in version 0.22 and will be removed in version 0.24.\n",
            "  warnings.warn(msg, category=FutureWarning)\n"
          ],
          "name": "stderr"
        },
        {
          "output_type": "stream",
          "text": [
            "Epoch 1/7\n",
            " - 18s - loss: 0.3845 - accuracy: 0.8554\n",
            "Epoch 2/7\n",
            " - 17s - loss: 0.0387 - accuracy: 0.9911\n",
            "Epoch 3/7\n",
            " - 17s - loss: 0.0093 - accuracy: 0.9988\n",
            "Epoch 4/7\n",
            " - 17s - loss: 0.0037 - accuracy: 0.9997\n",
            "Epoch 5/7\n",
            " - 17s - loss: 0.0023 - accuracy: 0.9997\n",
            "Epoch 6/7\n",
            " - 17s - loss: 9.6469e-04 - accuracy: 1.0000\n",
            "Epoch 7/7\n",
            " - 17s - loss: 0.0016 - accuracy: 0.9997\n",
            "0.6832298136645962\n"
          ],
          "name": "stdout"
        },
        {
          "output_type": "stream",
          "text": [
            "/usr/local/lib/python3.6/dist-packages/sklearn/utils/deprecation.py:87: FutureWarning: Function safe_indexing is deprecated; safe_indexing is deprecated in version 0.22 and will be removed in version 0.24.\n",
            "  warnings.warn(msg, category=FutureWarning)\n"
          ],
          "name": "stderr"
        },
        {
          "output_type": "stream",
          "text": [
            "Epoch 1/7\n",
            " - 18s - loss: 0.4175 - accuracy: 0.8568\n",
            "Epoch 2/7\n",
            " - 17s - loss: 0.0453 - accuracy: 0.9870\n",
            "Epoch 3/7\n",
            " - 17s - loss: 0.0079 - accuracy: 0.9992\n",
            "Epoch 4/7\n",
            " - 17s - loss: 0.0033 - accuracy: 0.9997\n",
            "Epoch 5/7\n",
            " - 17s - loss: 0.0015 - accuracy: 1.0000\n",
            "Epoch 6/7\n",
            " - 17s - loss: 5.3389e-04 - accuracy: 1.0000\n",
            "Epoch 7/7\n",
            " - 17s - loss: 2.7894e-04 - accuracy: 1.0000\n",
            "0.45378151260504207\n"
          ],
          "name": "stdout"
        },
        {
          "output_type": "stream",
          "text": [
            "/usr/local/lib/python3.6/dist-packages/sklearn/utils/deprecation.py:87: FutureWarning: Function safe_indexing is deprecated; safe_indexing is deprecated in version 0.22 and will be removed in version 0.24.\n",
            "  warnings.warn(msg, category=FutureWarning)\n"
          ],
          "name": "stderr"
        },
        {
          "output_type": "stream",
          "text": [
            "Epoch 1/7\n",
            " - 18s - loss: 0.4112 - accuracy: 0.8412\n",
            "Epoch 2/7\n",
            " - 18s - loss: 0.0613 - accuracy: 0.9823\n",
            "Epoch 3/7\n",
            " - 18s - loss: 0.0083 - accuracy: 0.9993\n",
            "Epoch 4/7\n",
            " - 18s - loss: 0.0032 - accuracy: 0.9997\n",
            "Epoch 5/7\n",
            " - 19s - loss: 0.0029 - accuracy: 0.9994\n",
            "Epoch 6/7\n",
            " - 18s - loss: 8.1906e-04 - accuracy: 1.0000\n",
            "Epoch 7/7\n",
            " - 18s - loss: 4.7480e-04 - accuracy: 1.0000\n",
            "0.6024096385542169\n"
          ],
          "name": "stdout"
        },
        {
          "output_type": "stream",
          "text": [
            "/usr/local/lib/python3.6/dist-packages/sklearn/utils/deprecation.py:87: FutureWarning: Function safe_indexing is deprecated; safe_indexing is deprecated in version 0.22 and will be removed in version 0.24.\n",
            "  warnings.warn(msg, category=FutureWarning)\n"
          ],
          "name": "stderr"
        },
        {
          "output_type": "stream",
          "text": [
            "Epoch 1/7\n",
            " - 19s - loss: 0.4023 - accuracy: 0.8510\n",
            "Epoch 2/7\n",
            " - 19s - loss: 0.0653 - accuracy: 0.9800\n",
            "Epoch 3/7\n",
            " - 18s - loss: 0.0161 - accuracy: 0.9968\n",
            "Epoch 4/7\n",
            " - 18s - loss: 0.0082 - accuracy: 0.9982\n",
            "Epoch 5/7\n",
            " - 18s - loss: 0.0081 - accuracy: 0.9981\n",
            "Epoch 6/7\n",
            " - 19s - loss: 0.0048 - accuracy: 0.9985\n",
            "Epoch 7/7\n",
            " - 18s - loss: 0.0022 - accuracy: 0.9995\n",
            "0.6762589928057554\n"
          ],
          "name": "stdout"
        },
        {
          "output_type": "stream",
          "text": [
            "/usr/local/lib/python3.6/dist-packages/sklearn/utils/deprecation.py:87: FutureWarning: Function safe_indexing is deprecated; safe_indexing is deprecated in version 0.22 and will be removed in version 0.24.\n",
            "  warnings.warn(msg, category=FutureWarning)\n"
          ],
          "name": "stderr"
        },
        {
          "output_type": "stream",
          "text": [
            "Epoch 1/10\n",
            " - 20s - loss: 0.3738 - accuracy: 0.8680\n",
            "Epoch 2/10\n",
            " - 18s - loss: 0.0556 - accuracy: 0.9830\n",
            "Epoch 3/10\n",
            " - 18s - loss: 0.0141 - accuracy: 0.9970\n",
            "Epoch 4/10\n",
            " - 18s - loss: 0.0067 - accuracy: 0.9985\n",
            "Epoch 5/10\n",
            " - 18s - loss: 0.0039 - accuracy: 0.9991\n",
            "Epoch 6/10\n",
            " - 18s - loss: 0.0023 - accuracy: 0.9994\n",
            "Epoch 7/10\n",
            " - 17s - loss: 0.0028 - accuracy: 0.9991\n",
            "Epoch 8/10\n",
            " - 18s - loss: 0.0018 - accuracy: 0.9996\n",
            "Epoch 9/10\n",
            " - 17s - loss: 0.0011 - accuracy: 0.9996\n",
            "Epoch 10/10\n",
            " - 18s - loss: 0.0011 - accuracy: 0.9998\n",
            "0.5930232558139535\n"
          ],
          "name": "stdout"
        },
        {
          "output_type": "stream",
          "text": [
            "/usr/local/lib/python3.6/dist-packages/sklearn/utils/deprecation.py:87: FutureWarning: Function safe_indexing is deprecated; safe_indexing is deprecated in version 0.22 and will be removed in version 0.24.\n",
            "  warnings.warn(msg, category=FutureWarning)\n"
          ],
          "name": "stderr"
        },
        {
          "output_type": "stream",
          "text": [
            "Epoch 1/10\n",
            " - 19s - loss: 0.3502 - accuracy: 0.8806\n",
            "Epoch 2/10\n",
            " - 18s - loss: 0.0311 - accuracy: 0.9915\n",
            "Epoch 3/10\n",
            " - 18s - loss: 0.0058 - accuracy: 0.9997\n",
            "Epoch 4/10\n",
            " - 18s - loss: 0.0028 - accuracy: 0.9998\n",
            "Epoch 5/10\n",
            " - 18s - loss: 0.0014 - accuracy: 0.9999\n",
            "Epoch 6/10\n",
            " - 18s - loss: 7.9594e-04 - accuracy: 1.0000\n",
            "Epoch 7/10\n",
            " - 18s - loss: 4.7974e-04 - accuracy: 1.0000\n",
            "Epoch 8/10\n",
            " - 18s - loss: 2.8167e-04 - accuracy: 1.0000\n",
            "Epoch 9/10\n",
            " - 18s - loss: 1.7407e-04 - accuracy: 1.0000\n",
            "Epoch 10/10\n",
            " - 18s - loss: 1.0328e-04 - accuracy: 1.0000\n",
            "0.5079365079365079\n"
          ],
          "name": "stdout"
        },
        {
          "output_type": "stream",
          "text": [
            "/usr/local/lib/python3.6/dist-packages/sklearn/utils/deprecation.py:87: FutureWarning: Function safe_indexing is deprecated; safe_indexing is deprecated in version 0.22 and will be removed in version 0.24.\n",
            "  warnings.warn(msg, category=FutureWarning)\n"
          ],
          "name": "stderr"
        },
        {
          "output_type": "stream",
          "text": [
            "Epoch 1/10\n",
            " - 19s - loss: 0.4044 - accuracy: 0.8345\n",
            "Epoch 2/10\n",
            " - 18s - loss: 0.0392 - accuracy: 0.9913\n",
            "Epoch 3/10\n",
            " - 18s - loss: 0.0085 - accuracy: 0.9993\n",
            "Epoch 4/10\n",
            " - 18s - loss: 0.0036 - accuracy: 0.9998\n",
            "Epoch 5/10\n",
            " - 18s - loss: 0.0018 - accuracy: 0.9999\n",
            "Epoch 6/10\n",
            " - 18s - loss: 9.2108e-04 - accuracy: 1.0000\n",
            "Epoch 7/10\n",
            " - 20s - loss: 5.0623e-04 - accuracy: 1.0000\n",
            "Epoch 8/10\n",
            " - 18s - loss: 3.0234e-04 - accuracy: 1.0000\n",
            "Epoch 9/10\n",
            " - 18s - loss: 1.7114e-04 - accuracy: 1.0000\n",
            "Epoch 10/10\n",
            " - 18s - loss: 1.0392e-04 - accuracy: 1.0000\n",
            "0.626984126984127\n"
          ],
          "name": "stdout"
        },
        {
          "output_type": "stream",
          "text": [
            "/usr/local/lib/python3.6/dist-packages/sklearn/utils/deprecation.py:87: FutureWarning: Function safe_indexing is deprecated; safe_indexing is deprecated in version 0.22 and will be removed in version 0.24.\n",
            "  warnings.warn(msg, category=FutureWarning)\n"
          ],
          "name": "stderr"
        },
        {
          "output_type": "stream",
          "text": [
            "Epoch 1/10\n",
            " - 19s - loss: 0.3998 - accuracy: 0.8553\n",
            "Epoch 2/10\n",
            " - 18s - loss: 0.0563 - accuracy: 0.9836\n",
            "Epoch 3/10\n",
            " - 18s - loss: 0.0117 - accuracy: 0.9982\n",
            "Epoch 4/10\n",
            " - 18s - loss: 0.0061 - accuracy: 0.9988\n",
            "Epoch 5/10\n",
            " - 18s - loss: 0.0032 - accuracy: 0.9995\n",
            "Epoch 6/10\n",
            " - 18s - loss: 0.0022 - accuracy: 0.9996\n",
            "Epoch 7/10\n",
            " - 18s - loss: 0.0011 - accuracy: 0.9998\n",
            "Epoch 8/10\n",
            " - 18s - loss: 6.3357e-04 - accuracy: 0.9999\n",
            "Epoch 9/10\n",
            " - 18s - loss: 3.2491e-04 - accuracy: 1.0000\n",
            "Epoch 10/10\n",
            " - 18s - loss: 0.0017 - accuracy: 0.9996\n",
            "0.7368421052631579\n"
          ],
          "name": "stdout"
        },
        {
          "output_type": "stream",
          "text": [
            "/usr/local/lib/python3.6/dist-packages/sklearn/utils/deprecation.py:87: FutureWarning: Function safe_indexing is deprecated; safe_indexing is deprecated in version 0.22 and will be removed in version 0.24.\n",
            "  warnings.warn(msg, category=FutureWarning)\n"
          ],
          "name": "stderr"
        },
        {
          "output_type": "stream",
          "text": [
            "Epoch 1/4\n",
            " - 14s - loss: 0.4370 - accuracy: 0.8459\n",
            "Epoch 2/4\n",
            " - 13s - loss: 0.1316 - accuracy: 0.9550\n",
            "Epoch 3/4\n",
            " - 13s - loss: 0.0222 - accuracy: 0.9962\n",
            "Epoch 4/4\n",
            " - 13s - loss: 0.0086 - accuracy: 0.9988\n",
            "0.7052023121387283\n"
          ],
          "name": "stdout"
        },
        {
          "output_type": "stream",
          "text": [
            "/usr/local/lib/python3.6/dist-packages/sklearn/utils/deprecation.py:87: FutureWarning: Function safe_indexing is deprecated; safe_indexing is deprecated in version 0.22 and will be removed in version 0.24.\n",
            "  warnings.warn(msg, category=FutureWarning)\n"
          ],
          "name": "stderr"
        },
        {
          "output_type": "stream",
          "text": [
            "Epoch 1/4\n",
            " - 14s - loss: 0.4023 - accuracy: 0.8583\n",
            "Epoch 2/4\n",
            " - 13s - loss: 0.0605 - accuracy: 0.9791\n",
            "Epoch 3/4\n",
            " - 13s - loss: 0.0089 - accuracy: 0.9994\n",
            "Epoch 4/4\n",
            " - 13s - loss: 0.0034 - accuracy: 0.9999\n",
            "0.5375494071146245\n"
          ],
          "name": "stdout"
        },
        {
          "output_type": "stream",
          "text": [
            "/usr/local/lib/python3.6/dist-packages/sklearn/utils/deprecation.py:87: FutureWarning: Function safe_indexing is deprecated; safe_indexing is deprecated in version 0.22 and will be removed in version 0.24.\n",
            "  warnings.warn(msg, category=FutureWarning)\n"
          ],
          "name": "stderr"
        },
        {
          "output_type": "stream",
          "text": [
            "Epoch 1/4\n",
            " - 14s - loss: 0.4577 - accuracy: 0.8301\n",
            "Epoch 2/4\n",
            " - 14s - loss: 0.0965 - accuracy: 0.9685\n",
            "Epoch 3/4\n",
            " - 14s - loss: 0.0146 - accuracy: 0.9989\n",
            "Epoch 4/4\n",
            " - 13s - loss: 0.0063 - accuracy: 0.9994\n",
            "0.5668016194331984\n"
          ],
          "name": "stdout"
        },
        {
          "output_type": "stream",
          "text": [
            "/usr/local/lib/python3.6/dist-packages/sklearn/utils/deprecation.py:87: FutureWarning: Function safe_indexing is deprecated; safe_indexing is deprecated in version 0.22 and will be removed in version 0.24.\n",
            "  warnings.warn(msg, category=FutureWarning)\n"
          ],
          "name": "stderr"
        },
        {
          "output_type": "stream",
          "text": [
            "Epoch 1/4\n",
            " - 14s - loss: 0.5083 - accuracy: 0.8142\n",
            "Epoch 2/4\n",
            " - 13s - loss: 0.1324 - accuracy: 0.9553\n",
            "Epoch 3/4\n",
            " - 13s - loss: 0.0211 - accuracy: 0.9961\n",
            "Epoch 4/4\n",
            " - 13s - loss: 0.0096 - accuracy: 0.9981\n",
            "0.6944444444444444\n"
          ],
          "name": "stdout"
        },
        {
          "output_type": "stream",
          "text": [
            "/usr/local/lib/python3.6/dist-packages/sklearn/utils/deprecation.py:87: FutureWarning: Function safe_indexing is deprecated; safe_indexing is deprecated in version 0.22 and will be removed in version 0.24.\n",
            "  warnings.warn(msg, category=FutureWarning)\n"
          ],
          "name": "stderr"
        },
        {
          "output_type": "stream",
          "text": [
            "Epoch 1/7\n",
            " - 14s - loss: 0.4453 - accuracy: 0.8343\n",
            "Epoch 2/7\n",
            " - 13s - loss: 0.1013 - accuracy: 0.9666\n",
            "Epoch 3/7\n",
            " - 13s - loss: 0.0171 - accuracy: 0.9981\n",
            "Epoch 4/7\n",
            " - 13s - loss: 0.0076 - accuracy: 0.9994\n",
            "Epoch 5/7\n",
            " - 13s - loss: 0.0042 - accuracy: 0.9998\n",
            "Epoch 6/7\n",
            " - 13s - loss: 0.0028 - accuracy: 0.9997\n",
            "Epoch 7/7\n",
            " - 13s - loss: 0.0017 - accuracy: 0.9999\n",
            "0.670886075949367\n"
          ],
          "name": "stdout"
        },
        {
          "output_type": "stream",
          "text": [
            "/usr/local/lib/python3.6/dist-packages/sklearn/utils/deprecation.py:87: FutureWarning: Function safe_indexing is deprecated; safe_indexing is deprecated in version 0.22 and will be removed in version 0.24.\n",
            "  warnings.warn(msg, category=FutureWarning)\n"
          ],
          "name": "stderr"
        },
        {
          "output_type": "stream",
          "text": [
            "Epoch 1/7\n",
            " - 14s - loss: 0.4194 - accuracy: 0.8647\n",
            "Epoch 2/7\n",
            " - 13s - loss: 0.0816 - accuracy: 0.9727\n",
            "Epoch 3/7\n",
            " - 13s - loss: 0.0128 - accuracy: 0.9991\n",
            "Epoch 4/7\n",
            " - 14s - loss: 0.0050 - accuracy: 0.9997\n",
            "Epoch 5/7\n",
            " - 13s - loss: 0.0027 - accuracy: 0.9999\n",
            "Epoch 6/7\n",
            " - 13s - loss: 0.0020 - accuracy: 0.9998\n",
            "Epoch 7/7\n",
            " - 13s - loss: 0.0010 - accuracy: 1.0000\n",
            "0.525096525096525\n"
          ],
          "name": "stdout"
        },
        {
          "output_type": "stream",
          "text": [
            "/usr/local/lib/python3.6/dist-packages/sklearn/utils/deprecation.py:87: FutureWarning: Function safe_indexing is deprecated; safe_indexing is deprecated in version 0.22 and will be removed in version 0.24.\n",
            "  warnings.warn(msg, category=FutureWarning)\n"
          ],
          "name": "stderr"
        },
        {
          "output_type": "stream",
          "text": [
            "Epoch 1/7\n",
            " - 14s - loss: 0.4476 - accuracy: 0.8223\n",
            "Epoch 2/7\n",
            " - 13s - loss: 0.0751 - accuracy: 0.9759\n",
            "Epoch 3/7\n",
            " - 13s - loss: 0.0118 - accuracy: 0.9989\n",
            "Epoch 4/7\n",
            " - 13s - loss: 0.0043 - accuracy: 0.9997\n",
            "Epoch 5/7\n",
            " - 13s - loss: 0.0023 - accuracy: 0.9998\n",
            "Epoch 6/7\n",
            " - 13s - loss: 0.0014 - accuracy: 1.0000\n",
            "Epoch 7/7\n",
            " - 13s - loss: 8.6860e-04 - accuracy: 1.0000\n",
            "0.5423728813559322\n"
          ],
          "name": "stdout"
        },
        {
          "output_type": "stream",
          "text": [
            "/usr/local/lib/python3.6/dist-packages/sklearn/utils/deprecation.py:87: FutureWarning: Function safe_indexing is deprecated; safe_indexing is deprecated in version 0.22 and will be removed in version 0.24.\n",
            "  warnings.warn(msg, category=FutureWarning)\n"
          ],
          "name": "stderr"
        },
        {
          "output_type": "stream",
          "text": [
            "Epoch 1/7\n",
            " - 13s - loss: 0.4476 - accuracy: 0.8407\n",
            "Epoch 2/7\n",
            " - 12s - loss: 0.1754 - accuracy: 0.9378\n",
            "Epoch 3/7\n",
            " - 12s - loss: 0.0809 - accuracy: 0.9743\n",
            "Epoch 4/7\n",
            " - 12s - loss: 0.0242 - accuracy: 0.9949\n",
            "Epoch 5/7\n",
            " - 12s - loss: 0.0081 - accuracy: 0.9993\n",
            "Epoch 6/7\n",
            " - 12s - loss: 0.0044 - accuracy: 0.9996\n",
            "Epoch 7/7\n",
            " - 12s - loss: 0.0029 - accuracy: 0.9995\n",
            "0.7662337662337663\n"
          ],
          "name": "stdout"
        },
        {
          "output_type": "stream",
          "text": [
            "/usr/local/lib/python3.6/dist-packages/sklearn/utils/deprecation.py:87: FutureWarning: Function safe_indexing is deprecated; safe_indexing is deprecated in version 0.22 and will be removed in version 0.24.\n",
            "  warnings.warn(msg, category=FutureWarning)\n"
          ],
          "name": "stderr"
        },
        {
          "output_type": "stream",
          "text": [
            "Epoch 1/10\n",
            " - 14s - loss: 0.4845 - accuracy: 0.8286\n",
            "Epoch 2/10\n",
            " - 13s - loss: 0.1539 - accuracy: 0.9465\n",
            "Epoch 3/10\n",
            " - 13s - loss: 0.0244 - accuracy: 0.9962\n",
            "Epoch 4/10\n",
            " - 13s - loss: 0.0086 - accuracy: 0.9991\n",
            "Epoch 5/10\n",
            " - 13s - loss: 0.0047 - accuracy: 0.9997\n",
            "Epoch 6/10\n",
            " - 13s - loss: 0.0027 - accuracy: 0.9999\n",
            "Epoch 7/10\n",
            " - 13s - loss: 0.0019 - accuracy: 0.9998\n",
            "Epoch 8/10\n",
            " - 13s - loss: 0.0011 - accuracy: 0.9999\n",
            "Epoch 9/10\n",
            " - 13s - loss: 6.5197e-04 - accuracy: 1.0000\n",
            "Epoch 10/10\n",
            " - 13s - loss: 4.3780e-04 - accuracy: 1.0000\n",
            "0.7305389221556886\n"
          ],
          "name": "stdout"
        },
        {
          "output_type": "stream",
          "text": [
            "/usr/local/lib/python3.6/dist-packages/sklearn/utils/deprecation.py:87: FutureWarning: Function safe_indexing is deprecated; safe_indexing is deprecated in version 0.22 and will be removed in version 0.24.\n",
            "  warnings.warn(msg, category=FutureWarning)\n"
          ],
          "name": "stderr"
        },
        {
          "output_type": "stream",
          "text": [
            "Epoch 1/10\n",
            " - 15s - loss: 0.4094 - accuracy: 0.8555\n",
            "Epoch 2/10\n",
            " - 14s - loss: 0.0585 - accuracy: 0.9811\n",
            "Epoch 3/10\n",
            " - 14s - loss: 0.0090 - accuracy: 0.9995\n",
            "Epoch 4/10\n",
            " - 14s - loss: 0.0031 - accuracy: 0.9999\n",
            "Epoch 5/10\n",
            " - 14s - loss: 0.0015 - accuracy: 1.0000\n",
            "Epoch 6/10\n",
            " - 14s - loss: 9.1431e-04 - accuracy: 1.0000\n",
            "Epoch 7/10\n",
            " - 14s - loss: 5.9833e-04 - accuracy: 1.0000\n",
            "Epoch 8/10\n",
            " - 14s - loss: 4.1582e-04 - accuracy: 1.0000\n",
            "Epoch 9/10\n",
            " - 14s - loss: 4.5922e-04 - accuracy: 0.9999\n",
            "Epoch 10/10\n",
            " - 14s - loss: 2.2951e-04 - accuracy: 1.0000\n",
            "0.4444444444444445\n"
          ],
          "name": "stdout"
        },
        {
          "output_type": "stream",
          "text": [
            "/usr/local/lib/python3.6/dist-packages/sklearn/utils/deprecation.py:87: FutureWarning: Function safe_indexing is deprecated; safe_indexing is deprecated in version 0.22 and will be removed in version 0.24.\n",
            "  warnings.warn(msg, category=FutureWarning)\n"
          ],
          "name": "stderr"
        },
        {
          "output_type": "stream",
          "text": [
            "Epoch 1/10\n",
            " - 15s - loss: 0.4613 - accuracy: 0.8273\n",
            "Epoch 2/10\n",
            " - 14s - loss: 0.0775 - accuracy: 0.9764\n",
            "Epoch 3/10\n",
            " - 14s - loss: 0.0133 - accuracy: 0.9987\n",
            "Epoch 4/10\n",
            " - 14s - loss: 0.0054 - accuracy: 0.9996\n",
            "Epoch 5/10\n",
            " - 14s - loss: 0.0032 - accuracy: 0.9995\n",
            "Epoch 6/10\n",
            " - 14s - loss: 0.0023 - accuracy: 0.9998\n",
            "Epoch 7/10\n",
            " - 14s - loss: 0.0014 - accuracy: 0.9999\n",
            "Epoch 8/10\n",
            " - 14s - loss: 0.0011 - accuracy: 0.9999\n",
            "Epoch 9/10\n",
            " - 14s - loss: 7.0478e-04 - accuracy: 0.9999\n",
            "Epoch 10/10\n",
            " - 14s - loss: 9.2401e-04 - accuracy: 0.9999\n",
            "0.7306273062730627\n"
          ],
          "name": "stdout"
        },
        {
          "output_type": "stream",
          "text": [
            "/usr/local/lib/python3.6/dist-packages/sklearn/utils/deprecation.py:87: FutureWarning: Function safe_indexing is deprecated; safe_indexing is deprecated in version 0.22 and will be removed in version 0.24.\n",
            "  warnings.warn(msg, category=FutureWarning)\n"
          ],
          "name": "stderr"
        },
        {
          "output_type": "stream",
          "text": [
            "Epoch 1/10\n",
            " - 15s - loss: 0.4702 - accuracy: 0.8262\n",
            "Epoch 2/10\n",
            " - 14s - loss: 0.1360 - accuracy: 0.9557\n",
            "Epoch 3/10\n",
            " - 14s - loss: 0.0205 - accuracy: 0.9976\n",
            "Epoch 4/10\n",
            " - 15s - loss: 0.0074 - accuracy: 0.9994\n",
            "Epoch 5/10\n",
            " - 14s - loss: 0.0042 - accuracy: 0.9997\n",
            "Epoch 6/10\n",
            " - 14s - loss: 0.0031 - accuracy: 0.9996\n",
            "Epoch 7/10\n",
            " - 14s - loss: 0.0014 - accuracy: 0.9999\n",
            "Epoch 8/10\n",
            " - 14s - loss: 8.3277e-04 - accuracy: 0.9999\n",
            "Epoch 9/10\n",
            " - 14s - loss: 5.5352e-04 - accuracy: 0.9999\n",
            "Epoch 10/10\n",
            " - 14s - loss: 3.9290e-04 - accuracy: 0.9999\n",
            "0.7007299270072993\n"
          ],
          "name": "stdout"
        },
        {
          "output_type": "stream",
          "text": [
            "/usr/local/lib/python3.6/dist-packages/sklearn/utils/deprecation.py:87: FutureWarning: Function safe_indexing is deprecated; safe_indexing is deprecated in version 0.22 and will be removed in version 0.24.\n",
            "  warnings.warn(msg, category=FutureWarning)\n"
          ],
          "name": "stderr"
        },
        {
          "output_type": "stream",
          "text": [
            "Epoch 1/4\n",
            " - 13s - loss: 0.4719 - accuracy: 0.8310\n",
            "Epoch 2/4\n",
            " - 12s - loss: 0.1544 - accuracy: 0.9466\n",
            "Epoch 3/4\n",
            " - 11s - loss: 0.0281 - accuracy: 0.9948\n",
            "Epoch 4/4\n",
            " - 11s - loss: 0.0104 - accuracy: 0.9991\n",
            "0.6127167630057804\n"
          ],
          "name": "stdout"
        },
        {
          "output_type": "stream",
          "text": [
            "/usr/local/lib/python3.6/dist-packages/sklearn/utils/deprecation.py:87: FutureWarning: Function safe_indexing is deprecated; safe_indexing is deprecated in version 0.22 and will be removed in version 0.24.\n",
            "  warnings.warn(msg, category=FutureWarning)\n"
          ],
          "name": "stderr"
        },
        {
          "output_type": "stream",
          "text": [
            "Epoch 1/4\n",
            " - 13s - loss: 0.4642 - accuracy: 0.8422\n",
            "Epoch 2/4\n",
            " - 12s - loss: 0.1480 - accuracy: 0.9490\n",
            "Epoch 3/4\n",
            " - 12s - loss: 0.0308 - accuracy: 0.9937\n",
            "Epoch 4/4\n",
            " - 12s - loss: 0.0099 - accuracy: 0.9991\n",
            "0.4780876494023904\n"
          ],
          "name": "stdout"
        },
        {
          "output_type": "stream",
          "text": [
            "/usr/local/lib/python3.6/dist-packages/sklearn/utils/deprecation.py:87: FutureWarning: Function safe_indexing is deprecated; safe_indexing is deprecated in version 0.22 and will be removed in version 0.24.\n",
            "  warnings.warn(msg, category=FutureWarning)\n"
          ],
          "name": "stderr"
        },
        {
          "output_type": "stream",
          "text": [
            "Epoch 1/4\n",
            " - 13s - loss: 0.4970 - accuracy: 0.8092\n",
            "Epoch 2/4\n",
            " - 12s - loss: 0.1757 - accuracy: 0.9354\n",
            "Epoch 3/4\n",
            " - 12s - loss: 0.0402 - accuracy: 0.9925\n",
            "Epoch 4/4\n",
            " - 12s - loss: 0.0194 - accuracy: 0.9954\n",
            "0.5704225352112676\n"
          ],
          "name": "stdout"
        },
        {
          "output_type": "stream",
          "text": [
            "/usr/local/lib/python3.6/dist-packages/sklearn/utils/deprecation.py:87: FutureWarning: Function safe_indexing is deprecated; safe_indexing is deprecated in version 0.22 and will be removed in version 0.24.\n",
            "  warnings.warn(msg, category=FutureWarning)\n"
          ],
          "name": "stderr"
        },
        {
          "output_type": "stream",
          "text": [
            "Epoch 1/4\n",
            " - 13s - loss: 0.5021 - accuracy: 0.8186\n",
            "Epoch 2/4\n",
            " - 12s - loss: 0.2664 - accuracy: 0.9121\n",
            "Epoch 3/4\n",
            " - 12s - loss: 0.1050 - accuracy: 0.9643\n",
            "Epoch 4/4\n",
            " - 12s - loss: 0.0214 - accuracy: 0.9972\n",
            "0.7692307692307692\n"
          ],
          "name": "stdout"
        },
        {
          "output_type": "stream",
          "text": [
            "/usr/local/lib/python3.6/dist-packages/sklearn/utils/deprecation.py:87: FutureWarning: Function safe_indexing is deprecated; safe_indexing is deprecated in version 0.22 and will be removed in version 0.24.\n",
            "  warnings.warn(msg, category=FutureWarning)\n"
          ],
          "name": "stderr"
        },
        {
          "output_type": "stream",
          "text": [
            "Epoch 1/7\n",
            " - 13s - loss: 0.5034 - accuracy: 0.8216\n",
            "Epoch 2/7\n",
            " - 12s - loss: 0.1710 - accuracy: 0.9400\n",
            "Epoch 3/7\n",
            " - 12s - loss: 0.0391 - accuracy: 0.9890\n",
            "Epoch 4/7\n",
            " - 14s - loss: 0.0149 - accuracy: 0.9977\n",
            "Epoch 5/7\n",
            " - 12s - loss: 0.0069 - accuracy: 0.9992\n",
            "Epoch 6/7\n",
            " - 12s - loss: 0.0040 - accuracy: 0.9995\n",
            "Epoch 7/7\n",
            " - 12s - loss: 0.0026 - accuracy: 0.9996\n",
            "0.6582278481012658\n"
          ],
          "name": "stdout"
        },
        {
          "output_type": "stream",
          "text": [
            "/usr/local/lib/python3.6/dist-packages/sklearn/utils/deprecation.py:87: FutureWarning: Function safe_indexing is deprecated; safe_indexing is deprecated in version 0.22 and will be removed in version 0.24.\n",
            "  warnings.warn(msg, category=FutureWarning)\n"
          ],
          "name": "stderr"
        },
        {
          "output_type": "stream",
          "text": [
            "Epoch 1/7\n",
            " - 14s - loss: 0.5008 - accuracy: 0.8175\n",
            "Epoch 2/7\n",
            " - 12s - loss: 0.1265 - accuracy: 0.9566\n",
            "Epoch 3/7\n",
            " - 12s - loss: 0.0213 - accuracy: 0.9977\n",
            "Epoch 4/7\n",
            " - 12s - loss: 0.0069 - accuracy: 0.9998\n",
            "Epoch 5/7\n",
            " - 12s - loss: 0.0035 - accuracy: 0.9999\n",
            "Epoch 6/7\n",
            " - 12s - loss: 0.0019 - accuracy: 0.9999\n",
            "Epoch 7/7\n",
            " - 12s - loss: 0.0011 - accuracy: 0.9999\n",
            "0.504\n"
          ],
          "name": "stdout"
        },
        {
          "output_type": "stream",
          "text": [
            "/usr/local/lib/python3.6/dist-packages/sklearn/utils/deprecation.py:87: FutureWarning: Function safe_indexing is deprecated; safe_indexing is deprecated in version 0.22 and will be removed in version 0.24.\n",
            "  warnings.warn(msg, category=FutureWarning)\n"
          ],
          "name": "stderr"
        },
        {
          "output_type": "stream",
          "text": [
            "Epoch 1/7\n",
            " - 14s - loss: 0.4761 - accuracy: 0.8280\n",
            "Epoch 2/7\n",
            " - 12s - loss: 0.2034 - accuracy: 0.9311\n",
            "Epoch 3/7\n",
            " - 12s - loss: 0.0353 - accuracy: 0.9941\n",
            "Epoch 4/7\n",
            " - 12s - loss: 0.0109 - accuracy: 0.9988\n",
            "Epoch 5/7\n",
            " - 12s - loss: 0.0060 - accuracy: 0.9990\n",
            "Epoch 6/7\n",
            " - 12s - loss: 0.0042 - accuracy: 0.9993\n",
            "Epoch 7/7\n",
            " - 12s - loss: 0.0026 - accuracy: 0.9997\n",
            "0.5905511811023622\n"
          ],
          "name": "stdout"
        },
        {
          "output_type": "stream",
          "text": [
            "/usr/local/lib/python3.6/dist-packages/sklearn/utils/deprecation.py:87: FutureWarning: Function safe_indexing is deprecated; safe_indexing is deprecated in version 0.22 and will be removed in version 0.24.\n",
            "  warnings.warn(msg, category=FutureWarning)\n"
          ],
          "name": "stderr"
        },
        {
          "output_type": "stream",
          "text": [
            "Epoch 1/7\n",
            " - 13s - loss: 0.5071 - accuracy: 0.8073\n",
            "Epoch 2/7\n",
            " - 12s - loss: 0.2564 - accuracy: 0.9161\n",
            "Epoch 3/7\n",
            " - 12s - loss: 0.0906 - accuracy: 0.9710\n",
            "Epoch 4/7\n",
            " - 12s - loss: 0.0249 - accuracy: 0.9956\n",
            "Epoch 5/7\n",
            " - 12s - loss: 0.0129 - accuracy: 0.9973\n",
            "Epoch 6/7\n",
            " - 12s - loss: 0.0078 - accuracy: 0.9986\n",
            "Epoch 7/7\n",
            " - 12s - loss: 0.0062 - accuracy: 0.9987\n",
            "0.5806451612903225\n"
          ],
          "name": "stdout"
        },
        {
          "output_type": "stream",
          "text": [
            "/usr/local/lib/python3.6/dist-packages/sklearn/utils/deprecation.py:87: FutureWarning: Function safe_indexing is deprecated; safe_indexing is deprecated in version 0.22 and will be removed in version 0.24.\n",
            "  warnings.warn(msg, category=FutureWarning)\n"
          ],
          "name": "stderr"
        },
        {
          "output_type": "stream",
          "text": [
            "Epoch 1/10\n",
            " - 14s - loss: 0.4880 - accuracy: 0.8272\n",
            "Epoch 2/10\n",
            " - 12s - loss: 0.1739 - accuracy: 0.9410\n",
            "Epoch 3/10\n",
            " - 12s - loss: 0.0385 - accuracy: 0.9877\n",
            "Epoch 4/10\n",
            " - 12s - loss: 0.0151 - accuracy: 0.9963\n",
            "Epoch 5/10\n",
            " - 12s - loss: 0.0080 - accuracy: 0.9982\n",
            "Epoch 6/10\n",
            " - 12s - loss: 0.0049 - accuracy: 0.9994\n",
            "Epoch 7/10\n",
            " - 12s - loss: 0.0033 - accuracy: 0.9996\n",
            "Epoch 8/10\n",
            " - 12s - loss: 0.0021 - accuracy: 0.9999\n",
            "Epoch 9/10\n",
            " - 12s - loss: 0.0018 - accuracy: 0.9999\n",
            "Epoch 10/10\n",
            " - 12s - loss: 9.9551e-04 - accuracy: 1.0000\n",
            "0.6415094339622641\n"
          ],
          "name": "stdout"
        },
        {
          "output_type": "stream",
          "text": [
            "/usr/local/lib/python3.6/dist-packages/sklearn/utils/deprecation.py:87: FutureWarning: Function safe_indexing is deprecated; safe_indexing is deprecated in version 0.22 and will be removed in version 0.24.\n",
            "  warnings.warn(msg, category=FutureWarning)\n"
          ],
          "name": "stderr"
        },
        {
          "output_type": "stream",
          "text": [
            "Epoch 1/10\n",
            " - 14s - loss: 0.5412 - accuracy: 0.8121\n",
            "Epoch 2/10\n",
            " - 12s - loss: 0.1596 - accuracy: 0.9483\n",
            "Epoch 3/10\n",
            " - 13s - loss: 0.0263 - accuracy: 0.9966\n",
            "Epoch 4/10\n",
            " - 13s - loss: 0.0085 - accuracy: 0.9994\n",
            "Epoch 5/10\n",
            " - 12s - loss: 0.0043 - accuracy: 0.9998\n",
            "Epoch 6/10\n",
            " - 12s - loss: 0.0027 - accuracy: 0.9999\n",
            "Epoch 7/10\n",
            " - 12s - loss: 0.0025 - accuracy: 0.9998\n",
            "Epoch 8/10\n",
            " - 12s - loss: 0.0021 - accuracy: 0.9997\n",
            "Epoch 9/10\n",
            " - 14s - loss: 0.0014 - accuracy: 0.9998\n",
            "Epoch 10/10\n",
            " - 12s - loss: 7.2287e-04 - accuracy: 1.0000\n",
            "0.5363984674329502\n"
          ],
          "name": "stdout"
        },
        {
          "output_type": "stream",
          "text": [
            "/usr/local/lib/python3.6/dist-packages/sklearn/utils/deprecation.py:87: FutureWarning: Function safe_indexing is deprecated; safe_indexing is deprecated in version 0.22 and will be removed in version 0.24.\n",
            "  warnings.warn(msg, category=FutureWarning)\n"
          ],
          "name": "stderr"
        },
        {
          "output_type": "stream",
          "text": [
            "Epoch 1/10\n",
            " - 14s - loss: 0.5033 - accuracy: 0.8074\n",
            "Epoch 2/10\n",
            " - 13s - loss: 0.1572 - accuracy: 0.9451\n",
            "Epoch 3/10\n",
            " - 13s - loss: 0.0272 - accuracy: 0.9965\n",
            "Epoch 4/10\n",
            " - 13s - loss: 0.0100 - accuracy: 0.9987\n",
            "Epoch 5/10\n",
            " - 13s - loss: 0.0065 - accuracy: 0.9989\n",
            "Epoch 6/10\n",
            " - 13s - loss: 0.0043 - accuracy: 0.9991\n",
            "Epoch 7/10\n",
            " - 13s - loss: 0.0023 - accuracy: 0.9994\n",
            "Epoch 8/10\n",
            " - 13s - loss: 0.0024 - accuracy: 0.9995\n",
            "Epoch 9/10\n",
            " - 13s - loss: 0.0014 - accuracy: 0.9994\n",
            "Epoch 10/10\n",
            " - 12s - loss: 8.0291e-04 - accuracy: 1.0000\n",
            "0.49789029535864976\n"
          ],
          "name": "stdout"
        },
        {
          "output_type": "stream",
          "text": [
            "/usr/local/lib/python3.6/dist-packages/sklearn/utils/deprecation.py:87: FutureWarning: Function safe_indexing is deprecated; safe_indexing is deprecated in version 0.22 and will be removed in version 0.24.\n",
            "  warnings.warn(msg, category=FutureWarning)\n"
          ],
          "name": "stderr"
        },
        {
          "output_type": "stream",
          "text": [
            "Epoch 1/10\n",
            " - 14s - loss: 0.5104 - accuracy: 0.8192\n",
            "Epoch 2/10\n",
            " - 13s - loss: 0.1848 - accuracy: 0.9348\n",
            "Epoch 3/10\n",
            " - 12s - loss: 0.0326 - accuracy: 0.9953\n",
            "Epoch 4/10\n",
            " - 12s - loss: 0.0123 - accuracy: 0.9985\n",
            "Epoch 5/10\n",
            " - 13s - loss: 0.0061 - accuracy: 0.9996\n",
            "Epoch 6/10\n",
            " - 12s - loss: 0.0042 - accuracy: 0.9996\n",
            "Epoch 7/10\n",
            " - 12s - loss: 0.0029 - accuracy: 0.9997\n",
            "Epoch 8/10\n",
            " - 12s - loss: 0.0021 - accuracy: 0.9998\n",
            "Epoch 9/10\n",
            " - 13s - loss: 0.0023 - accuracy: 0.9997\n",
            "Epoch 10/10\n",
            " - 12s - loss: 0.0014 - accuracy: 0.9999\n",
            "0.7194244604316546\n"
          ],
          "name": "stdout"
        }
      ]
    },
    {
      "cell_type": "code",
      "metadata": {
        "id": "4u_digdbrFso",
        "colab_type": "code",
        "colab": {
          "base_uri": "https://localhost:8080/",
          "height": 170
        },
        "outputId": "4b9b8030-3ad7-4340-b7e1-809d3b3d974c"
      },
      "source": [
        "F_1_cv"
      ],
      "execution_count": 36,
      "outputs": [
        {
          "output_type": "execute_result",
          "data": {
            "text/plain": [
              "[[(20, 4), 0.6331715601703258],\n",
              " [(20, 7), 0.6039199894074025],\n",
              " [(20, 10), 0.6161964989994366],\n",
              " [(30, 4), 0.6259994457827489],\n",
              " [(30, 7), 0.6261473121588976],\n",
              " [(30, 10), 0.6515851499701237],\n",
              " [(40, 4), 0.6076144292125519],\n",
              " [(40, 7), 0.5833560476234876],\n",
              " [(40, 10), 0.5988056642963797]]"
            ]
          },
          "metadata": {
            "tags": []
          },
          "execution_count": 36
        }
      ]
    },
    {
      "cell_type": "code",
      "metadata": {
        "id": "mq8fQAse-SNs",
        "colab_type": "code",
        "colab": {}
      },
      "source": [
        "from keras import backend as K\n",
        "import tensorflow as tf\n",
        "def f1(y_true, y_pred):\n",
        "    y_pred = K.round(y_pred)\n",
        "    tp = K.sum(K.cast(y_true*y_pred, 'float'), axis=0)\n",
        "    tn = K.sum(K.cast((1-y_true)*(1-y_pred), 'float'), axis=0)\n",
        "    fp = K.sum(K.cast((1-y_true)*y_pred, 'float'), axis=0)\n",
        "    fn = K.sum(K.cast(y_true*(1-y_pred), 'float'), axis=0)\n",
        "\n",
        "    p = tp / (tp + fp + K.epsilon())\n",
        "    r = tp / (tp + fn + K.epsilon())\n",
        "\n",
        "    f1 = 2*p*r / (p+r+K.epsilon())\n",
        "    f1 = tf.where(tf.is_nan(f1), tf.zeros_like(f1), f1)\n",
        "    return K.mean(f1)\n",
        "\n",
        "def f1_loss(y_true, y_pred):\n",
        "    \n",
        "    tp = K.sum(K.cast(y_true*y_pred, 'float'), axis=0)\n",
        "    tn = K.sum(K.cast((1-y_true)*(1-y_pred), 'float'), axis=0)\n",
        "    fp = K.sum(K.cast((1-y_true)*y_pred, 'float'), axis=0)\n",
        "    fn = K.sum(K.cast(y_true*(1-y_pred), 'float'), axis=0)\n",
        "\n",
        "    p = tp / (tp + fp + K.epsilon())\n",
        "    r = tp / (tp + fn + K.epsilon())\n",
        "\n",
        "    f1 = 2*p*r / (p+r+K.epsilon())\n",
        "    f1 = tf.where(tf.is_nan(f1), tf.zeros_like(f1), f1)\n",
        "    return 1 - K.mean(f1)"
      ],
      "execution_count": 0,
      "outputs": []
    },
    {
      "cell_type": "code",
      "metadata": {
        "id": "4EElxCz1642p",
        "colab_type": "code",
        "colab": {
          "base_uri": "https://localhost:8080/",
          "height": 1000
        },
        "outputId": "a8d8443a-365b-4175-fe1f-a35a58c675c6"
      },
      "source": [
        "F_1_cv=[]\n",
        "embed_dim = 500\n",
        "lstm_out = 200\n",
        "from statistics import mean \n",
        "from imblearn.over_sampling import RandomOverSampler\n",
        "ros = RandomOverSampler(random_state=0)\n",
        "\n",
        "for i in param_grid:\n",
        "  f1=[]\n",
        "  for j in stratified_index:\n",
        "    X_resampled, y_resampled = ros.fit_resample(np.array(j[\"train\"]).reshape(-1, 1), clean_data.iloc[j[\"train\"]]['fraudulent'])\n",
        "    X_resampled=X_resampled.flatten()\n",
        "\n",
        "    model1 = Sequential()\n",
        "    model1.add(Dense(200,activation='softmax',input_shape = (X1.shape[1],)))\n",
        "    model1.add(Dense(50,activation='softmax'))\n",
        "    model1.add(Dense(2,activation='softmax'))\n",
        "\n",
        "    model2 = Sequential()\n",
        "    model2.add(Dense(200,activation='softmax',input_shape = (X2.shape[1],)))\n",
        "    model2.add(Dense(50,activation='softmax'))\n",
        "    model2.add(Dense(2,activation='softmax'))\n",
        "\n",
        "    model3 = Sequential()\n",
        "    model3.add(Dense(80,input_dim=non_text.shape[1],activation='relu'))\n",
        "    model3.add(Dense(40,activation='relu'))\n",
        "    model3.add(Dense(2,activation='sigmoid'))\n",
        "\n",
        "    model_concat = concatenate([model1.output, model2.output, model3.output], axis=-1)\n",
        "    model_concat = Dense(40, activation='sigmoid')(model_concat)\n",
        "    model_concat = Dense(2, activation='softmax')(model_concat)\n",
        "    model= Model(inputs=[model1.input, model2.input, model3.input], outputs=model_concat)\n",
        "    model.compile(loss = f1_loss, optimizer='adam',metrics = ['accuracy'])\n",
        "    model.fit([X1[X_resampled], X2[X_resampled],non_text[X_resampled]], Y1[X_resampled], epochs = i[1], batch_size=i[0],verbose = 2)\n",
        "\n",
        "    y_pred=model.predict([X1[j[\"test\"]], X2[j[\"test\"]],non_text[j[\"test\"]]],verbose = 2, batch_size = i[0])\n",
        "    y_pred1=np.argmax(y_pred,axis=1)\n",
        "    Y1_test1=np.argmax(Y1[j[\"test\"]],axis=1)\n",
        "    print(f1_score(Y1_test1, y_pred1))\n",
        "    f1.append(f1_score(Y1_test1, y_pred1))\n",
        "  F_1_cv.append([i,sum(f1)/4])"
      ],
      "execution_count": 42,
      "outputs": [
        {
          "output_type": "stream",
          "text": [
            "/usr/local/lib/python3.6/dist-packages/sklearn/utils/deprecation.py:87: FutureWarning: Function safe_indexing is deprecated; safe_indexing is deprecated in version 0.22 and will be removed in version 0.24.\n",
            "  warnings.warn(msg, category=FutureWarning)\n"
          ],
          "name": "stderr"
        },
        {
          "output_type": "stream",
          "text": [
            "Epoch 1/4\n",
            " - 23s - loss: 0.2316 - accuracy: 0.8480\n",
            "Epoch 2/4\n",
            " - 21s - loss: 0.0287 - accuracy: 0.9802\n",
            "Epoch 3/4\n",
            " - 21s - loss: 0.0058 - accuracy: 0.9964\n",
            "Epoch 4/4\n",
            " - 21s - loss: 0.0037 - accuracy: 0.9972\n",
            "0.6301369863013699\n"
          ],
          "name": "stdout"
        },
        {
          "output_type": "stream",
          "text": [
            "/usr/local/lib/python3.6/dist-packages/sklearn/utils/deprecation.py:87: FutureWarning: Function safe_indexing is deprecated; safe_indexing is deprecated in version 0.22 and will be removed in version 0.24.\n",
            "  warnings.warn(msg, category=FutureWarning)\n"
          ],
          "name": "stderr"
        },
        {
          "output_type": "stream",
          "text": [
            "Epoch 1/4\n",
            " - 23s - loss: 0.2284 - accuracy: 0.8608\n",
            "Epoch 2/4\n",
            " - 22s - loss: 0.0795 - accuracy: 0.9280\n",
            "Epoch 3/4\n",
            " - 22s - loss: 0.0620 - accuracy: 0.9422\n",
            "Epoch 4/4\n",
            " - 22s - loss: 0.0294 - accuracy: 0.9739\n",
            "0.4912280701754387\n"
          ],
          "name": "stdout"
        },
        {
          "output_type": "stream",
          "text": [
            "/usr/local/lib/python3.6/dist-packages/sklearn/utils/deprecation.py:87: FutureWarning: Function safe_indexing is deprecated; safe_indexing is deprecated in version 0.22 and will be removed in version 0.24.\n",
            "  warnings.warn(msg, category=FutureWarning)\n"
          ],
          "name": "stderr"
        },
        {
          "output_type": "stream",
          "text": [
            "Epoch 1/4\n",
            " - 23s - loss: 0.2438 - accuracy: 0.8361\n",
            "Epoch 2/4\n",
            " - 21s - loss: 0.0729 - accuracy: 0.9359\n",
            "Epoch 3/4\n",
            " - 22s - loss: 0.0109 - accuracy: 0.9915\n",
            "Epoch 4/4\n",
            " - 22s - loss: 0.0057 - accuracy: 0.9952\n",
            "0.46086956521739136\n"
          ],
          "name": "stdout"
        },
        {
          "output_type": "stream",
          "text": [
            "/usr/local/lib/python3.6/dist-packages/sklearn/utils/deprecation.py:87: FutureWarning: Function safe_indexing is deprecated; safe_indexing is deprecated in version 0.22 and will be removed in version 0.24.\n",
            "  warnings.warn(msg, category=FutureWarning)\n"
          ],
          "name": "stderr"
        },
        {
          "output_type": "stream",
          "text": [
            "Epoch 1/4\n",
            " - 24s - loss: 0.2484 - accuracy: 0.8400\n",
            "Epoch 2/4\n",
            " - 22s - loss: 0.1116 - accuracy: 0.8962\n",
            "Epoch 3/4\n",
            " - 22s - loss: 0.0825 - accuracy: 0.9238\n",
            "Epoch 4/4\n",
            " - 22s - loss: 0.0615 - accuracy: 0.9440\n",
            "0.6363636363636364\n"
          ],
          "name": "stdout"
        },
        {
          "output_type": "stream",
          "text": [
            "/usr/local/lib/python3.6/dist-packages/sklearn/utils/deprecation.py:87: FutureWarning: Function safe_indexing is deprecated; safe_indexing is deprecated in version 0.22 and will be removed in version 0.24.\n",
            "  warnings.warn(msg, category=FutureWarning)\n"
          ],
          "name": "stderr"
        },
        {
          "output_type": "stream",
          "text": [
            "Epoch 1/7\n",
            " - 25s - loss: 0.2290 - accuracy: 0.8579\n",
            "Epoch 2/7\n",
            " - 23s - loss: 0.0612 - accuracy: 0.9467\n",
            "Epoch 3/7\n",
            " - 23s - loss: 0.0100 - accuracy: 0.9935\n",
            "Epoch 4/7\n",
            " - 23s - loss: 0.0058 - accuracy: 0.9957\n",
            "Epoch 5/7\n",
            " - 23s - loss: 0.0049 - accuracy: 0.9960\n",
            "Epoch 6/7\n",
            " - 23s - loss: 0.0047 - accuracy: 0.9960\n",
            "Epoch 7/7\n",
            " - 23s - loss: 0.0043 - accuracy: 0.9962\n",
            "0.6380368098159509\n"
          ],
          "name": "stdout"
        },
        {
          "output_type": "stream",
          "text": [
            "/usr/local/lib/python3.6/dist-packages/sklearn/utils/deprecation.py:87: FutureWarning: Function safe_indexing is deprecated; safe_indexing is deprecated in version 0.22 and will be removed in version 0.24.\n",
            "  warnings.warn(msg, category=FutureWarning)\n"
          ],
          "name": "stderr"
        },
        {
          "output_type": "stream",
          "text": [
            "Epoch 1/7\n",
            " - 25s - loss: 0.2166 - accuracy: 0.8774\n",
            "Epoch 2/7\n",
            " - 24s - loss: 0.0129 - accuracy: 0.9939\n",
            "Epoch 3/7\n",
            " - 23s - loss: 0.0035 - accuracy: 0.9981\n",
            "Epoch 4/7\n",
            " - 23s - loss: 0.0026 - accuracy: 0.9983\n",
            "Epoch 5/7\n",
            " - 23s - loss: 0.0023 - accuracy: 0.9983\n",
            "Epoch 6/7\n",
            " - 23s - loss: 0.0020 - accuracy: 0.9983\n",
            "Epoch 7/7\n",
            " - 23s - loss: 0.0019 - accuracy: 0.9983\n",
            "0.4979591836734694\n"
          ],
          "name": "stdout"
        },
        {
          "output_type": "stream",
          "text": [
            "/usr/local/lib/python3.6/dist-packages/sklearn/utils/deprecation.py:87: FutureWarning: Function safe_indexing is deprecated; safe_indexing is deprecated in version 0.22 and will be removed in version 0.24.\n",
            "  warnings.warn(msg, category=FutureWarning)\n"
          ],
          "name": "stderr"
        },
        {
          "output_type": "stream",
          "text": [
            "Epoch 1/7\n",
            " - 25s - loss: 0.2270 - accuracy: 0.8495\n",
            "Epoch 2/7\n",
            " - 24s - loss: 0.0581 - accuracy: 0.9505\n",
            "Epoch 3/7\n",
            " - 24s - loss: 0.0170 - accuracy: 0.9852\n",
            "Epoch 4/7\n",
            " - 24s - loss: 0.0097 - accuracy: 0.9918\n",
            "Epoch 5/7\n",
            " - 24s - loss: 0.0086 - accuracy: 0.9924\n",
            "Epoch 6/7\n",
            " - 23s - loss: 0.0083 - accuracy: 0.9925\n",
            "Epoch 7/7\n",
            " - 23s - loss: 0.0082 - accuracy: 0.9925\n",
            "0.5106382978723404\n"
          ],
          "name": "stdout"
        },
        {
          "output_type": "stream",
          "text": [
            "/usr/local/lib/python3.6/dist-packages/sklearn/utils/deprecation.py:87: FutureWarning: Function safe_indexing is deprecated; safe_indexing is deprecated in version 0.22 and will be removed in version 0.24.\n",
            "  warnings.warn(msg, category=FutureWarning)\n"
          ],
          "name": "stderr"
        },
        {
          "output_type": "stream",
          "text": [
            "Epoch 1/7\n",
            " - 25s - loss: 0.2371 - accuracy: 0.8519\n",
            "Epoch 2/7\n",
            " - 23s - loss: 0.0401 - accuracy: 0.9692\n",
            "Epoch 3/7\n",
            " - 23s - loss: 0.0077 - accuracy: 0.9953\n",
            "Epoch 4/7\n",
            " - 23s - loss: 0.0044 - accuracy: 0.9969\n",
            "Epoch 5/7\n",
            " - 23s - loss: 0.0036 - accuracy: 0.9971\n",
            "Epoch 6/7\n",
            " - 23s - loss: 0.0031 - accuracy: 0.9974\n",
            "Epoch 7/7\n",
            " - 23s - loss: 0.0045 - accuracy: 0.9960\n",
            "0.732824427480916\n"
          ],
          "name": "stdout"
        },
        {
          "output_type": "stream",
          "text": [
            "/usr/local/lib/python3.6/dist-packages/sklearn/utils/deprecation.py:87: FutureWarning: Function safe_indexing is deprecated; safe_indexing is deprecated in version 0.22 and will be removed in version 0.24.\n",
            "  warnings.warn(msg, category=FutureWarning)\n"
          ],
          "name": "stderr"
        },
        {
          "output_type": "stream",
          "text": [
            "Epoch 1/10\n",
            " - 26s - loss: 0.2220 - accuracy: 0.8576\n",
            "Epoch 2/10\n",
            " - 24s - loss: 0.0496 - accuracy: 0.9568\n",
            "Epoch 3/10\n",
            " - 25s - loss: 0.0092 - accuracy: 0.9943\n",
            "Epoch 4/10\n",
            " - 24s - loss: 0.0055 - accuracy: 0.9960\n",
            "Epoch 5/10\n",
            " - 24s - loss: 0.0041 - accuracy: 0.9967\n",
            "Epoch 6/10\n",
            " - 24s - loss: 0.0029 - accuracy: 0.9977\n",
            "Epoch 7/10\n",
            " - 24s - loss: 0.0026 - accuracy: 0.9977\n",
            "Epoch 8/10\n",
            " - 24s - loss: 0.0026 - accuracy: 0.9977\n",
            "Epoch 9/10\n",
            " - 24s - loss: 0.0025 - accuracy: 0.9977\n",
            "Epoch 10/10\n",
            " - 24s - loss: 0.0025 - accuracy: 0.9977\n",
            "0.6363636363636364\n"
          ],
          "name": "stdout"
        },
        {
          "output_type": "stream",
          "text": [
            "/usr/local/lib/python3.6/dist-packages/sklearn/utils/deprecation.py:87: FutureWarning: Function safe_indexing is deprecated; safe_indexing is deprecated in version 0.22 and will be removed in version 0.24.\n",
            "  warnings.warn(msg, category=FutureWarning)\n"
          ],
          "name": "stderr"
        },
        {
          "output_type": "stream",
          "text": [
            "Epoch 1/10\n",
            " - 25s - loss: 0.2224 - accuracy: 0.8571\n",
            "Epoch 2/10\n",
            " - 23s - loss: 0.0211 - accuracy: 0.9856\n",
            "Epoch 3/10\n",
            " - 23s - loss: 0.0043 - accuracy: 0.9978\n",
            "Epoch 4/10\n",
            " - 23s - loss: 0.0026 - accuracy: 0.9983\n",
            "Epoch 5/10\n",
            " - 23s - loss: 0.0022 - accuracy: 0.9983\n",
            "Epoch 6/10\n",
            " - 23s - loss: 0.0020 - accuracy: 0.9983\n",
            "Epoch 7/10\n",
            " - 23s - loss: 0.0019 - accuracy: 0.9983\n",
            "Epoch 8/10\n",
            " - 23s - loss: 0.0018 - accuracy: 0.9983\n",
            "Epoch 9/10\n",
            " - 23s - loss: 0.0018 - accuracy: 0.9983\n",
            "Epoch 10/10\n",
            " - 23s - loss: 0.0018 - accuracy: 0.9983\n",
            "0.46090534979423875\n"
          ],
          "name": "stdout"
        },
        {
          "output_type": "stream",
          "text": [
            "/usr/local/lib/python3.6/dist-packages/sklearn/utils/deprecation.py:87: FutureWarning: Function safe_indexing is deprecated; safe_indexing is deprecated in version 0.22 and will be removed in version 0.24.\n",
            "  warnings.warn(msg, category=FutureWarning)\n"
          ],
          "name": "stderr"
        },
        {
          "output_type": "stream",
          "text": [
            "Epoch 1/10\n",
            " - 25s - loss: 0.2469 - accuracy: 0.8442\n",
            "Epoch 2/10\n",
            " - 23s - loss: 0.0658 - accuracy: 0.9424\n",
            "Epoch 3/10\n",
            " - 23s - loss: 0.0072 - accuracy: 0.9961\n",
            "Epoch 4/10\n",
            " - 23s - loss: 0.0037 - accuracy: 0.9978\n",
            "Epoch 5/10\n",
            " - 23s - loss: 0.0028 - accuracy: 0.9980\n",
            "Epoch 6/10\n",
            " - 23s - loss: 0.0021 - accuracy: 0.9983\n",
            "Epoch 7/10\n",
            " - 24s - loss: 0.0019 - accuracy: 0.9984\n",
            "Epoch 8/10\n",
            " - 23s - loss: 0.0018 - accuracy: 0.9985\n",
            "Epoch 9/10\n",
            " - 24s - loss: 0.0017 - accuracy: 0.9985\n",
            "Epoch 10/10\n",
            " - 24s - loss: 0.0017 - accuracy: 0.9985\n",
            "0.5833333333333333\n"
          ],
          "name": "stdout"
        },
        {
          "output_type": "stream",
          "text": [
            "/usr/local/lib/python3.6/dist-packages/sklearn/utils/deprecation.py:87: FutureWarning: Function safe_indexing is deprecated; safe_indexing is deprecated in version 0.22 and will be removed in version 0.24.\n",
            "  warnings.warn(msg, category=FutureWarning)\n"
          ],
          "name": "stderr"
        },
        {
          "output_type": "stream",
          "text": [
            "Epoch 1/10\n",
            " - 25s - loss: 0.2301 - accuracy: 0.8564\n",
            "Epoch 2/10\n",
            " - 23s - loss: 0.0386 - accuracy: 0.9687\n",
            "Epoch 3/10\n",
            " - 23s - loss: 0.0086 - accuracy: 0.9937\n",
            "Epoch 4/10\n",
            " - 23s - loss: 0.0061 - accuracy: 0.9949\n",
            "Epoch 5/10\n",
            " - 23s - loss: 0.0055 - accuracy: 0.9951\n",
            "Epoch 6/10\n",
            " - 23s - loss: 0.0040 - accuracy: 0.9965\n",
            "Epoch 7/10\n",
            " - 23s - loss: 0.0033 - accuracy: 0.9971\n",
            "Epoch 8/10\n",
            " - 23s - loss: 0.0032 - accuracy: 0.9971\n",
            "Epoch 9/10\n",
            " - 23s - loss: 0.0031 - accuracy: 0.9971\n",
            "Epoch 10/10\n",
            " - 23s - loss: 0.0031 - accuracy: 0.9971\n",
            "0.7175572519083969\n"
          ],
          "name": "stdout"
        },
        {
          "output_type": "stream",
          "text": [
            "/usr/local/lib/python3.6/dist-packages/sklearn/utils/deprecation.py:87: FutureWarning: Function safe_indexing is deprecated; safe_indexing is deprecated in version 0.22 and will be removed in version 0.24.\n",
            "  warnings.warn(msg, category=FutureWarning)\n"
          ],
          "name": "stderr"
        },
        {
          "output_type": "stream",
          "text": [
            "Epoch 1/4\n",
            " - 18s - loss: 0.2876 - accuracy: 0.8218\n",
            "Epoch 2/4\n",
            " - 16s - loss: 0.0753 - accuracy: 0.9327\n",
            "Epoch 3/4\n",
            " - 16s - loss: 0.0157 - accuracy: 0.9892\n",
            "Epoch 4/4\n",
            " - 16s - loss: 0.0069 - accuracy: 0.9951\n",
            "0.6496815286624203\n"
          ],
          "name": "stdout"
        },
        {
          "output_type": "stream",
          "text": [
            "/usr/local/lib/python3.6/dist-packages/sklearn/utils/deprecation.py:87: FutureWarning: Function safe_indexing is deprecated; safe_indexing is deprecated in version 0.22 and will be removed in version 0.24.\n",
            "  warnings.warn(msg, category=FutureWarning)\n"
          ],
          "name": "stderr"
        },
        {
          "output_type": "stream",
          "text": [
            "Epoch 1/4\n",
            " - 18s - loss: 0.2534 - accuracy: 0.8524\n",
            "Epoch 2/4\n",
            " - 16s - loss: 0.0444 - accuracy: 0.9641\n",
            "Epoch 3/4\n",
            " - 16s - loss: 0.0071 - accuracy: 0.9965\n",
            "Epoch 4/4\n",
            " - 16s - loss: 0.0036 - accuracy: 0.9978\n",
            "0.49411764705882355\n"
          ],
          "name": "stdout"
        },
        {
          "output_type": "stream",
          "text": [
            "/usr/local/lib/python3.6/dist-packages/sklearn/utils/deprecation.py:87: FutureWarning: Function safe_indexing is deprecated; safe_indexing is deprecated in version 0.22 and will be removed in version 0.24.\n",
            "  warnings.warn(msg, category=FutureWarning)\n"
          ],
          "name": "stderr"
        },
        {
          "output_type": "stream",
          "text": [
            "Epoch 1/4\n",
            " - 18s - loss: 0.2693 - accuracy: 0.8327\n",
            "Epoch 2/4\n",
            " - 16s - loss: 0.1130 - accuracy: 0.8977\n",
            "Epoch 3/4\n",
            " - 16s - loss: 0.0770 - accuracy: 0.9286\n",
            "Epoch 4/4\n",
            " - 16s - loss: 0.0114 - accuracy: 0.9929\n",
            "0.580392156862745\n"
          ],
          "name": "stdout"
        },
        {
          "output_type": "stream",
          "text": [
            "/usr/local/lib/python3.6/dist-packages/sklearn/utils/deprecation.py:87: FutureWarning: Function safe_indexing is deprecated; safe_indexing is deprecated in version 0.22 and will be removed in version 0.24.\n",
            "  warnings.warn(msg, category=FutureWarning)\n"
          ],
          "name": "stderr"
        },
        {
          "output_type": "stream",
          "text": [
            "Epoch 1/4\n",
            " - 18s - loss: 0.2805 - accuracy: 0.8377\n",
            "Epoch 2/4\n",
            " - 16s - loss: 0.0943 - accuracy: 0.9162\n",
            "Epoch 3/4\n",
            " - 16s - loss: 0.0376 - accuracy: 0.9674\n",
            "Epoch 4/4\n",
            " - 15s - loss: 0.0206 - accuracy: 0.9812\n",
            "0.556390977443609\n"
          ],
          "name": "stdout"
        },
        {
          "output_type": "stream",
          "text": [
            "/usr/local/lib/python3.6/dist-packages/sklearn/utils/deprecation.py:87: FutureWarning: Function safe_indexing is deprecated; safe_indexing is deprecated in version 0.22 and will be removed in version 0.24.\n",
            "  warnings.warn(msg, category=FutureWarning)\n"
          ],
          "name": "stderr"
        },
        {
          "output_type": "stream",
          "text": [
            "Epoch 1/7\n",
            " - 18s - loss: 0.2723 - accuracy: 0.8389\n",
            "Epoch 2/7\n",
            " - 16s - loss: 0.0743 - accuracy: 0.9349\n",
            "Epoch 3/7\n",
            " - 16s - loss: 0.0137 - accuracy: 0.9927\n",
            "Epoch 4/7\n",
            " - 16s - loss: 0.0054 - accuracy: 0.9974\n",
            "Epoch 5/7\n",
            " - 16s - loss: 0.0031 - accuracy: 0.9982\n",
            "Epoch 6/7\n",
            " - 16s - loss: 0.0025 - accuracy: 0.9983\n",
            "Epoch 7/7\n",
            " - 16s - loss: 0.0020 - accuracy: 0.9986\n",
            "0.6666666666666666\n"
          ],
          "name": "stdout"
        },
        {
          "output_type": "stream",
          "text": [
            "/usr/local/lib/python3.6/dist-packages/sklearn/utils/deprecation.py:87: FutureWarning: Function safe_indexing is deprecated; safe_indexing is deprecated in version 0.22 and will be removed in version 0.24.\n",
            "  warnings.warn(msg, category=FutureWarning)\n"
          ],
          "name": "stderr"
        },
        {
          "output_type": "stream",
          "text": [
            "Epoch 1/7\n",
            " - 18s - loss: 0.2682 - accuracy: 0.8429\n",
            "Epoch 2/7\n",
            " - 16s - loss: 0.0908 - accuracy: 0.9202\n",
            "Epoch 3/7\n",
            " - 16s - loss: 0.0758 - accuracy: 0.9291\n",
            "Epoch 4/7\n",
            " - 16s - loss: 0.0645 - accuracy: 0.9390\n",
            "Epoch 5/7\n",
            " - 16s - loss: 0.0537 - accuracy: 0.9500\n",
            "Epoch 6/7\n",
            " - 16s - loss: 0.0213 - accuracy: 0.9815\n",
            "Epoch 7/7\n",
            " - 16s - loss: 0.0083 - accuracy: 0.9931\n",
            "0.4377358490566038\n"
          ],
          "name": "stdout"
        },
        {
          "output_type": "stream",
          "text": [
            "/usr/local/lib/python3.6/dist-packages/sklearn/utils/deprecation.py:87: FutureWarning: Function safe_indexing is deprecated; safe_indexing is deprecated in version 0.22 and will be removed in version 0.24.\n",
            "  warnings.warn(msg, category=FutureWarning)\n"
          ],
          "name": "stderr"
        },
        {
          "output_type": "stream",
          "text": [
            "Epoch 1/7\n",
            " - 18s - loss: 0.2894 - accuracy: 0.8189\n",
            "Epoch 2/7\n",
            " - 16s - loss: 0.0806 - accuracy: 0.9305\n",
            "Epoch 3/7\n",
            " - 16s - loss: 0.0144 - accuracy: 0.9905\n",
            "Epoch 4/7\n",
            " - 16s - loss: 0.0087 - accuracy: 0.9930\n",
            "Epoch 5/7\n",
            " - 16s - loss: 0.0072 - accuracy: 0.9938\n",
            "Epoch 6/7\n",
            " - 16s - loss: 0.0066 - accuracy: 0.9940\n",
            "Epoch 7/7\n",
            " - 16s - loss: 0.0062 - accuracy: 0.9942\n",
            "0.540983606557377\n"
          ],
          "name": "stdout"
        },
        {
          "output_type": "stream",
          "text": [
            "/usr/local/lib/python3.6/dist-packages/sklearn/utils/deprecation.py:87: FutureWarning: Function safe_indexing is deprecated; safe_indexing is deprecated in version 0.22 and will be removed in version 0.24.\n",
            "  warnings.warn(msg, category=FutureWarning)\n"
          ],
          "name": "stderr"
        },
        {
          "output_type": "stream",
          "text": [
            "Epoch 1/7\n",
            " - 19s - loss: 0.2836 - accuracy: 0.8273\n",
            "Epoch 2/7\n",
            " - 16s - loss: 0.1036 - accuracy: 0.9037\n",
            "Epoch 3/7\n",
            " - 16s - loss: 0.0212 - accuracy: 0.9874\n",
            "Epoch 4/7\n",
            " - 16s - loss: 0.0056 - accuracy: 0.9969\n",
            "Epoch 5/7\n",
            " - 16s - loss: 0.0030 - accuracy: 0.9980\n",
            "Epoch 6/7\n",
            " - 16s - loss: 0.0024 - accuracy: 0.9983\n",
            "Epoch 7/7\n",
            " - 17s - loss: 0.0017 - accuracy: 0.9987\n",
            "0.7194244604316546\n"
          ],
          "name": "stdout"
        },
        {
          "output_type": "stream",
          "text": [
            "/usr/local/lib/python3.6/dist-packages/sklearn/utils/deprecation.py:87: FutureWarning: Function safe_indexing is deprecated; safe_indexing is deprecated in version 0.22 and will be removed in version 0.24.\n",
            "  warnings.warn(msg, category=FutureWarning)\n"
          ],
          "name": "stderr"
        },
        {
          "output_type": "stream",
          "text": [
            "Epoch 1/10\n",
            " - 19s - loss: 0.2620 - accuracy: 0.8481\n",
            "Epoch 2/10\n",
            " - 16s - loss: 0.1019 - accuracy: 0.9085\n",
            "Epoch 3/10\n",
            " - 16s - loss: 0.0867 - accuracy: 0.9181\n",
            "Epoch 4/10\n",
            " - 16s - loss: 0.0642 - accuracy: 0.9392\n",
            "Epoch 5/10\n",
            " - 16s - loss: 0.0224 - accuracy: 0.9808\n",
            "Epoch 6/10\n",
            " - 16s - loss: 0.0148 - accuracy: 0.9868\n",
            "Epoch 7/10\n",
            " - 16s - loss: 0.0111 - accuracy: 0.9901\n",
            "Epoch 8/10\n",
            " - 17s - loss: 0.0103 - accuracy: 0.9904\n",
            "Epoch 9/10\n",
            " - 17s - loss: 0.0101 - accuracy: 0.9904\n",
            "Epoch 10/10\n",
            " - 17s - loss: 0.0099 - accuracy: 0.9905\n",
            "0.5617977528089887\n"
          ],
          "name": "stdout"
        },
        {
          "output_type": "stream",
          "text": [
            "/usr/local/lib/python3.6/dist-packages/sklearn/utils/deprecation.py:87: FutureWarning: Function safe_indexing is deprecated; safe_indexing is deprecated in version 0.22 and will be removed in version 0.24.\n",
            "  warnings.warn(msg, category=FutureWarning)\n"
          ],
          "name": "stderr"
        },
        {
          "output_type": "stream",
          "text": [
            "Epoch 1/10\n",
            " - 19s - loss: 0.2581 - accuracy: 0.8578\n",
            "Epoch 2/10\n",
            " - 17s - loss: 0.0769 - accuracy: 0.9326\n",
            "Epoch 3/10\n",
            " - 17s - loss: 0.0368 - accuracy: 0.9679\n",
            "Epoch 4/10\n",
            " - 17s - loss: 0.0062 - accuracy: 0.9965\n",
            "Epoch 5/10\n",
            " - 17s - loss: 0.0034 - accuracy: 0.9976\n",
            "Epoch 6/10\n",
            " - 17s - loss: 0.0027 - accuracy: 0.9981\n",
            "Epoch 7/10\n",
            " - 17s - loss: 0.0025 - accuracy: 0.9981\n",
            "Epoch 8/10\n",
            " - 17s - loss: 0.0023 - accuracy: 0.9981\n",
            "Epoch 9/10\n",
            " - 17s - loss: 0.0022 - accuracy: 0.9981\n",
            "Epoch 10/10\n",
            " - 17s - loss: 0.0025 - accuracy: 0.9979\n",
            "0.44015444015444016\n"
          ],
          "name": "stdout"
        },
        {
          "output_type": "stream",
          "text": [
            "/usr/local/lib/python3.6/dist-packages/sklearn/utils/deprecation.py:87: FutureWarning: Function safe_indexing is deprecated; safe_indexing is deprecated in version 0.22 and will be removed in version 0.24.\n",
            "  warnings.warn(msg, category=FutureWarning)\n"
          ],
          "name": "stderr"
        },
        {
          "output_type": "stream",
          "text": [
            "Epoch 1/10\n",
            " - 19s - loss: 0.2760 - accuracy: 0.8345\n",
            "Epoch 2/10\n",
            " - 17s - loss: 0.1032 - accuracy: 0.9052\n",
            "Epoch 3/10\n",
            " - 17s - loss: 0.0354 - accuracy: 0.9705\n",
            "Epoch 4/10\n",
            " - 17s - loss: 0.0132 - accuracy: 0.9896\n",
            "Epoch 5/10\n",
            " - 17s - loss: 0.0107 - accuracy: 0.9909\n",
            "Epoch 6/10\n",
            " - 17s - loss: 0.0099 - accuracy: 0.9912\n",
            "Epoch 7/10\n",
            " - 17s - loss: 0.0095 - accuracy: 0.9912\n",
            "Epoch 8/10\n",
            " - 17s - loss: 0.0094 - accuracy: 0.9912\n",
            "Epoch 9/10\n",
            " - 17s - loss: 0.0094 - accuracy: 0.9911\n",
            "Epoch 10/10\n",
            " - 17s - loss: 0.0090 - accuracy: 0.9914\n",
            "0.47154471544715443\n"
          ],
          "name": "stdout"
        },
        {
          "output_type": "stream",
          "text": [
            "/usr/local/lib/python3.6/dist-packages/sklearn/utils/deprecation.py:87: FutureWarning: Function safe_indexing is deprecated; safe_indexing is deprecated in version 0.22 and will be removed in version 0.24.\n",
            "  warnings.warn(msg, category=FutureWarning)\n"
          ],
          "name": "stderr"
        },
        {
          "output_type": "stream",
          "text": [
            "Epoch 1/10\n",
            " - 19s - loss: 0.2707 - accuracy: 0.8393\n",
            "Epoch 2/10\n",
            " - 17s - loss: 0.1016 - accuracy: 0.9074\n",
            "Epoch 3/10\n",
            " - 17s - loss: 0.0234 - accuracy: 0.9836\n",
            "Epoch 4/10\n",
            " - 17s - loss: 0.0078 - accuracy: 0.9940\n",
            "Epoch 5/10\n",
            " - 17s - loss: 0.0050 - accuracy: 0.9959\n",
            "Epoch 6/10\n",
            " - 17s - loss: 0.0044 - accuracy: 0.9962\n",
            "Epoch 7/10\n",
            " - 17s - loss: 0.0043 - accuracy: 0.9960\n",
            "Epoch 8/10\n",
            " - 17s - loss: 0.0046 - accuracy: 0.9958\n",
            "Epoch 9/10\n",
            " - 17s - loss: 0.0040 - accuracy: 0.9963\n",
            "Epoch 10/10\n",
            " - 17s - loss: 0.0045 - accuracy: 0.9958\n",
            "0.6535947712418301\n"
          ],
          "name": "stdout"
        },
        {
          "output_type": "stream",
          "text": [
            "/usr/local/lib/python3.6/dist-packages/sklearn/utils/deprecation.py:87: FutureWarning: Function safe_indexing is deprecated; safe_indexing is deprecated in version 0.22 and will be removed in version 0.24.\n",
            "  warnings.warn(msg, category=FutureWarning)\n"
          ],
          "name": "stderr"
        },
        {
          "output_type": "stream",
          "text": [
            "Epoch 1/4\n",
            " - 16s - loss: 0.3045 - accuracy: 0.8428\n",
            "Epoch 2/4\n",
            " - 14s - loss: 0.0817 - accuracy: 0.9282\n",
            "Epoch 3/4\n",
            " - 13s - loss: 0.0177 - accuracy: 0.9904\n",
            "Epoch 4/4\n",
            " - 13s - loss: 0.0050 - accuracy: 0.9978\n",
            "0.6582278481012658\n"
          ],
          "name": "stdout"
        },
        {
          "output_type": "stream",
          "text": [
            "/usr/local/lib/python3.6/dist-packages/sklearn/utils/deprecation.py:87: FutureWarning: Function safe_indexing is deprecated; safe_indexing is deprecated in version 0.22 and will be removed in version 0.24.\n",
            "  warnings.warn(msg, category=FutureWarning)\n"
          ],
          "name": "stderr"
        },
        {
          "output_type": "stream",
          "text": [
            "Epoch 1/4\n",
            " - 16s - loss: 0.2875 - accuracy: 0.8483\n",
            "Epoch 2/4\n",
            " - 13s - loss: 0.0864 - accuracy: 0.9270\n",
            "Epoch 3/4\n",
            " - 13s - loss: 0.0602 - accuracy: 0.9452\n",
            "Epoch 4/4\n",
            " - 13s - loss: 0.0480 - accuracy: 0.9561\n",
            "0.5552238805970149\n"
          ],
          "name": "stdout"
        },
        {
          "output_type": "stream",
          "text": [
            "/usr/local/lib/python3.6/dist-packages/sklearn/utils/deprecation.py:87: FutureWarning: Function safe_indexing is deprecated; safe_indexing is deprecated in version 0.22 and will be removed in version 0.24.\n",
            "  warnings.warn(msg, category=FutureWarning)\n"
          ],
          "name": "stderr"
        },
        {
          "output_type": "stream",
          "text": [
            "Epoch 1/4\n",
            " - 16s - loss: 0.3170 - accuracy: 0.8276\n",
            "Epoch 2/4\n",
            " - 14s - loss: 0.1185 - accuracy: 0.8968\n",
            "Epoch 3/4\n",
            " - 14s - loss: 0.0511 - accuracy: 0.9587\n",
            "Epoch 4/4\n",
            " - 14s - loss: 0.0083 - accuracy: 0.9957\n",
            "0.7665505226480837\n"
          ],
          "name": "stdout"
        },
        {
          "output_type": "stream",
          "text": [
            "/usr/local/lib/python3.6/dist-packages/sklearn/utils/deprecation.py:87: FutureWarning: Function safe_indexing is deprecated; safe_indexing is deprecated in version 0.22 and will be removed in version 0.24.\n",
            "  warnings.warn(msg, category=FutureWarning)\n"
          ],
          "name": "stderr"
        },
        {
          "output_type": "stream",
          "text": [
            "Epoch 1/4\n",
            " - 16s - loss: 0.3274 - accuracy: 0.8043\n",
            "Epoch 2/4\n",
            " - 13s - loss: 0.1233 - accuracy: 0.8948\n",
            "Epoch 3/4\n",
            " - 13s - loss: 0.1032 - accuracy: 0.9035\n",
            "Epoch 4/4\n",
            " - 13s - loss: 0.0978 - accuracy: 0.9067\n",
            "0.2901234567901234\n"
          ],
          "name": "stdout"
        },
        {
          "output_type": "stream",
          "text": [
            "/usr/local/lib/python3.6/dist-packages/sklearn/utils/deprecation.py:87: FutureWarning: Function safe_indexing is deprecated; safe_indexing is deprecated in version 0.22 and will be removed in version 0.24.\n",
            "  warnings.warn(msg, category=FutureWarning)\n"
          ],
          "name": "stderr"
        },
        {
          "output_type": "stream",
          "text": [
            "Epoch 1/7\n",
            " - 16s - loss: 0.2990 - accuracy: 0.8309\n",
            "Epoch 2/7\n",
            " - 13s - loss: 0.0968 - accuracy: 0.9179\n",
            "Epoch 3/7\n",
            " - 14s - loss: 0.0415 - accuracy: 0.9659\n",
            "Epoch 4/7\n",
            " - 14s - loss: 0.0106 - accuracy: 0.9933\n",
            "Epoch 5/7\n",
            " - 14s - loss: 0.0058 - accuracy: 0.9964\n",
            "Epoch 6/7\n",
            " - 13s - loss: 0.0035 - accuracy: 0.9978\n",
            "Epoch 7/7\n",
            " - 13s - loss: 0.0028 - accuracy: 0.9981\n",
            "0.6627218934911242\n"
          ],
          "name": "stdout"
        },
        {
          "output_type": "stream",
          "text": [
            "/usr/local/lib/python3.6/dist-packages/sklearn/utils/deprecation.py:87: FutureWarning: Function safe_indexing is deprecated; safe_indexing is deprecated in version 0.22 and will be removed in version 0.24.\n",
            "  warnings.warn(msg, category=FutureWarning)\n"
          ],
          "name": "stderr"
        },
        {
          "output_type": "stream",
          "text": [
            "Epoch 1/7\n",
            " - 16s - loss: 0.2984 - accuracy: 0.8450\n",
            "Epoch 2/7\n",
            " - 13s - loss: 0.0634 - accuracy: 0.9487\n",
            "Epoch 3/7\n",
            " - 14s - loss: 0.0134 - accuracy: 0.9925\n",
            "Epoch 4/7\n",
            " - 13s - loss: 0.0045 - accuracy: 0.9974\n",
            "Epoch 5/7\n",
            " - 14s - loss: 0.0030 - accuracy: 0.9980\n",
            "Epoch 6/7\n",
            " - 13s - loss: 0.0026 - accuracy: 0.9980\n",
            "Epoch 7/7\n",
            " - 14s - loss: 0.0023 - accuracy: 0.9980\n",
            "0.4308943089430894\n"
          ],
          "name": "stdout"
        },
        {
          "output_type": "stream",
          "text": [
            "/usr/local/lib/python3.6/dist-packages/sklearn/utils/deprecation.py:87: FutureWarning: Function safe_indexing is deprecated; safe_indexing is deprecated in version 0.22 and will be removed in version 0.24.\n",
            "  warnings.warn(msg, category=FutureWarning)\n"
          ],
          "name": "stderr"
        },
        {
          "output_type": "stream",
          "text": [
            "Epoch 1/7\n",
            " - 16s - loss: 0.3100 - accuracy: 0.8247\n",
            "Epoch 2/7\n",
            " - 14s - loss: 0.1006 - accuracy: 0.9086\n",
            "Epoch 3/7\n",
            " - 14s - loss: 0.0193 - accuracy: 0.9865\n",
            "Epoch 4/7\n",
            " - 14s - loss: 0.0072 - accuracy: 0.9949\n",
            "Epoch 5/7\n",
            " - 14s - loss: 0.0071 - accuracy: 0.9939\n",
            "Epoch 6/7\n",
            " - 14s - loss: 0.0065 - accuracy: 0.9941\n",
            "Epoch 7/7\n",
            " - 14s - loss: 0.0061 - accuracy: 0.9943\n",
            "0.47457627118644063\n"
          ],
          "name": "stdout"
        },
        {
          "output_type": "stream",
          "text": [
            "/usr/local/lib/python3.6/dist-packages/sklearn/utils/deprecation.py:87: FutureWarning: Function safe_indexing is deprecated; safe_indexing is deprecated in version 0.22 and will be removed in version 0.24.\n",
            "  warnings.warn(msg, category=FutureWarning)\n"
          ],
          "name": "stderr"
        },
        {
          "output_type": "stream",
          "text": [
            "Epoch 1/7\n",
            " - 16s - loss: 0.3319 - accuracy: 0.8103\n",
            "Epoch 2/7\n",
            " - 14s - loss: 0.1111 - accuracy: 0.9043\n",
            "Epoch 3/7\n",
            " - 14s - loss: 0.0341 - accuracy: 0.9748\n",
            "Epoch 4/7\n",
            " - 14s - loss: 0.0137 - accuracy: 0.9891\n",
            "Epoch 5/7\n",
            " - 14s - loss: 0.0096 - accuracy: 0.9915\n",
            "Epoch 6/7\n",
            " - 14s - loss: 0.0085 - accuracy: 0.9921\n",
            "Epoch 7/7\n",
            " - 14s - loss: 0.0064 - accuracy: 0.9944\n",
            "0.7432432432432433\n"
          ],
          "name": "stdout"
        },
        {
          "output_type": "stream",
          "text": [
            "/usr/local/lib/python3.6/dist-packages/sklearn/utils/deprecation.py:87: FutureWarning: Function safe_indexing is deprecated; safe_indexing is deprecated in version 0.22 and will be removed in version 0.24.\n",
            "  warnings.warn(msg, category=FutureWarning)\n"
          ],
          "name": "stderr"
        },
        {
          "output_type": "stream",
          "text": [
            "Epoch 1/10\n",
            " - 16s - loss: 0.3019 - accuracy: 0.8403\n",
            "Epoch 2/10\n",
            " - 14s - loss: 0.0988 - accuracy: 0.9156\n",
            "Epoch 3/10\n",
            " - 14s - loss: 0.0482 - accuracy: 0.9579\n",
            "Epoch 4/10\n",
            " - 14s - loss: 0.0160 - accuracy: 0.9878\n",
            "Epoch 5/10\n",
            " - 14s - loss: 0.0098 - accuracy: 0.9923\n",
            "Epoch 6/10\n",
            " - 14s - loss: 0.0081 - accuracy: 0.9930\n",
            "Epoch 7/10\n",
            " - 14s - loss: 0.0075 - accuracy: 0.9932\n",
            "Epoch 8/10\n",
            " - 14s - loss: 0.0073 - accuracy: 0.9932\n",
            "Epoch 9/10\n",
            " - 14s - loss: 0.0072 - accuracy: 0.9932\n",
            "Epoch 10/10\n",
            " - 14s - loss: 0.0072 - accuracy: 0.9932\n",
            "0.5508982035928145\n"
          ],
          "name": "stdout"
        },
        {
          "output_type": "stream",
          "text": [
            "/usr/local/lib/python3.6/dist-packages/sklearn/utils/deprecation.py:87: FutureWarning: Function safe_indexing is deprecated; safe_indexing is deprecated in version 0.22 and will be removed in version 0.24.\n",
            "  warnings.warn(msg, category=FutureWarning)\n"
          ],
          "name": "stderr"
        },
        {
          "output_type": "stream",
          "text": [
            "Epoch 1/10\n",
            " - 17s - loss: 0.2961 - accuracy: 0.8520\n",
            "Epoch 2/10\n",
            " - 15s - loss: 0.0667 - accuracy: 0.9438\n",
            "Epoch 3/10\n",
            " - 15s - loss: 0.0105 - accuracy: 0.9953\n",
            "Epoch 4/10\n",
            " - 15s - loss: 0.0040 - accuracy: 0.9977\n",
            "Epoch 5/10\n",
            " - 15s - loss: 0.0028 - accuracy: 0.9980\n",
            "Epoch 6/10\n",
            " - 15s - loss: 0.0033 - accuracy: 0.9974\n",
            "Epoch 7/10\n",
            " - 15s - loss: 0.0025 - accuracy: 0.9982\n",
            "Epoch 8/10\n",
            " - 15s - loss: 0.0023 - accuracy: 0.9980\n",
            "Epoch 9/10\n",
            " - 15s - loss: 0.0025 - accuracy: 0.9979\n",
            "Epoch 10/10\n",
            " - 15s - loss: 0.0021 - accuracy: 0.9982\n",
            "0.45344129554655876\n"
          ],
          "name": "stdout"
        },
        {
          "output_type": "stream",
          "text": [
            "/usr/local/lib/python3.6/dist-packages/sklearn/utils/deprecation.py:87: FutureWarning: Function safe_indexing is deprecated; safe_indexing is deprecated in version 0.22 and will be removed in version 0.24.\n",
            "  warnings.warn(msg, category=FutureWarning)\n"
          ],
          "name": "stderr"
        },
        {
          "output_type": "stream",
          "text": [
            "Epoch 1/10\n",
            " - 18s - loss: 0.2972 - accuracy: 0.8262\n",
            "Epoch 2/10\n",
            " - 16s - loss: 0.1101 - accuracy: 0.9044\n",
            "Epoch 3/10\n",
            " - 16s - loss: 0.0594 - accuracy: 0.9467\n",
            "Epoch 4/10\n",
            " - 16s - loss: 0.0101 - accuracy: 0.9930\n",
            "Epoch 5/10\n",
            " - 16s - loss: 0.0082 - accuracy: 0.9931\n",
            "Epoch 6/10\n",
            " - 16s - loss: 0.0072 - accuracy: 0.9936\n",
            "Epoch 7/10\n",
            " - 16s - loss: 0.0066 - accuracy: 0.9940\n",
            "Epoch 8/10\n",
            " - 16s - loss: 0.0046 - accuracy: 0.9958\n",
            "Epoch 9/10\n",
            " - 15s - loss: 0.0030 - accuracy: 0.9972\n",
            "Epoch 10/10\n",
            " - 16s - loss: 0.0025 - accuracy: 0.9981\n",
            "0.5232067510548524\n"
          ],
          "name": "stdout"
        },
        {
          "output_type": "stream",
          "text": [
            "/usr/local/lib/python3.6/dist-packages/sklearn/utils/deprecation.py:87: FutureWarning: Function safe_indexing is deprecated; safe_indexing is deprecated in version 0.22 and will be removed in version 0.24.\n",
            "  warnings.warn(msg, category=FutureWarning)\n"
          ],
          "name": "stderr"
        },
        {
          "output_type": "stream",
          "text": [
            "Epoch 1/10\n",
            " - 18s - loss: 0.3104 - accuracy: 0.8244\n",
            "Epoch 2/10\n",
            " - 15s - loss: 0.0861 - accuracy: 0.9279\n",
            "Epoch 3/10\n",
            " - 15s - loss: 0.0181 - accuracy: 0.9893\n",
            "Epoch 4/10\n",
            " - 15s - loss: 0.0112 - accuracy: 0.9916\n",
            "Epoch 5/10\n",
            " - 15s - loss: 0.0093 - accuracy: 0.9923\n",
            "Epoch 6/10\n",
            " - 15s - loss: 0.0085 - accuracy: 0.9924\n",
            "Epoch 7/10\n",
            " - 15s - loss: 0.0081 - accuracy: 0.9926\n",
            "Epoch 8/10\n",
            " - 15s - loss: 0.0078 - accuracy: 0.9927\n",
            "Epoch 9/10\n",
            " - 15s - loss: 0.0075 - accuracy: 0.9928\n",
            "Epoch 10/10\n",
            " - 15s - loss: 0.0075 - accuracy: 0.9928\n",
            "0.6250000000000001\n"
          ],
          "name": "stdout"
        }
      ]
    },
    {
      "cell_type": "code",
      "metadata": {
        "id": "GqRjAEuw64yP",
        "colab_type": "code",
        "colab": {
          "base_uri": "https://localhost:8080/",
          "height": 170
        },
        "outputId": "feb26498-233f-4c95-eca1-c70f6cfb7704"
      },
      "source": [
        "F_1_cv"
      ],
      "execution_count": 43,
      "outputs": [
        {
          "output_type": "execute_result",
          "data": {
            "text/plain": [
              "[[(20, 4), 0.554649564514459],\n",
              " [(20, 7), 0.5948646797106691],\n",
              " [(20, 10), 0.5995398928499013],\n",
              " [(30, 4), 0.5701455775068994],\n",
              " [(30, 7), 0.5912026456780755],\n",
              " [(30, 10), 0.5317729199131034],\n",
              " [(40, 4), 0.567531427034122],\n",
              " [(40, 7), 0.5778589292159744],\n",
              " [(40, 10), 0.5381365625485565]]"
            ]
          },
          "metadata": {
            "tags": []
          },
          "execution_count": 43
        }
      ]
    },
    {
      "cell_type": "code",
      "metadata": {
        "id": "166jEJoiVZ3w",
        "colab_type": "code",
        "colab": {
          "base_uri": "https://localhost:8080/",
          "height": 51
        },
        "outputId": "992e0d0a-a738-45ee-f56c-06946989cc36"
      },
      "source": [
        "from sklearn.model_selection import StratifiedKFold\n",
        "from sklearn.model_selection import train_test_split\n",
        "\n",
        "train_indices, test_indices, y_train, y_test = train_test_split(np.arange(len(clean_data)), clean_data['fraudulent'],\n",
        "                                                    stratify=clean_data['fraudulent'], \n",
        "                                                    test_size=0.3,random_state=0)\n",
        "from imblearn.over_sampling import RandomOverSampler\n",
        "ros = RandomOverSampler(random_state=0)\n",
        "X_resampled, y_resampled = ros.fit_resample(np.array(train_indices).reshape(-1, 1), clean_data.iloc[train_indices]['fraudulent'])\n",
        "train_indices=X_resampled.flatten()"
      ],
      "execution_count": 45,
      "outputs": [
        {
          "output_type": "stream",
          "text": [
            "/usr/local/lib/python3.6/dist-packages/sklearn/utils/deprecation.py:87: FutureWarning: Function safe_indexing is deprecated; safe_indexing is deprecated in version 0.22 and will be removed in version 0.24.\n",
            "  warnings.warn(msg, category=FutureWarning)\n"
          ],
          "name": "stderr"
        }
      ]
    },
    {
      "cell_type": "code",
      "metadata": {
        "id": "-98tAQ_0rFva",
        "colab_type": "code",
        "colab": {
          "base_uri": "https://localhost:8080/",
          "height": 1000
        },
        "outputId": "96df0721-8465-43a4-c31e-f38720f62ae7"
      },
      "source": [
        "max_fatures = 30000\n",
        "model1 = Sequential()\n",
        "model1.add(Dense(200,activation='softmax',input_shape = (X1.shape[1],)))\n",
        "model1.add(Dense(50,activation='softmax'))\n",
        "model1.add(Dense(2,activation='softmax'))\n",
        "\n",
        "model2 = Sequential()\n",
        "model2.add(Dense(200,activation='softmax',input_shape = (X2.shape[1],)))\n",
        "model2.add(Dense(50,activation='softmax'))\n",
        "model2.add(Dense(2,activation='softmax'))\n",
        "\n",
        "model3 = Sequential()\n",
        "model3.add(Dense(80,input_dim=non_text.shape[1],activation='relu'))\n",
        "model3.add(Dense(40,activation='relu'))\n",
        "model3.add(Dense(2,activation='sigmoid'))\n",
        "\n",
        "model_concat = concatenate([model1.output, model2.output, model3.output], axis=-1)\n",
        "model_concat = Dense(40, activation='sigmoid')(model_concat)\n",
        "model_concat = Dense(2, activation='softmax')(model_concat)\n",
        "model= Model(inputs=[model1.input, model2.input, model3.input], outputs=model_concat)\n",
        "model.compile(loss = 'categorical_crossentropy', optimizer='adam',metrics = ['accuracy'])\n",
        "print(model.summary())\n",
        "history=model.fit([X1_train, X2_train,non_text[train_indices]], Y1_train, epochs = 10, batch_size=30,verbose = 2)\n",
        "\n",
        "y_pred=model.predict([X1_test, X2_test,non_text[test_indices]],verbose = 2, batch_size = 30)\n",
        "y_pred1=np.argmax(y_pred,axis=1)\n",
        "Y1_test1=np.argmax(Y1_test,axis=1)\n",
        "print(f1_score(Y1_test1, y_pred1))"
      ],
      "execution_count": 49,
      "outputs": [
        {
          "output_type": "stream",
          "text": [
            "Model: \"model_90\"\n",
            "__________________________________________________________________________________________________\n",
            "Layer (type)                    Output Shape         Param #     Connected to                     \n",
            "==================================================================================================\n",
            "dense_970_input (InputLayer)    (None, 3000)         0                                            \n",
            "__________________________________________________________________________________________________\n",
            "dense_973_input (InputLayer)    (None, 3000)         0                                            \n",
            "__________________________________________________________________________________________________\n",
            "dense_976_input (InputLayer)    (None, 53)           0                                            \n",
            "__________________________________________________________________________________________________\n",
            "dense_970 (Dense)               (None, 200)          600200      dense_970_input[0][0]            \n",
            "__________________________________________________________________________________________________\n",
            "dense_973 (Dense)               (None, 200)          600200      dense_973_input[0][0]            \n",
            "__________________________________________________________________________________________________\n",
            "dense_976 (Dense)               (None, 80)           4320        dense_976_input[0][0]            \n",
            "__________________________________________________________________________________________________\n",
            "dense_971 (Dense)               (None, 50)           10050       dense_970[0][0]                  \n",
            "__________________________________________________________________________________________________\n",
            "dense_974 (Dense)               (None, 50)           10050       dense_973[0][0]                  \n",
            "__________________________________________________________________________________________________\n",
            "dense_977 (Dense)               (None, 40)           3240        dense_976[0][0]                  \n",
            "__________________________________________________________________________________________________\n",
            "dense_972 (Dense)               (None, 2)            102         dense_971[0][0]                  \n",
            "__________________________________________________________________________________________________\n",
            "dense_975 (Dense)               (None, 2)            102         dense_974[0][0]                  \n",
            "__________________________________________________________________________________________________\n",
            "dense_978 (Dense)               (None, 2)            82          dense_977[0][0]                  \n",
            "__________________________________________________________________________________________________\n",
            "concatenate_90 (Concatenate)    (None, 6)            0           dense_972[0][0]                  \n",
            "                                                                 dense_975[0][0]                  \n",
            "                                                                 dense_978[0][0]                  \n",
            "__________________________________________________________________________________________________\n",
            "dense_979 (Dense)               (None, 40)           280         concatenate_90[0][0]             \n",
            "__________________________________________________________________________________________________\n",
            "dense_980 (Dense)               (None, 2)            82          dense_979[0][0]                  \n",
            "==================================================================================================\n",
            "Total params: 1,228,708\n",
            "Trainable params: 1,228,708\n",
            "Non-trainable params: 0\n",
            "__________________________________________________________________________________________________\n",
            "None\n",
            "Epoch 1/10\n",
            " - 29s - loss: 0.4354 - accuracy: 0.8393\n",
            "Epoch 2/10\n",
            " - 26s - loss: 0.0917 - accuracy: 0.9704\n",
            "Epoch 3/10\n",
            " - 27s - loss: 0.0169 - accuracy: 0.9968\n",
            "Epoch 4/10\n",
            " - 26s - loss: 0.0068 - accuracy: 0.9989\n",
            "Epoch 5/10\n",
            " - 26s - loss: 0.0036 - accuracy: 0.9996\n",
            "Epoch 6/10\n",
            " - 27s - loss: 0.0020 - accuracy: 0.9999\n",
            "Epoch 7/10\n",
            " - 26s - loss: 0.0014 - accuracy: 0.9999\n",
            "Epoch 8/10\n",
            " - 27s - loss: 5.8946e-04 - accuracy: 1.0000\n",
            "Epoch 9/10\n",
            " - 26s - loss: 0.0012 - accuracy: 0.9998\n",
            "Epoch 10/10\n",
            " - 26s - loss: 2.4834e-04 - accuracy: 1.0000\n",
            "0.7870967741935484\n"
          ],
          "name": "stdout"
        }
      ]
    },
    {
      "cell_type": "code",
      "metadata": {
        "id": "G1bif4EwVnlp",
        "colab_type": "code",
        "colab": {
          "base_uri": "https://localhost:8080/",
          "height": 119
        },
        "outputId": "248c998f-4461-4ddb-a2dc-a76dad03a7a3"
      },
      "source": [
        "from sklearn.metrics import classification_report, confusion_matrix,f1_score,accuracy_score, precision_score, recall_score\n",
        "print(f1_score(Y1_test1, y_pred1))\n",
        "print(confusion_matrix(Y1_test1, y_pred1))\n",
        "print(accuracy_score(Y1_test1, y_pred1))\n",
        "print(precision_score(Y1_test1, y_pred1))\n",
        "print(recall_score(Y1_test1, y_pred1))"
      ],
      "execution_count": 50,
      "outputs": [
        {
          "output_type": "stream",
          "text": [
            "0.7870967741935484\n",
            "[[5082   22]\n",
            " [  77  183]]\n",
            "0.9815436241610739\n",
            "0.8926829268292683\n",
            "0.7038461538461539\n"
          ],
          "name": "stdout"
        }
      ]
    },
    {
      "cell_type": "code",
      "metadata": {
        "id": "DUv4sBgnVn0j",
        "colab_type": "code",
        "colab": {
          "base_uri": "https://localhost:8080/",
          "height": 295
        },
        "outputId": "aa2c0c50-4b31-44d1-d74b-00af847b94aa"
      },
      "source": [
        "training_loss = history.history['loss']\n",
        "epoch_count = range(1, len(training_loss) + 1)\n",
        "plt.plot(epoch_count, training_loss)\n",
        "plt.title('Training Loss Plot')\n",
        "plt.xlabel('Epoch')\n",
        "plt.ylabel('Training Loss')\n",
        "plt.show();"
      ],
      "execution_count": 51,
      "outputs": [
        {
          "output_type": "display_data",
          "data": {
            "image/png": "[encoded data removed]",
            "text/plain": [
              "<Figure size 432x288 with 1 Axes>"
            ]
          },
          "metadata": {
            "tags": [],
            "needs_background": "light"
          }
        }
      ]
    }
  ]
}