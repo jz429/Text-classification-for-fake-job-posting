{
 "cells": [
  {
   "cell_type": "code",
   "execution_count": 1,
   "metadata": {
    "colab": {
     "base_uri": "https://localhost:8080/",
     "height": 34
    },
    "colab_type": "code",
    "id": "BUJbNBJcAW-M",
    "outputId": "80378c50-da75-4c04-9396-4e967974708d"
   },
   "outputs": [
    {
     "name": "stdout",
     "output_type": "stream",
     "text": [
      "TensorFlow 1.x selected.\n"
     ]
    }
   ],
   "source": [
    "%tensorflow_version 1.x"
   ]
  },
  {
   "cell_type": "code",
   "execution_count": 2,
   "metadata": {
    "colab": {
     "base_uri": "https://localhost:8080/",
     "height": 156
    },
    "colab_type": "code",
    "id": "i3PAzvZkAcHR",
    "outputId": "a3f4d321-fb49-4733-bda4-d09df413b8a8"
   },
   "outputs": [
    {
     "name": "stderr",
     "output_type": "stream",
     "text": [
      "/usr/local/lib/python3.6/dist-packages/statsmodels/tools/_testing.py:19: FutureWarning: pandas.util.testing is deprecated. Use the functions in the public API at pandas.testing instead.\n",
      "  import pandas.util.testing as tm\n"
     ]
    },
    {
     "name": "stdout",
     "output_type": "stream",
     "text": [
      "Requirement already satisfied: nltk in /usr/local/lib/python3.6/dist-packages (3.2.5)\n",
      "Requirement already satisfied: six in /usr/local/lib/python3.6/dist-packages (from nltk) (1.12.0)\n",
      "[nltk_data] Downloading package stopwords to /root/nltk_data...\n",
      "[nltk_data]   Package stopwords is already up-to-date!\n"
     ]
    },
    {
     "name": "stderr",
     "output_type": "stream",
     "text": [
      "Using TensorFlow backend.\n"
     ]
    }
   ],
   "source": [
    "import pandas as pd\n",
    "import numpy as np\n",
    "import torch\n",
    "import collections, re\n",
    "import matplotlib.pyplot as plt\n",
    "import seaborn as sns\n",
    "from nltk.util import ngrams\n",
    "from nltk.tokenize import RegexpTokenizer\n",
    "use_cuda = torch.cuda.is_available()\n",
    "device = torch.device(\"cuda:0\" if use_cuda else \"cpu\")\n",
    "!pip3 install nltk\n",
    "import nltk\n",
    "nltk.download('stopwords')\n",
    "from sklearn.feature_extraction.text import CountVectorizer\n",
    "from keras.preprocessing.text import Tokenizer\n",
    "from keras.preprocessing.sequence import pad_sequences\n",
    "from keras.models import Sequential\n",
    "from keras.layers import Dense, Embedding, LSTM\n",
    "from sklearn.model_selection import train_test_split\n",
    "from keras.utils.np_utils import to_categorical\n",
    "import re\n",
    "from keras.layers import  CuDNNLSTM "
   ]
  },
  {
   "cell_type": "code",
   "execution_count": 3,
   "metadata": {
    "colab": {
     "base_uri": "https://localhost:8080/",
     "height": 34
    },
    "colab_type": "code",
    "id": "sZVBju-AAdh2",
    "outputId": "b3af9dc1-5820-4508-c6e0-25c467a6a66e"
   },
   "outputs": [
    {
     "name": "stdout",
     "output_type": "stream",
     "text": [
      "Drive already mounted at /content/drive; to attempt to forcibly remount, call drive.mount(\"/content/drive\", force_remount=True).\n"
     ]
    }
   ],
   "source": [
    "from google.colab import drive\n",
    "drive.mount('/content/drive')"
   ]
  },
  {
   "cell_type": "code",
   "execution_count": 0,
   "metadata": {
    "colab": {},
    "colab_type": "code",
    "id": "dZ2tKUkFAfDq"
   },
   "outputs": [],
   "source": [
    "df1=pd.read_csv(\"/content/drive/My Drive/NLP project/clean_data.csv\",encoding='latin-1') #you need to change the path\n",
    "df2=pd.read_csv(\"/content/drive/My Drive/NLP project/clean_data2.csv\",encoding='latin-1') #you need to change the path\n",
    "clean_data=df1.copy() #"
   ]
  },
  {
   "cell_type": "code",
   "execution_count": 0,
   "metadata": {
    "colab": {},
    "colab_type": "code",
    "id": "HznFxJvVAfZ8"
   },
   "outputs": [],
   "source": [
    "from sklearn.model_selection import StratifiedKFold\n",
    "from sklearn.model_selection import train_test_split\n",
    "\n",
    "train_indices, test_indices, y_train, y_test = train_test_split(np.arange(len(clean_data)), clean_data['fraudulent'],\n",
    "                                                    stratify=clean_data['fraudulent'], \n",
    "                                                    test_size=0.3,random_state=0)\n",
    "reduced_train_indices, val_indices, y_reduced_train, y_valid = train_test_split(train_indices, clean_data.loc[train_indices]['fraudulent'],\n",
    "                                                    stratify=clean_data.loc[train_indices]['fraudulent'], \n",
    "                                                    test_size=0.2,random_state=0)"
   ]
  },
  {
   "cell_type": "code",
   "execution_count": 0,
   "metadata": {
    "colab": {},
    "colab_type": "code",
    "id": "OkLoRLuxAwX3"
   },
   "outputs": [],
   "source": [
    "from keras.layers import concatenate\n",
    "from keras import Sequential, Model\n",
    "from sklearn.metrics import classification_report, confusion_matrix,f1_score,accuracy_score,precision_score,recall_score\n",
    "non_text= clean_data.drop(['title', 'job_id', 'company_profile','description','fraudulent'], axis=1).to_numpy()"
   ]
  },
  {
   "cell_type": "code",
   "execution_count": 7,
   "metadata": {
    "colab": {
     "base_uri": "https://localhost:8080/",
     "height": 139
    },
    "colab_type": "code",
    "id": "rELB6EAIA3t5",
    "outputId": "04a5f902-9c6b-4b8a-c787-3c9b881e747a"
   },
   "outputs": [
    {
     "name": "stderr",
     "output_type": "stream",
     "text": [
      "/usr/local/lib/python3.6/dist-packages/sklearn/externals/six.py:31: FutureWarning: The module is deprecated in version 0.21 and will be removed in version 0.23 since we've dropped support for Python 2.7. Please rely on the official version of six (https://pypi.org/project/six/).\n",
      "  \"(https://pypi.org/project/six/).\", FutureWarning)\n",
      "/usr/local/lib/python3.6/dist-packages/sklearn/utils/deprecation.py:144: FutureWarning: The sklearn.neighbors.base module is  deprecated in version 0.22 and will be removed in version 0.24. The corresponding classes / functions should instead be imported from sklearn.neighbors. Anything that cannot be imported from sklearn.neighbors is now part of the private API.\n",
      "  warnings.warn(message, FutureWarning)\n",
      "/usr/local/lib/python3.6/dist-packages/sklearn/utils/deprecation.py:87: FutureWarning: Function safe_indexing is deprecated; safe_indexing is deprecated in version 0.22 and will be removed in version 0.24.\n",
      "  warnings.warn(msg, category=FutureWarning)\n"
     ]
    }
   ],
   "source": [
    "from imblearn.over_sampling import RandomOverSampler\n",
    "ros = RandomOverSampler(random_state=0)\n",
    "X_resampled, y_resampled = ros.fit_resample(np.array(reduced_train_indices).reshape(-1, 1), clean_data.iloc[reduced_train_indices]['fraudulent'])\n",
    "X_resampled=X_resampled.flatten()"
   ]
  },
  {
   "cell_type": "code",
   "execution_count": 0,
   "metadata": {
    "colab": {},
    "colab_type": "code",
    "id": "dqL0gQNKA52h"
   },
   "outputs": [],
   "source": [
    "train_df=clean_data[\"description\"][X_resampled].tolist()\n",
    "test_df=clean_data[\"description\"][test_indices].tolist()\n",
    "val_df=clean_data[\"description\"][val_indices].tolist()\n",
    "\n",
    "train_label=clean_data[\"fraudulent\"][X_resampled].tolist()\n",
    "test_label=clean_data[\"fraudulent\"][test_indices].tolist()\n",
    "val_label=clean_data[\"fraudulent\"][val_indices].tolist()\n",
    "\n",
    "train_df_com=clean_data[\"company_profile\"][X_resampled].tolist()\n",
    "test_df_com=clean_data[\"company_profile\"][test_indices].tolist()\n",
    "val_df_com=clean_data[\"company_profile\"][val_indices].tolist()\n",
    "\n",
    "Y1 = pd.get_dummies(clean_data['fraudulent']).values\n",
    "Y1_train=Y1[X_resampled]\n",
    "Y1_test=Y1[test_indices]\n",
    "Y1_val=Y1[val_indices]"
   ]
  },
  {
   "cell_type": "code",
   "execution_count": 0,
   "metadata": {
    "colab": {},
    "colab_type": "code",
    "id": "XDy0hisVA8GS"
   },
   "outputs": [],
   "source": [
    "non_text_train=non_text[X_resampled]\n",
    "non_text_val=non_text[val_indices]\n",
    "non_text_test=non_text[test_indices]"
   ]
  },
  {
   "cell_type": "code",
   "execution_count": 0,
   "metadata": {
    "colab": {},
    "colab_type": "code",
    "id": "67UsHD2lBTr3"
   },
   "outputs": [],
   "source": [
    "train_text = train_df\n",
    "train_text = [' '.join(t.split()[0:200]) for t in train_text]\n",
    "train_text = np.array(train_text, dtype=object)[:, np.newaxis]\n",
    "test_text = test_df\n",
    "test_text = [' '.join(t.split()[0:200]) for t in test_text]\n",
    "test_text = np.array(test_text, dtype=object)[:, np.newaxis]\n",
    "val_text = val_df\n",
    "val_text = [' '.join(t.split()[0:200]) for t in val_text]\n",
    "val_text = np.array(val_text, dtype=object)[:, np.newaxis]"
   ]
  },
  {
   "cell_type": "code",
   "execution_count": 0,
   "metadata": {
    "colab": {},
    "colab_type": "code",
    "id": "1eDYF9ehBncb"
   },
   "outputs": [],
   "source": [
    "train_text_com = train_df_com\n",
    "train_text_com = [' '.join(t.split()[0:200]) for t in train_text_com]\n",
    "train_text_com = np.array(train_text_com, dtype=object)[:, np.newaxis]\n",
    "test_text_com = test_df_com\n",
    "test_text_com = [' '.join(t.split()[0:200]) for t in test_text_com]\n",
    "test_text_com = np.array(test_text_com, dtype=object)[:, np.newaxis]\n",
    "val_text_com = val_df_com\n",
    "val_text_com = [' '.join(t.split()[0:200]) for t in val_text_com]\n",
    "val_text_com = np.array(val_text_com, dtype=object)[:, np.newaxis]"
   ]
  },
  {
   "cell_type": "code",
   "execution_count": 0,
   "metadata": {
    "colab": {},
    "colab_type": "code",
    "id": "qAdluCY0Bo8-"
   },
   "outputs": [],
   "source": [
    "from keras import backend as K\n",
    "import keras.layers as layers\n",
    "from keras.models import Model, load_model\n",
    "from keras.engine import Layer\n",
    "import tensorflow_hub as hub\n",
    "import tensorflow as tf\n",
    "\n",
    "class ElmoEmbeddingLayer(Layer):\n",
    "    def __init__(self, **kwargs):\n",
    "        self.dimensions = 1024\n",
    "        self.trainable = True\n",
    "        super(ElmoEmbeddingLayer, self).__init__(**kwargs)\n",
    "    def build(self, input_shape):\n",
    "        self.elmo = hub.Module('https://tfhub.dev/google/elmo/2', trainable=self.trainable, name=\"{}_module\".format(self.name))\n",
    "        self.trainable_weights += K.tensorflow_backend.tf.trainable_variables(scope=\"^{}_module/.*\".format(self.name))\n",
    "        super(ElmoEmbeddingLayer, self).build(input_shape)\n",
    "    def call(self, x, mask=None):\n",
    "        result = self.elmo(K.squeeze(K.cast(x, tf.string), axis=1),\n",
    "                      as_dict=True,\n",
    "                      signature='default',\n",
    "                      )['default']\n",
    "        return result\n",
    "    def compute_mask(self, inputs, mask=None):\n",
    "        return K.not_equal(inputs, '--PAD--')\n",
    "    def compute_output_shape(self, input_shape):\n",
    "        return (input_shape[0], self.dimensions)"
   ]
  },
  {
   "cell_type": "code",
   "execution_count": 0,
   "metadata": {
    "colab": {},
    "colab_type": "code",
    "id": "DM-tlwmkL1xa"
   },
   "outputs": [],
   "source": [
    "from keras import backend as K\n",
    "def f1(y_true, y_pred):\n",
    "    y_pred = K.round(y_pred)\n",
    "    tp = K.sum(K.cast(y_true*y_pred, 'float'), axis=0)\n",
    "    tn = K.sum(K.cast((1-y_true)*(1-y_pred), 'float'), axis=0)\n",
    "    fp = K.sum(K.cast((1-y_true)*y_pred, 'float'), axis=0)\n",
    "    fn = K.sum(K.cast(y_true*(1-y_pred), 'float'), axis=0)\n",
    "\n",
    "    p = tp / (tp + fp + K.epsilon())\n",
    "    r = tp / (tp + fn + K.epsilon())\n",
    "\n",
    "    f1 = 2*p*r / (p+r+K.epsilon())\n",
    "    f1 = tf.where(tf.is_nan(f1), tf.zeros_like(f1), f1)\n",
    "    return K.mean(f1)\n",
    "\n",
    "def f1_loss(y_true, y_pred):\n",
    "    \n",
    "    tp = K.sum(K.cast(y_true*y_pred, 'float'), axis=0)\n",
    "    tn = K.sum(K.cast((1-y_true)*(1-y_pred), 'float'), axis=0)\n",
    "    fp = K.sum(K.cast((1-y_true)*y_pred, 'float'), axis=0)\n",
    "    fn = K.sum(K.cast(y_true*(1-y_pred), 'float'), axis=0)\n",
    "\n",
    "    p = tp / (tp + fp + K.epsilon())\n",
    "    r = tp / (tp + fn + K.epsilon())\n",
    "\n",
    "    f1 = 2*p*r / (p+r+K.epsilon())\n",
    "    f1 = tf.where(tf.is_nan(f1), tf.zeros_like(f1), f1)\n",
    "    return 1 - K.mean(f1)"
   ]
  },
  {
   "cell_type": "code",
   "execution_count": 0,
   "metadata": {
    "colab": {
     "base_uri": "https://localhost:8080/",
     "height": 1000
    },
    "colab_type": "code",
    "id": "gDPhkrmwBqxn",
    "outputId": "efcb5507-bfd6-4377-f034-a0d9d57ecfcf"
   },
   "outputs": [
    {
     "name": "stdout",
     "output_type": "stream",
     "text": [
      "INFO:tensorflow:Saver not created because there are no variables in the graph to restore\n"
     ]
    },
    {
     "name": "stderr",
     "output_type": "stream",
     "text": [
      "INFO:tensorflow:Saver not created because there are no variables in the graph to restore\n"
     ]
    },
    {
     "name": "stdout",
     "output_type": "stream",
     "text": [
      "INFO:tensorflow:Saver not created because there are no variables in the graph to restore\n"
     ]
    },
    {
     "name": "stderr",
     "output_type": "stream",
     "text": [
      "INFO:tensorflow:Saver not created because there are no variables in the graph to restore\n"
     ]
    },
    {
     "name": "stdout",
     "output_type": "stream",
     "text": [
      "Model: \"model_6\"\n",
      "__________________________________________________________________________________________________\n",
      "Layer (type)                    Output Shape         Param #     Connected to                     \n",
      "==================================================================================================\n",
      "input_3 (InputLayer)            (None, 1)            0                                            \n",
      "__________________________________________________________________________________________________\n",
      "input_4 (InputLayer)            (None, 1)            0                                            \n",
      "__________________________________________________________________________________________________\n",
      "dense_14_input (InputLayer)     (None, 53)           0                                            \n",
      "__________________________________________________________________________________________________\n",
      "elmo_embedding_layer_3 (ElmoEmb (None, 1024)         4           input_3[0][0]                    \n",
      "__________________________________________________________________________________________________\n",
      "elmo_embedding_layer_4 (ElmoEmb (None, 1024)         4           input_4[0][0]                    \n",
      "__________________________________________________________________________________________________\n",
      "dense_14 (Dense)                (None, 400)          21600       dense_14_input[0][0]             \n",
      "__________________________________________________________________________________________________\n",
      "dense_10 (Dense)                (None, 200)          205000      elmo_embedding_layer_3[0][0]     \n",
      "__________________________________________________________________________________________________\n",
      "dense_12 (Dense)                (None, 200)          205000      elmo_embedding_layer_4[0][0]     \n",
      "__________________________________________________________________________________________________\n",
      "dense_15 (Dense)                (None, 100)          40100       dense_14[0][0]                   \n",
      "__________________________________________________________________________________________________\n",
      "dense_11 (Dense)                (None, 2)            402         dense_10[0][0]                   \n",
      "__________________________________________________________________________________________________\n",
      "dense_13 (Dense)                (None, 2)            402         dense_12[0][0]                   \n",
      "__________________________________________________________________________________________________\n",
      "dense_16 (Dense)                (None, 2)            202         dense_15[0][0]                   \n",
      "__________________________________________________________________________________________________\n",
      "concatenate_2 (Concatenate)     (None, 6)            0           dense_11[0][0]                   \n",
      "                                                                 dense_13[0][0]                   \n",
      "                                                                 dense_16[0][0]                   \n",
      "__________________________________________________________________________________________________\n",
      "dense_17 (Dense)                (None, 20)           140         concatenate_2[0][0]              \n",
      "__________________________________________________________________________________________________\n",
      "dense_18 (Dense)                (None, 2)            42          dense_17[0][0]                   \n",
      "==================================================================================================\n",
      "Total params: 472,896\n",
      "Trainable params: 472,896\n",
      "Non-trainable params: 0\n",
      "__________________________________________________________________________________________________\n",
      "Epoch 1/10\n",
      "19054/19054 [==============================] - 936s 49ms/step - loss: 0.3424 - accuracy: 0.8802 - f1: 0.8299\n",
      "Epoch 2/10\n",
      "19054/19054 [==============================] - 915s 48ms/step - loss: 0.1584 - accuracy: 0.9386 - f1: 0.8322\n",
      "Epoch 3/10\n",
      "19054/19054 [==============================] - 939s 49ms/step - loss: 0.1258 - accuracy: 0.9527 - f1: 0.7098\n",
      "Epoch 4/10\n",
      "19054/19054 [==============================] - 947s 50ms/step - loss: 0.1087 - accuracy: 0.9591 - f1: 0.4558\n",
      "Epoch 5/10\n",
      "19054/19054 [==============================] - 954s 50ms/step - loss: 0.1029 - accuracy: 0.9607 - f1: 0.4250\n",
      "Epoch 6/10\n",
      "19054/19054 [==============================] - 949s 50ms/step - loss: 0.0955 - accuracy: 0.9643 - f1: 0.4245\n",
      "Epoch 7/10\n",
      " 8560/19054 [============>.................] - ETA: 8:37 - loss: 0.0885 - accuracy: 0.9630 - f1: 0.4338"
     ]
    }
   ],
   "source": [
    "from keras.layers import concatenate\n",
    "\n",
    "input_text = layers.Input(shape=(1,), dtype=tf.string)\n",
    "embedding = ElmoEmbeddingLayer()(input_text)\n",
    "dense = layers.Dense(200, activation='relu')(embedding)\n",
    "pred = layers.Dense(2, activation='softmax')(dense)\n",
    "model1 = Model(inputs=[input_text], outputs=pred)\n",
    "\n",
    "input_text2 = layers.Input(shape=(1,), dtype=tf.string)\n",
    "embedding = ElmoEmbeddingLayer()(input_text2)\n",
    "dense = layers.Dense(200, activation='relu')(embedding)\n",
    "pred = layers.Dense(2, activation='softmax')(dense)\n",
    "model2 = Model(inputs=[input_text2], outputs=pred)\n",
    "\n",
    "model3 = Sequential()\n",
    "model3.add(Dense(400,input_dim=non_text.shape[1],activation='relu'))\n",
    "model3.add(Dense(100,activation='relu'))\n",
    "model3.add(Dense(2,activation='sigmoid'))\n",
    "\n",
    "model_concat = concatenate([model1.output, model2.output, model3.output], axis=-1)\n",
    "model_concat = Dense(20, activation='relu')(model_concat)\n",
    "model_concat = Dense(2, activation='sigmoid')(model_concat)\n",
    "model= Model(inputs=[model1.input, model2.input,model3.input], outputs=model_concat)\n",
    "\n",
    "model.compile(loss = 'categorical_crossentropy', optimizer='adam',metrics = ['accuracy',f1])\n",
    "# model.compile(loss = f1_loss, optimizer='adam',metrics = ['accuracy',f1])\n",
    "model.summary()\n",
    "history=model.fit([train_text,train_text_com,non_text_train], Y1_train, epochs=10,batch_size=20,class_weight={0:1, 1:1})\n",
    "training_loss = history.history['loss']\n",
    "epoch_count = range(1, len(training_loss) + 1)\n",
    "plt.plot(epoch_count, training_loss)\n",
    "plt.title('Training Loss Plot')\n",
    "plt.xlabel('Epoch')\n",
    "plt.ylabel('Training Loss')\n",
    "plt.show();\n",
    "\n",
    "y_pred=model.predict([val_text,val_text_com,non_text_val], batch_size = 20)\n",
    "y_pred1=np.argmax(y_pred,axis=1)\n",
    "Y1_val1=np.argmax(Y1_val,axis=1)\n",
    "print(f1_score(Y1_val1, y_pred1))\n",
    "print(accuracy_score(Y1_val1, y_pred1))\n",
    "print(precision_score(Y1_val1, y_pred1))\n",
    "print(recall_score(Y1_val1, y_pred1))\n",
    "print(confusion_matrix(Y1_val1, y_pred1))"
   ]
  },
  {
   "cell_type": "code",
   "execution_count": 0,
   "metadata": {
    "colab": {
     "base_uri": "https://localhost:8080/",
     "height": 71
    },
    "colab_type": "code",
    "id": "qqtEeO7ssyYm",
    "outputId": "e9e5d211-3788-4af3-c545-1e4032d12af0"
   },
   "outputs": [
    {
     "name": "stderr",
     "output_type": "stream",
     "text": [
      "/usr/local/lib/python3.6/dist-packages/sklearn/utils/deprecation.py:87: FutureWarning: Function safe_indexing is deprecated; safe_indexing is deprecated in version 0.22 and will be removed in version 0.24.\n",
      "  warnings.warn(msg, category=FutureWarning)\n"
     ]
    }
   ],
   "source": [
    "from imblearn.over_sampling import RandomOverSampler\n",
    "ros = RandomOverSampler(random_state=0)\n",
    "X_resampled, y_resampled = ros.fit_resample(np.array(train_indices).reshape(-1, 1), clean_data.iloc[train_indices]['fraudulent'])\n",
    "X_resampled=X_resampled.flatten()\n",
    "\n",
    "train_df=clean_data[\"description\"][X_resampled].tolist()\n",
    "test_df=clean_data[\"description\"][test_indices].tolist()\n",
    "\n",
    "train_label=clean_data[\"fraudulent\"][X_resampled].tolist()\n",
    "test_label=clean_data[\"fraudulent\"][test_indices].tolist()\n",
    "\n",
    "train_df_com=clean_data[\"company_profile\"][X_resampled].tolist()\n",
    "test_df_com=clean_data[\"company_profile\"][test_indices].tolist()\n",
    "\n",
    "Y1 = pd.get_dummies(clean_data['fraudulent']).values\n",
    "Y1_train=Y1[X_resampled]\n",
    "Y1_test=Y1[test_indices]\n",
    "\n",
    "non_text_train=non_text[X_resampled]\n",
    "non_text_test=non_text[test_indices]"
   ]
  },
  {
   "cell_type": "code",
   "execution_count": 0,
   "metadata": {
    "colab": {},
    "colab_type": "code",
    "id": "rWd_xhwPuuCQ"
   },
   "outputs": [],
   "source": [
    "train_text = train_df\n",
    "train_text = [' '.join(t.split()[0:200]) for t in train_text]\n",
    "train_text = np.array(train_text, dtype=object)[:, np.newaxis]\n",
    "test_text = test_df\n",
    "test_text = [' '.join(t.split()[0:200]) for t in test_text]\n",
    "test_text = np.array(test_text, dtype=object)[:, np.newaxis]\n",
    "train_text_com = train_df_com\n",
    "train_text_com = [' '.join(t.split()[0:200]) for t in train_text_com]\n",
    "train_text_com = np.array(train_text_com, dtype=object)[:, np.newaxis]\n",
    "test_text_com = test_df_com\n",
    "test_text_com = [' '.join(t.split()[0:200]) for t in test_text_com]\n",
    "test_text_com = np.array(test_text_com, dtype=object)[:, np.newaxis]\n"
   ]
  },
  {
   "cell_type": "code",
   "execution_count": 0,
   "metadata": {
    "colab": {
     "base_uri": "https://localhost:8080/",
     "height": 1000
    },
    "colab_type": "code",
    "id": "-QS2qfxivZpK",
    "outputId": "7addc58f-8077-4d6c-e187-b87301138619"
   },
   "outputs": [
    {
     "name": "stdout",
     "output_type": "stream",
     "text": [
      "INFO:tensorflow:Saver not created because there are no variables in the graph to restore\n"
     ]
    },
    {
     "name": "stderr",
     "output_type": "stream",
     "text": [
      "INFO:tensorflow:Saver not created because there are no variables in the graph to restore\n"
     ]
    },
    {
     "name": "stdout",
     "output_type": "stream",
     "text": [
      "INFO:tensorflow:Saver not created because there are no variables in the graph to restore\n"
     ]
    },
    {
     "name": "stderr",
     "output_type": "stream",
     "text": [
      "INFO:tensorflow:Saver not created because there are no variables in the graph to restore\n"
     ]
    },
    {
     "name": "stdout",
     "output_type": "stream",
     "text": [
      "Model: \"model_18\"\n",
      "__________________________________________________________________________________________________\n",
      "Layer (type)                    Output Shape         Param #     Connected to                     \n",
      "==================================================================================================\n",
      "input_11 (InputLayer)           (None, 1)            0                                            \n",
      "__________________________________________________________________________________________________\n",
      "input_12 (InputLayer)           (None, 1)            0                                            \n",
      "__________________________________________________________________________________________________\n",
      "dense_50_input (InputLayer)     (None, 53)           0                                            \n",
      "__________________________________________________________________________________________________\n",
      "elmo_embedding_layer_11 (ElmoEm (None, 1024)         4           input_11[0][0]                   \n",
      "__________________________________________________________________________________________________\n",
      "elmo_embedding_layer_12 (ElmoEm (None, 1024)         4           input_12[0][0]                   \n",
      "__________________________________________________________________________________________________\n",
      "dense_50 (Dense)                (None, 400)          21600       dense_50_input[0][0]             \n",
      "__________________________________________________________________________________________________\n",
      "dense_46 (Dense)                (None, 200)          205000      elmo_embedding_layer_11[0][0]    \n",
      "__________________________________________________________________________________________________\n",
      "dense_48 (Dense)                (None, 200)          205000      elmo_embedding_layer_12[0][0]    \n",
      "__________________________________________________________________________________________________\n",
      "dense_51 (Dense)                (None, 100)          40100       dense_50[0][0]                   \n",
      "__________________________________________________________________________________________________\n",
      "dense_47 (Dense)                (None, 2)            402         dense_46[0][0]                   \n",
      "__________________________________________________________________________________________________\n",
      "dense_49 (Dense)                (None, 2)            402         dense_48[0][0]                   \n",
      "__________________________________________________________________________________________________\n",
      "dense_52 (Dense)                (None, 2)            202         dense_51[0][0]                   \n",
      "__________________________________________________________________________________________________\n",
      "concatenate_6 (Concatenate)     (None, 6)            0           dense_47[0][0]                   \n",
      "                                                                 dense_49[0][0]                   \n",
      "                                                                 dense_52[0][0]                   \n",
      "__________________________________________________________________________________________________\n",
      "dense_53 (Dense)                (None, 20)           140         concatenate_6[0][0]              \n",
      "__________________________________________________________________________________________________\n",
      "dense_54 (Dense)                (None, 2)            42          dense_53[0][0]                   \n",
      "==================================================================================================\n",
      "Total params: 472,896\n",
      "Trainable params: 472,896\n",
      "Non-trainable params: 0\n",
      "__________________________________________________________________________________________________\n",
      "Epoch 1/10\n",
      "23820/23820 [==============================] - 993s 42ms/step - loss: 0.2729 - accuracy: 0.8955 - f1: 0.7714\n",
      "Epoch 2/10\n",
      "23820/23820 [==============================] - 978s 41ms/step - loss: 0.0941 - accuracy: 0.9659 - f1: 0.7539\n",
      "Epoch 3/10\n",
      "23820/23820 [==============================] - 979s 41ms/step - loss: 0.0590 - accuracy: 0.9809 - f1: 0.7568\n",
      "Epoch 4/10\n",
      "23820/23820 [==============================] - 994s 42ms/step - loss: 0.0514 - accuracy: 0.9832 - f1: 0.7457\n",
      "Epoch 5/10\n",
      "23820/23820 [==============================] - 988s 41ms/step - loss: 0.0345 - accuracy: 0.9885 - f1: 0.7614\n",
      "Epoch 6/10\n",
      "23820/23820 [==============================] - 991s 42ms/step - loss: 0.0330 - accuracy: 0.9890 - f1: 0.7685\n",
      "Epoch 7/10\n",
      "23820/23820 [==============================] - 996s 42ms/step - loss: 0.0231 - accuracy: 0.9918 - f1: 0.7642\n",
      "Epoch 8/10\n",
      "23820/23820 [==============================] - 995s 42ms/step - loss: 0.0251 - accuracy: 0.9913 - f1: 0.7710\n",
      "Epoch 9/10\n",
      "23820/23820 [==============================] - 994s 42ms/step - loss: 0.0190 - accuracy: 0.9929 - f1: 0.7821\n",
      "Epoch 10/10\n",
      "23820/23820 [==============================] - 994s 42ms/step - loss: 0.0176 - accuracy: 0.9937 - f1: 0.7865\n"
     ]
    },
    {
     "data": {
      "image/png": "[encoded data removed]",
      "text/plain": [
       "<Figure size 432x288 with 1 Axes>"
      ]
     },
     "metadata": {
      "needs_background": "light",
      "tags": []
     },
     "output_type": "display_data"
    },
    {
     "name": "stdout",
     "output_type": "stream",
     "text": [
      "0.7364485981308411\n",
      "0.9737136465324385\n",
      "0.7163636363636363\n",
      "0.7576923076923077\n",
      "[[5026   78]\n",
      " [  63  197]]\n"
     ]
    }
   ],
   "source": [
    "from keras.layers import concatenate\n",
    "\n",
    "input_text = layers.Input(shape=(1,), dtype=tf.string)\n",
    "embedding = ElmoEmbeddingLayer()(input_text)\n",
    "dense = layers.Dense(200, activation='relu')(embedding)\n",
    "pred = layers.Dense(2, activation='softmax')(dense)\n",
    "model1 = Model(inputs=[input_text], outputs=pred)\n",
    "\n",
    "input_text2 = layers.Input(shape=(1,), dtype=tf.string)\n",
    "embedding = ElmoEmbeddingLayer()(input_text2)\n",
    "dense = layers.Dense(200, activation='relu')(embedding)\n",
    "pred = layers.Dense(2, activation='softmax')(dense)\n",
    "model2 = Model(inputs=[input_text2], outputs=pred)\n",
    "\n",
    "model3 = Sequential()\n",
    "model3.add(Dense(400,input_dim=non_text.shape[1],activation='relu'))\n",
    "model3.add(Dense(100,activation='relu'))\n",
    "model3.add(Dense(2,activation='sigmoid'))\n",
    "\n",
    "model_concat = concatenate([model1.output, model2.output, model3.output], axis=-1)\n",
    "model_concat = Dense(20, activation='relu')(model_concat)\n",
    "model_concat = Dense(2, activation='sigmoid')(model_concat)\n",
    "model= Model(inputs=[model1.input, model2.input,model3.input], outputs=model_concat)\n",
    "\n",
    "model.compile(loss = 'categorical_crossentropy', optimizer='adam',metrics = ['accuracy',f1])\n",
    "# model.compile(loss = f1_loss, optimizer='adam',metrics = ['accuracy',f1])\n",
    "model.summary()\n",
    "history=model.fit([train_text,train_text_com,non_text_train], Y1_train, epochs=10,batch_size=20,class_weight={0:1, 1:1})\n",
    "training_loss = history.history['loss']\n",
    "epoch_count = range(1, len(training_loss) + 1)\n",
    "plt.plot(epoch_count, training_loss)\n",
    "plt.title('Training Loss Plot')\n",
    "plt.xlabel('Epoch')\n",
    "plt.ylabel('Training Loss')\n",
    "plt.show();\n",
    "\n",
    "y_pred1=model.predict([test_text,test_text_com,non_text_test], batch_size = 20)\n",
    "y_pred11=np.argmax(y_pred1,axis=1)\n",
    "Y1_test11=np.argmax(Y1_test,axis=1)\n",
    "print(f1_score(Y1_test11, y_pred11))\n",
    "print(accuracy_score(Y1_test11, y_pred11))\n",
    "print(precision_score(Y1_test11, y_pred11))\n",
    "print(recall_score(Y1_test11, y_pred11))\n",
    "print(confusion_matrix(Y1_test11, y_pred11))"
   ]
  }
 ],
 "metadata": {
  "accelerator": "GPU",
  "colab": {
   "collapsed_sections": [],
   "machine_shape": "hm",
   "name": "Copy of Copy of elmo combined.ipynb",
   "provenance": [],
   "toc_visible": true
  },
  "kernelspec": {
   "display_name": "Python 3",
   "language": "python",
   "name": "python3"
  },
  "language_info": {
   "codemirror_mode": {
    "name": "ipython",
    "version": 3
   },
   "file_extension": ".py",
   "mimetype": "text/x-python",
   "name": "python",
   "nbconvert_exporter": "python",
   "pygments_lexer": "ipython3",
   "version": "3.7.6"
  }
 },
 "nbformat": 4,
 "nbformat_minor": 1
}
