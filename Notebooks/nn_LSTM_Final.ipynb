{
 "cells": [
  {
   "cell_type": "code",
   "execution_count": 1,
   "metadata": {
    "colab": {
     "base_uri": "https://localhost:8080/",
     "height": 34
    },
    "colab_type": "code",
    "id": "9XnObHWVcN7A",
    "outputId": "7e422eb0-8199-44e6-842b-6616ace3b3cc"
   },
   "outputs": [
    {
     "name": "stdout",
     "output_type": "stream",
     "text": [
      "TensorFlow 1.x selected.\n"
     ]
    }
   ],
   "source": [
    "%tensorflow_version 1.x"
   ]
  },
  {
   "cell_type": "code",
   "execution_count": 2,
   "metadata": {
    "colab": {
     "base_uri": "https://localhost:8080/",
     "height": 136
    },
    "colab_type": "code",
    "id": "M9Kje3GkcS-q",
    "outputId": "06ceef57-488e-442d-e0f0-a0ddd5f9f128"
   },
   "outputs": [
    {
     "name": "stderr",
     "output_type": "stream",
     "text": [
      "/usr/local/lib/python3.6/dist-packages/statsmodels/tools/_testing.py:19: FutureWarning: pandas.util.testing is deprecated. Use the functions in the public API at pandas.testing instead.\n",
      "  import pandas.util.testing as tm\n"
     ]
    },
    {
     "name": "stdout",
     "output_type": "stream",
     "text": [
      "Requirement already satisfied: nltk in /usr/local/lib/python3.6/dist-packages (3.2.5)\n",
      "Requirement already satisfied: six in /usr/local/lib/python3.6/dist-packages (from nltk) (1.12.0)\n",
      "[nltk_data] Downloading package stopwords to /root/nltk_data...\n",
      "[nltk_data]   Package stopwords is already up-to-date!\n"
     ]
    },
    {
     "name": "stderr",
     "output_type": "stream",
     "text": [
      "Using TensorFlow backend.\n"
     ]
    }
   ],
   "source": [
    "import pandas as pd\n",
    "import numpy as np\n",
    "import torch\n",
    "import collections, re\n",
    "import matplotlib.pyplot as plt\n",
    "import seaborn as sns\n",
    "from nltk.util import ngrams\n",
    "from nltk.tokenize import RegexpTokenizer\n",
    "use_cuda = torch.cuda.is_available()\n",
    "device = torch.device(\"cuda:0\" if use_cuda else \"cpu\")\n",
    "!pip3 install nltk\n",
    "import nltk\n",
    "nltk.download('stopwords')\n",
    "from sklearn.feature_extraction.text import CountVectorizer\n",
    "from keras.preprocessing.text import Tokenizer\n",
    "from keras.preprocessing.sequence import pad_sequences\n",
    "from keras.models import Sequential\n",
    "from keras.layers import Dense, Embedding, LSTM\n",
    "from sklearn.model_selection import train_test_split\n",
    "from keras.utils.np_utils import to_categorical\n",
    "import re\n",
    "from keras.layers import  CuDNNLSTM "
   ]
  },
  {
   "cell_type": "code",
   "execution_count": 3,
   "metadata": {
    "colab": {
     "base_uri": "https://localhost:8080/",
     "height": 34
    },
    "colab_type": "code",
    "id": "pF0R_9pZcVxq",
    "outputId": "b4e18d0a-dcc1-4f69-fb9b-7e2129a72f5a"
   },
   "outputs": [
    {
     "name": "stdout",
     "output_type": "stream",
     "text": [
      "Drive already mounted at /content/drive; to attempt to forcibly remount, call drive.mount(\"/content/drive\", force_remount=True).\n"
     ]
    }
   ],
   "source": [
    "from google.colab import drive\n",
    "drive.mount('/content/drive')"
   ]
  },
  {
   "cell_type": "code",
   "execution_count": 0,
   "metadata": {
    "colab": {},
    "colab_type": "code",
    "id": "JcyIn1k2cWkl"
   },
   "outputs": [],
   "source": [
    "df1=pd.read_csv(\"/content/drive/My Drive/NLP project/clean_data.csv\",encoding='latin-1') #you need to change the path\n",
    "df2=pd.read_csv(\"/content/drive/My Drive/NLP project/clean_data2.csv\",encoding='latin-1') #you need to change the path\n",
    "clean_data=df1.copy() #"
   ]
  },
  {
   "cell_type": "code",
   "execution_count": 0,
   "metadata": {
    "colab": {},
    "colab_type": "code",
    "id": "wyBCr43IcZpp"
   },
   "outputs": [],
   "source": [
    "from sklearn.model_selection import StratifiedKFold\n",
    "from sklearn.model_selection import train_test_split\n",
    "\n",
    "train_indices, test_indices, y_train, y_test = train_test_split(np.arange(len(clean_data)), clean_data['fraudulent'],\n",
    "                                                    stratify=clean_data['fraudulent'], \n",
    "                                                    test_size=0.3,random_state=0)\n",
    "reduced_train_indices, val_indices, y_reduced_train, y_valid = train_test_split(train_indices, clean_data.loc[train_indices]['fraudulent'],\n",
    "                                                    stratify=clean_data.loc[train_indices]['fraudulent'], \n",
    "                                                    test_size=0.2,random_state=0)"
   ]
  },
  {
   "cell_type": "code",
   "execution_count": 0,
   "metadata": {
    "colab": {},
    "colab_type": "code",
    "id": "0vKhlgt1cbkP"
   },
   "outputs": [],
   "source": [
    "from keras.layers import concatenate\n",
    "from keras import Sequential, Model\n",
    "from sklearn.metrics import classification_report, confusion_matrix,f1_score,accuracy_score, precision_score,recall_score\n",
    "non_text= clean_data.drop(['title', 'job_id', 'company_profile','description','fraudulent'], axis=1).to_numpy()"
   ]
  },
  {
   "cell_type": "code",
   "execution_count": 0,
   "metadata": {
    "colab": {},
    "colab_type": "code",
    "id": "mlDpkRZtcmKZ"
   },
   "outputs": [],
   "source": [
    "max_fatures = 3000\n",
    "clean_data['company_profile']=clean_data['company_profile'].astype(str)\n",
    "clean_data['description']=clean_data['description'].astype(str)\n",
    "tokenizer = Tokenizer(num_words=max_fatures, split=' ')\n",
    "tokenizer.fit_on_texts(clean_data['company_profile'].values)\n",
    "X1 = tokenizer.texts_to_sequences(clean_data['company_profile'].values)\n",
    "X1 = pad_sequences(X1)\n",
    "X1_train=X1[reduced_train_indices]\n",
    "X1_val=X1[val_indices]\n",
    "X1_test=X1[test_indices]"
   ]
  },
  {
   "cell_type": "code",
   "execution_count": 0,
   "metadata": {
    "colab": {},
    "colab_type": "code",
    "id": "Qj3Rt3yCcpYk"
   },
   "outputs": [],
   "source": [
    "tokenizer1 = Tokenizer(num_words=max_fatures, split=' ')\n",
    "tokenizer1.fit_on_texts(clean_data['description'].values)\n",
    "X1_des = tokenizer.texts_to_sequences(clean_data['description'].values)\n",
    "X1_des = pad_sequences(X1_des)\n",
    "X1_train_des=X1_des[reduced_train_indices]\n",
    "X1_val_des=X1_des[val_indices]\n",
    "X1_test_des=X1_des[test_indices]"
   ]
  },
  {
   "cell_type": "code",
   "execution_count": 0,
   "metadata": {
    "colab": {},
    "colab_type": "code",
    "id": "j-JXgAkicrHF"
   },
   "outputs": [],
   "source": [
    "Y1 = pd.get_dummies(clean_data['fraudulent']).values\n",
    "Y1_train=Y1[reduced_train_indices]\n",
    "Y1_val=Y1[val_indices]\n",
    "Y1_test=Y1[test_indices]"
   ]
  },
  {
   "cell_type": "code",
   "execution_count": 10,
   "metadata": {
    "colab": {
     "base_uri": "https://localhost:8080/",
     "height": 139
    },
    "colab_type": "code",
    "id": "LdM2LkUBzyt4",
    "outputId": "eb692533-ae61-4009-cbc3-1aadd0c471f3"
   },
   "outputs": [
    {
     "name": "stderr",
     "output_type": "stream",
     "text": [
      "/usr/local/lib/python3.6/dist-packages/sklearn/externals/six.py:31: FutureWarning: The module is deprecated in version 0.21 and will be removed in version 0.23 since we've dropped support for Python 2.7. Please rely on the official version of six (https://pypi.org/project/six/).\n",
      "  \"(https://pypi.org/project/six/).\", FutureWarning)\n",
      "/usr/local/lib/python3.6/dist-packages/sklearn/utils/deprecation.py:144: FutureWarning: The sklearn.neighbors.base module is  deprecated in version 0.22 and will be removed in version 0.24. The corresponding classes / functions should instead be imported from sklearn.neighbors. Anything that cannot be imported from sklearn.neighbors is now part of the private API.\n",
      "  warnings.warn(message, FutureWarning)\n",
      "/usr/local/lib/python3.6/dist-packages/sklearn/utils/deprecation.py:87: FutureWarning: Function safe_indexing is deprecated; safe_indexing is deprecated in version 0.22 and will be removed in version 0.24.\n",
      "  warnings.warn(msg, category=FutureWarning)\n"
     ]
    }
   ],
   "source": [
    "from imblearn.over_sampling import RandomOverSampler\n",
    "ros = RandomOverSampler(random_state=0)\n",
    "X_resampled, y_resampled = ros.fit_resample(np.array(reduced_train_indices).reshape(-1, 1), clean_data.iloc[reduced_train_indices]['fraudulent'])\n",
    "X_resampled=X_resampled.flatten()"
   ]
  },
  {
   "cell_type": "code",
   "execution_count": 0,
   "metadata": {
    "colab": {},
    "colab_type": "code",
    "id": "SC3F9u2v1F6q"
   },
   "outputs": [],
   "source": [
    "from keras import backend as K\n",
    "import tensorflow as tf\n",
    "def f1(y_true, y_pred):\n",
    "    y_pred = K.round(y_pred)\n",
    "    tp = K.sum(K.cast(y_true*y_pred, 'float'), axis=0)\n",
    "    tn = K.sum(K.cast((1-y_true)*(1-y_pred), 'float'), axis=0)\n",
    "    fp = K.sum(K.cast((1-y_true)*y_pred, 'float'), axis=0)\n",
    "    fn = K.sum(K.cast(y_true*(1-y_pred), 'float'), axis=0)\n",
    "\n",
    "    p = tp / (tp + fp + K.epsilon())\n",
    "    r = tp / (tp + fn + K.epsilon())\n",
    "\n",
    "    f1 = 2*p*r / (p+r+K.epsilon())\n",
    "    f1 = tf.where(tf.is_nan(f1), tf.zeros_like(f1), f1)\n",
    "    return K.mean(f1)\n",
    "\n",
    "def f1_loss(y_true, y_pred):\n",
    "    \n",
    "    tp = K.sum(K.cast(y_true*y_pred, 'float'), axis=0)\n",
    "    tn = K.sum(K.cast((1-y_true)*(1-y_pred), 'float'), axis=0)\n",
    "    fp = K.sum(K.cast((1-y_true)*y_pred, 'float'), axis=0)\n",
    "    fn = K.sum(K.cast(y_true*(1-y_pred), 'float'), axis=0)\n",
    "\n",
    "    p = tp / (tp + fp + K.epsilon())\n",
    "    r = tp / (tp + fn + K.epsilon())\n",
    "\n",
    "    f1 = 2*p*r / (p+r+K.epsilon())\n",
    "    f1 = tf.where(tf.is_nan(f1), tf.zeros_like(f1), f1)\n",
    "    return 1 - K.mean(f1)\n"
   ]
  },
  {
   "cell_type": "code",
   "execution_count": 12,
   "metadata": {
    "colab": {
     "base_uri": "https://localhost:8080/",
     "height": 1000
    },
    "colab_type": "code",
    "id": "D8H8X6_fcxQl",
    "outputId": "5fa0027f-0c14-4ebe-bc61-141351181917"
   },
   "outputs": [
    {
     "name": "stdout",
     "output_type": "stream",
     "text": [
      "WARNING:tensorflow:From /tensorflow-1.15.2/python3.6/tensorflow_core/python/ops/resource_variable_ops.py:1630: calling BaseResourceVariable.__init__ (from tensorflow.python.ops.resource_variable_ops) with constraint is deprecated and will be removed in a future version.\n",
      "Instructions for updating:\n",
      "If using Keras pass *_constraint arguments to layers.\n",
      "WARNING:tensorflow:From <ipython-input-11-d6f8520828f5>:14: where (from tensorflow.python.ops.array_ops) is deprecated and will be removed in a future version.\n",
      "Instructions for updating:\n",
      "Use tf.where in 2.0, which has the same broadcast rule as np.where\n",
      "Model: \"model_1\"\n",
      "__________________________________________________________________________________________________\n",
      "Layer (type)                    Output Shape         Param #     Connected to                     \n",
      "==================================================================================================\n",
      "embedding_1_input (InputLayer)  (None, 395)          0                                            \n",
      "__________________________________________________________________________________________________\n",
      "embedding_2_input (InputLayer)  (None, 913)          0                                            \n",
      "__________________________________________________________________________________________________\n",
      "embedding_1 (Embedding)         (None, 395, 1000)    3000000     embedding_1_input[0][0]          \n",
      "__________________________________________________________________________________________________\n",
      "embedding_2 (Embedding)         (None, 913, 1000)    3000000     embedding_2_input[0][0]          \n",
      "__________________________________________________________________________________________________\n",
      "dense_5_input (InputLayer)      (None, 53)           0                                            \n",
      "__________________________________________________________________________________________________\n",
      "cu_dnnlstm_1 (CuDNNLSTM)        (None, 200)          961600      embedding_1[0][0]                \n",
      "__________________________________________________________________________________________________\n",
      "cu_dnnlstm_2 (CuDNNLSTM)        (None, 200)          961600      embedding_2[0][0]                \n",
      "__________________________________________________________________________________________________\n",
      "dense_5 (Dense)                 (None, 200)          10800       dense_5_input[0][0]              \n",
      "__________________________________________________________________________________________________\n",
      "dense_1 (Dense)                 (None, 20)           4020        cu_dnnlstm_1[0][0]               \n",
      "__________________________________________________________________________________________________\n",
      "dense_3 (Dense)                 (None, 20)           4020        cu_dnnlstm_2[0][0]               \n",
      "__________________________________________________________________________________________________\n",
      "dense_6 (Dense)                 (None, 100)          20100       dense_5[0][0]                    \n",
      "__________________________________________________________________________________________________\n",
      "dense_2 (Dense)                 (None, 2)            42          dense_1[0][0]                    \n",
      "__________________________________________________________________________________________________\n",
      "dense_4 (Dense)                 (None, 2)            42          dense_3[0][0]                    \n",
      "__________________________________________________________________________________________________\n",
      "dense_7 (Dense)                 (None, 2)            202         dense_6[0][0]                    \n",
      "__________________________________________________________________________________________________\n",
      "concatenate_1 (Concatenate)     (None, 6)            0           dense_2[0][0]                    \n",
      "                                                                 dense_4[0][0]                    \n",
      "                                                                 dense_7[0][0]                    \n",
      "__________________________________________________________________________________________________\n",
      "dense_8 (Dense)                 (None, 50)           350         concatenate_1[0][0]              \n",
      "__________________________________________________________________________________________________\n",
      "dense_9 (Dense)                 (None, 2)            102         dense_8[0][0]                    \n",
      "==================================================================================================\n",
      "Total params: 7,962,878\n",
      "Trainable params: 7,962,878\n",
      "Non-trainable params: 0\n",
      "__________________________________________________________________________________________________\n",
      "WARNING:tensorflow:From /usr/local/lib/python3.6/dist-packages/keras/backend/tensorflow_backend.py:422: The name tf.global_variables is deprecated. Please use tf.compat.v1.global_variables instead.\n",
      "\n",
      "Epoch 1/10\n",
      "19054/19054 [==============================] - 71s 4ms/step - loss: 0.3615 - accuracy: 0.8738 - f1: 0.8575\n",
      "Epoch 2/10\n",
      "19054/19054 [==============================] - 71s 4ms/step - loss: 0.0677 - accuracy: 0.9819 - f1: 0.9815\n",
      "Epoch 3/10\n",
      "19054/19054 [==============================] - 70s 4ms/step - loss: 0.0252 - accuracy: 0.9944 - f1: 0.9943\n",
      "Epoch 4/10\n",
      "19054/19054 [==============================] - 70s 4ms/step - loss: 0.0117 - accuracy: 0.9981 - f1: 0.9980\n",
      "Epoch 5/10\n",
      "19054/19054 [==============================] - 70s 4ms/step - loss: 0.0059 - accuracy: 0.9992 - f1: 0.9991\n",
      "Epoch 6/10\n",
      "19054/19054 [==============================] - 70s 4ms/step - loss: 0.0033 - accuracy: 0.9996 - f1: 0.9996\n",
      "Epoch 7/10\n",
      "19054/19054 [==============================] - 70s 4ms/step - loss: 0.0019 - accuracy: 0.9998 - f1: 0.9998\n",
      "Epoch 8/10\n",
      "19054/19054 [==============================] - 70s 4ms/step - loss: 0.0011 - accuracy: 0.9999 - f1: 0.9999\n",
      "Epoch 9/10\n",
      "19054/19054 [==============================] - 70s 4ms/step - loss: 8.2795e-04 - accuracy: 0.9999 - f1: 0.9999\n",
      "Epoch 10/10\n",
      "19054/19054 [==============================] - 70s 4ms/step - loss: 6.6060e-04 - accuracy: 0.9999 - f1: 0.9999\n"
     ]
    },
    {
     "data": {
      "image/png": "[encoded data removed]",
      "text/plain": [
       "<Figure size 432x288 with 1 Axes>"
      ]
     },
     "metadata": {
      "needs_background": "light",
      "tags": []
     },
     "output_type": "display_data"
    },
    {
     "name": "stdout",
     "output_type": "stream",
     "text": [
      "0.7663551401869158\n",
      "[[2372   11]\n",
      " [  39   82]]\n",
      "0.9800319488817891\n",
      "0.8817204301075269\n",
      "0.6776859504132231\n"
     ]
    }
   ],
   "source": [
    "embed_dim = 1000\n",
    "lstm_out = 200\n",
    "model1 = Sequential()\n",
    "model1.add(Embedding(max_fatures, embed_dim,input_length = X1.shape[1]))\n",
    "model1.add(CuDNNLSTM(lstm_out))\n",
    "model1.add(Dense(20,activation='softmax'))\n",
    "model1.add(Dense(2,activation='softmax'))\n",
    "\n",
    "model2 = Sequential()\n",
    "model2.add(Embedding(max_fatures, embed_dim,input_length = X1_des.shape[1]))\n",
    "model2.add(CuDNNLSTM(lstm_out))\n",
    "model2.add(Dense(20,activation='softmax'))\n",
    "model2.add(Dense(2,activation='softmax'))\n",
    "\n",
    "model3 = Sequential()\n",
    "model3.add(Dense(200,input_dim=non_text.shape[1],activation='relu'))\n",
    "model3.add(Dense(100,activation='relu'))\n",
    "model3.add(Dense(2,activation='sigmoid'))\n",
    "#model3.compile(loss = 'categorical_crossentropy', optimizer='adam',metrics = ['accuracy'])\n",
    "\n",
    "model_concat = concatenate([model1.output, model2.output, model3.output], axis=-1)\n",
    "#model_concat = Dense(80, activation='sigmoid')(model_concat)\n",
    "model_concat = Dense(50, activation='sigmoid')(model_concat)\n",
    "model_concat = Dense(2, activation='softmax')(model_concat)\n",
    "model= Model(inputs=[model1.input, model2.input,model3.input], outputs=model_concat)\n",
    "model.compile(loss = 'categorical_crossentropy', optimizer='adam',metrics = ['accuracy',f1])\n",
    "# model.compile(loss = f1_loss, optimizer='adam',metrics = ['accuracy',f1])\n",
    "model.summary()\n",
    "history=model.fit([X1[X_resampled],X1_des[X_resampled],non_text[X_resampled]], pd.get_dummies(clean_data['fraudulent']).values[X_resampled], epochs = 10, batch_size=40,workers=-1)\n",
    "\n",
    "training_loss = history.history['loss']\n",
    "epoch_count = range(1, len(training_loss) + 1)\n",
    "plt.plot(epoch_count, training_loss)\n",
    "plt.title('Training Loss Plot')\n",
    "plt.xlabel('Epoch')\n",
    "plt.ylabel('Training Loss')\n",
    "plt.show();\n",
    "\n",
    "y_pred=model.predict([X1_val,X1_val_des,non_text[val_indices]], batch_size = 40)\n",
    "y_pred1=np.argmax(y_pred,axis=1)\n",
    "Y1_val1=np.argmax(Y1_val,axis=1)\n",
    "print(f1_score(Y1_val1, y_pred1))\n",
    "print(confusion_matrix(Y1_val1, y_pred1))\n",
    "print(accuracy_score(Y1_val1, y_pred1))\n",
    "print(precision_score(Y1_val1, y_pred1))\n",
    "print(recall_score(Y1_val1, y_pred1))"
   ]
  },
  {
   "cell_type": "code",
   "execution_count": 0,
   "metadata": {
    "colab": {},
    "colab_type": "code",
    "id": "2tHKoXsN-oBw"
   },
   "outputs": [],
   "source": []
  },
  {
   "cell_type": "code",
   "execution_count": 0,
   "metadata": {
    "colab": {},
    "colab_type": "code",
    "id": "EwJN1LU4-oDz"
   },
   "outputs": [],
   "source": [
    "max_fatures = 3000\n",
    "clean_data['company_profile']=clean_data['company_profile'].astype(str)\n",
    "clean_data['description']=clean_data['description'].astype(str)\n",
    "tokenizer = Tokenizer(num_words=max_fatures, split=' ')\n",
    "tokenizer.fit_on_texts(clean_data['company_profile'].values)\n",
    "X1 = tokenizer.texts_to_sequences(clean_data['company_profile'].values)\n",
    "X1 = pad_sequences(X1)\n",
    "X1_train=X1[train_indices]\n",
    "X1_test=X1[test_indices]"
   ]
  },
  {
   "cell_type": "code",
   "execution_count": 0,
   "metadata": {
    "colab": {},
    "colab_type": "code",
    "id": "pS-_VsPp-oF2"
   },
   "outputs": [],
   "source": [
    "tokenizer1 = Tokenizer(num_words=max_fatures, split=' ')\n",
    "tokenizer1.fit_on_texts(clean_data['description'].values)\n",
    "X1_des = tokenizer.texts_to_sequences(clean_data['description'].values)\n",
    "X1_des = pad_sequences(X1_des)\n",
    "X1_train_des=X1_des[train_indices]\n",
    "X1_test_des=X1_des[test_indices]"
   ]
  },
  {
   "cell_type": "code",
   "execution_count": 0,
   "metadata": {
    "colab": {},
    "colab_type": "code",
    "id": "aHrrVMAR-oIE"
   },
   "outputs": [],
   "source": [
    "Y1 = pd.get_dummies(clean_data['fraudulent']).values\n",
    "Y1_train=Y1[train_indices]\n",
    "Y1_test=Y1[test_indices]"
   ]
  },
  {
   "cell_type": "code",
   "execution_count": 16,
   "metadata": {
    "colab": {
     "base_uri": "https://localhost:8080/",
     "height": 71
    },
    "colab_type": "code",
    "id": "9xc3APhP-oKB",
    "outputId": "373e6cd4-f244-4b0e-afe4-0c0606dba554"
   },
   "outputs": [
    {
     "name": "stderr",
     "output_type": "stream",
     "text": [
      "/usr/local/lib/python3.6/dist-packages/sklearn/utils/deprecation.py:87: FutureWarning: Function safe_indexing is deprecated; safe_indexing is deprecated in version 0.22 and will be removed in version 0.24.\n",
      "  warnings.warn(msg, category=FutureWarning)\n"
     ]
    }
   ],
   "source": [
    "from imblearn.over_sampling import RandomOverSampler\n",
    "ros = RandomOverSampler(random_state=0)\n",
    "X_resampled, y_resampled = ros.fit_resample(np.array(train_indices).reshape(-1, 1), clean_data.iloc[train_indices]['fraudulent'])\n",
    "X_resampled=X_resampled.flatten()"
   ]
  },
  {
   "cell_type": "code",
   "execution_count": 17,
   "metadata": {
    "colab": {
     "base_uri": "https://localhost:8080/",
     "height": 1000
    },
    "colab_type": "code",
    "id": "CEyAQAxA1__m",
    "outputId": "4c43902e-b25b-461c-9a21-496eae28464a"
   },
   "outputs": [
    {
     "name": "stdout",
     "output_type": "stream",
     "text": [
      "Model: \"model_2\"\n",
      "__________________________________________________________________________________________________\n",
      "Layer (type)                    Output Shape         Param #     Connected to                     \n",
      "==================================================================================================\n",
      "embedding_3_input (InputLayer)  (None, 395)          0                                            \n",
      "__________________________________________________________________________________________________\n",
      "embedding_4_input (InputLayer)  (None, 913)          0                                            \n",
      "__________________________________________________________________________________________________\n",
      "embedding_3 (Embedding)         (None, 395, 1000)    3000000     embedding_3_input[0][0]          \n",
      "__________________________________________________________________________________________________\n",
      "embedding_4 (Embedding)         (None, 913, 1000)    3000000     embedding_4_input[0][0]          \n",
      "__________________________________________________________________________________________________\n",
      "dense_14_input (InputLayer)     (None, 53)           0                                            \n",
      "__________________________________________________________________________________________________\n",
      "cu_dnnlstm_3 (CuDNNLSTM)        (None, 200)          961600      embedding_3[0][0]                \n",
      "__________________________________________________________________________________________________\n",
      "cu_dnnlstm_4 (CuDNNLSTM)        (None, 200)          961600      embedding_4[0][0]                \n",
      "__________________________________________________________________________________________________\n",
      "dense_14 (Dense)                (None, 200)          10800       dense_14_input[0][0]             \n",
      "__________________________________________________________________________________________________\n",
      "dense_10 (Dense)                (None, 20)           4020        cu_dnnlstm_3[0][0]               \n",
      "__________________________________________________________________________________________________\n",
      "dense_12 (Dense)                (None, 20)           4020        cu_dnnlstm_4[0][0]               \n",
      "__________________________________________________________________________________________________\n",
      "dense_15 (Dense)                (None, 100)          20100       dense_14[0][0]                   \n",
      "__________________________________________________________________________________________________\n",
      "dense_11 (Dense)                (None, 2)            42          dense_10[0][0]                   \n",
      "__________________________________________________________________________________________________\n",
      "dense_13 (Dense)                (None, 2)            42          dense_12[0][0]                   \n",
      "__________________________________________________________________________________________________\n",
      "dense_16 (Dense)                (None, 2)            202         dense_15[0][0]                   \n",
      "__________________________________________________________________________________________________\n",
      "concatenate_2 (Concatenate)     (None, 6)            0           dense_11[0][0]                   \n",
      "                                                                 dense_13[0][0]                   \n",
      "                                                                 dense_16[0][0]                   \n",
      "__________________________________________________________________________________________________\n",
      "dense_17 (Dense)                (None, 50)           350         concatenate_2[0][0]              \n",
      "__________________________________________________________________________________________________\n",
      "dense_18 (Dense)                (None, 2)            102         dense_17[0][0]                   \n",
      "==================================================================================================\n",
      "Total params: 7,962,878\n",
      "Trainable params: 7,962,878\n",
      "Non-trainable params: 0\n",
      "__________________________________________________________________________________________________\n",
      "Epoch 1/10\n",
      "23820/23820 [==============================] - 88s 4ms/step - loss: 0.3273 - accuracy: 0.8906 - f1: 0.8799\n",
      "Epoch 2/10\n",
      "23820/23820 [==============================] - 87s 4ms/step - loss: 0.1127 - accuracy: 0.9639 - f1: 0.9631\n",
      "Epoch 3/10\n",
      "23820/23820 [==============================] - 87s 4ms/step - loss: 0.0444 - accuracy: 0.9866 - f1: 0.9863\n",
      "Epoch 4/10\n",
      "23820/23820 [==============================] - 87s 4ms/step - loss: 0.0190 - accuracy: 0.9951 - f1: 0.9950\n",
      "Epoch 5/10\n",
      "23820/23820 [==============================] - 87s 4ms/step - loss: 0.0106 - accuracy: 0.9972 - f1: 0.9971\n",
      "Epoch 6/10\n",
      "23820/23820 [==============================] - 88s 4ms/step - loss: 0.0076 - accuracy: 0.9974 - f1: 0.9973\n",
      "Epoch 7/10\n",
      "23820/23820 [==============================] - 87s 4ms/step - loss: 0.0050 - accuracy: 0.9986 - f1: 0.9985\n",
      "Epoch 8/10\n",
      "23820/23820 [==============================] - 87s 4ms/step - loss: 0.0041 - accuracy: 0.9986 - f1: 0.9985\n",
      "Epoch 9/10\n",
      "23820/23820 [==============================] - 88s 4ms/step - loss: 0.0037 - accuracy: 0.9987 - f1: 0.9987\n",
      "Epoch 10/10\n",
      "23820/23820 [==============================] - 87s 4ms/step - loss: 0.0044 - accuracy: 0.9982 - f1: 0.9981\n"
     ]
    },
    {
     "data": {
      "image/png": "[encoded data removed]",
      "text/plain": [
       "<Figure size 432x288 with 1 Axes>"
      ]
     },
     "metadata": {
      "needs_background": "light",
      "tags": []
     },
     "output_type": "display_data"
    },
    {
     "name": "stdout",
     "output_type": "stream",
     "text": [
      "0.7842323651452282\n",
      "[[5071   33]\n",
      " [  71  189]]\n",
      "0.9806114839671887\n",
      "0.8513513513513513\n",
      "0.7269230769230769\n"
     ]
    }
   ],
   "source": [
    "embed_dim = 1000\n",
    "lstm_out = 200\n",
    "model11 = Sequential()\n",
    "model11.add(Embedding(max_fatures, embed_dim,input_length = X1.shape[1]))\n",
    "model11.add(CuDNNLSTM(lstm_out))\n",
    "model11.add(Dense(20,activation='softmax'))\n",
    "model11.add(Dense(2,activation='softmax'))\n",
    "\n",
    "model12 = Sequential()\n",
    "model12.add(Embedding(max_fatures, embed_dim,input_length = X1_des.shape[1]))\n",
    "model12.add(CuDNNLSTM(lstm_out))\n",
    "model12.add(Dense(20,activation='softmax'))\n",
    "model12.add(Dense(2,activation='softmax'))\n",
    "\n",
    "model13 = Sequential()\n",
    "model13.add(Dense(200,input_dim=non_text.shape[1],activation='relu'))\n",
    "model13.add(Dense(100,activation='relu'))\n",
    "model13.add(Dense(2,activation='sigmoid'))\n",
    "#model3.compile(loss = 'categorical_crossentropy', optimizer='adam',metrics = ['accuracy'])\n",
    "\n",
    "model_concat1 = concatenate([model11.output, model12.output, model13.output], axis=-1)\n",
    "#model_concat = Dense(80, activation='sigmoid')(model_concat)\n",
    "model_concat1 = Dense(50, activation='sigmoid')(model_concat1)\n",
    "model_concat1 = Dense(2, activation='softmax')(model_concat1)\n",
    "model1= Model(inputs=[model11.input, model12.input,model13.input], outputs=model_concat1)\n",
    "model1.compile(loss = 'categorical_crossentropy', optimizer='adam',metrics = ['accuracy',f1])\n",
    "# model.compile(loss = f1_loss, optimizer='adam',metrics = ['accuracy',f1])\n",
    "model1.summary()\n",
    "history1=model1.fit([X1[X_resampled],X1_des[X_resampled],non_text[X_resampled]], pd.get_dummies(clean_data['fraudulent']).values[X_resampled], epochs = 10, batch_size=40,workers=-1)\n",
    "\n",
    "training_loss = history1.history['loss']\n",
    "epoch_count = range(1, len(training_loss) + 1)\n",
    "plt.plot(epoch_count, training_loss)\n",
    "plt.title('Training Loss Plot')\n",
    "plt.xlabel('Epoch')\n",
    "plt.ylabel('Training Loss')\n",
    "plt.show();\n",
    "\n",
    "y_pred_test=model1.predict([X1_test,X1_test_des,non_text[test_indices]], batch_size = 40)\n",
    "y_pred_test1=np.argmax(y_pred_test,axis=1)\n",
    "Y1_test1=np.argmax(Y1_test,axis=1)\n",
    "print(f1_score(Y1_test1, y_pred_test1))\n",
    "print(confusion_matrix(Y1_test1, y_pred_test1))\n",
    "print(accuracy_score(Y1_test1, y_pred_test1))\n",
    "print(precision_score(Y1_test1, y_pred_test1))\n",
    "print(recall_score(Y1_test1, y_pred_test1))"
   ]
  },
  {
   "cell_type": "code",
   "execution_count": 0,
   "metadata": {
    "colab": {},
    "colab_type": "code",
    "id": "jC3wMjpeoUmW"
   },
   "outputs": [],
   "source": []
  }
 ],
 "metadata": {
  "accelerator": "GPU",
  "colab": {
   "collapsed_sections": [],
   "name": "Copy of LSTM.ipynb",
   "provenance": []
  },
  "kernelspec": {
   "display_name": "Python 3",
   "language": "python",
   "name": "python3"
  },
  "language_info": {
   "codemirror_mode": {
    "name": "ipython",
    "version": 3
   },
   "file_extension": ".py",
   "mimetype": "text/x-python",
   "name": "python",
   "nbconvert_exporter": "python",
   "pygments_lexer": "ipython3",
   "version": "3.7.6"
  }
 },
 "nbformat": 4,
 "nbformat_minor": 1
}
