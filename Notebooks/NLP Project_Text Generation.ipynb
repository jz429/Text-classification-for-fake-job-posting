{
 "cells": [
  {
   "cell_type": "code",
   "execution_count": 1,
   "metadata": {},
   "outputs": [],
   "source": [
    "import pandas as pd\n",
    "import numpy as np\n",
    "from sklearn.linear_model import LogisticRegression\n",
    "from sklearn.model_selection import train_test_split\n",
    "from sklearn.feature_extraction.text import CountVectorizer\n",
    "from sklearn.metrics import confusion_matrix, f1_score, accuracy_score"
   ]
  },
  {
   "cell_type": "code",
   "execution_count": 24,
   "metadata": {},
   "outputs": [],
   "source": [
    "df = pd.read_csv('C:/Users/Yewon/OneDrive/Spring 2020/CS 7650/Project/clean_data.csv')"
   ]
  },
  {
   "cell_type": "code",
   "execution_count": 25,
   "metadata": {},
   "outputs": [
    {
     "data": {
      "text/html": [
       "<div>\n",
       "<style scoped>\n",
       "    .dataframe tbody tr th:only-of-type {\n",
       "        vertical-align: middle;\n",
       "    }\n",
       "\n",
       "    .dataframe tbody tr th {\n",
       "        vertical-align: top;\n",
       "    }\n",
       "\n",
       "    .dataframe thead th {\n",
       "        text-align: right;\n",
       "    }\n",
       "</style>\n",
       "<table border=\"1\" class=\"dataframe\">\n",
       "  <thead>\n",
       "    <tr style=\"text-align: right;\">\n",
       "      <th></th>\n",
       "      <th>job_id</th>\n",
       "      <th>title</th>\n",
       "      <th>company_profile</th>\n",
       "      <th>description</th>\n",
       "      <th>Special_Char</th>\n",
       "      <th>telecommuting</th>\n",
       "      <th>has_company_logo</th>\n",
       "      <th>has_questions</th>\n",
       "      <th>Ambiguous Range</th>\n",
       "      <th>missing_salary</th>\n",
       "      <th>...</th>\n",
       "      <th>industry_telecommunications</th>\n",
       "      <th>function_accounting auditing</th>\n",
       "      <th>function_administrative</th>\n",
       "      <th>function_customer service</th>\n",
       "      <th>function_engineering</th>\n",
       "      <th>function_information technology</th>\n",
       "      <th>function_none</th>\n",
       "      <th>function_other</th>\n",
       "      <th>function_sales</th>\n",
       "      <th>fraudulent</th>\n",
       "    </tr>\n",
       "  </thead>\n",
       "  <tbody>\n",
       "    <tr>\n",
       "      <th>0</th>\n",
       "      <td>1</td>\n",
       "      <td>marketing intern</td>\n",
       "      <td>food weve created groundbreaking awardwinning ...</td>\n",
       "      <td>food fastgrowing james beard awardwinning onli...</td>\n",
       "      <td>0</td>\n",
       "      <td>0</td>\n",
       "      <td>1</td>\n",
       "      <td>0</td>\n",
       "      <td>1.0</td>\n",
       "      <td>1</td>\n",
       "      <td>...</td>\n",
       "      <td>0</td>\n",
       "      <td>0</td>\n",
       "      <td>0</td>\n",
       "      <td>0</td>\n",
       "      <td>0</td>\n",
       "      <td>0</td>\n",
       "      <td>0</td>\n",
       "      <td>0</td>\n",
       "      <td>0</td>\n",
       "      <td>0</td>\n",
       "    </tr>\n",
       "    <tr>\n",
       "      <th>1</th>\n",
       "      <td>2</td>\n",
       "      <td>customer service cloud video production</td>\n",
       "      <td>seconds worlds cloud video production service ...</td>\n",
       "      <td>organised focused vibrant awesomedo passion cu...</td>\n",
       "      <td>0</td>\n",
       "      <td>0</td>\n",
       "      <td>1</td>\n",
       "      <td>0</td>\n",
       "      <td>1.0</td>\n",
       "      <td>1</td>\n",
       "      <td>...</td>\n",
       "      <td>0</td>\n",
       "      <td>0</td>\n",
       "      <td>0</td>\n",
       "      <td>1</td>\n",
       "      <td>0</td>\n",
       "      <td>0</td>\n",
       "      <td>0</td>\n",
       "      <td>0</td>\n",
       "      <td>0</td>\n",
       "      <td>0</td>\n",
       "    </tr>\n",
       "    <tr>\n",
       "      <th>2</th>\n",
       "      <td>3</td>\n",
       "      <td>commissioning machinery assistant cma</td>\n",
       "      <td>valor services provides workforce solutions me...</td>\n",
       "      <td>client located houston actively seeking experi...</td>\n",
       "      <td>0</td>\n",
       "      <td>0</td>\n",
       "      <td>1</td>\n",
       "      <td>0</td>\n",
       "      <td>1.0</td>\n",
       "      <td>1</td>\n",
       "      <td>...</td>\n",
       "      <td>0</td>\n",
       "      <td>0</td>\n",
       "      <td>0</td>\n",
       "      <td>0</td>\n",
       "      <td>0</td>\n",
       "      <td>0</td>\n",
       "      <td>1</td>\n",
       "      <td>0</td>\n",
       "      <td>0</td>\n",
       "      <td>0</td>\n",
       "    </tr>\n",
       "    <tr>\n",
       "      <th>3</th>\n",
       "      <td>4</td>\n",
       "      <td>account executive washington dc</td>\n",
       "      <td>passion improving quality life geography heart...</td>\n",
       "      <td>company esri environmental systems research in...</td>\n",
       "      <td>0</td>\n",
       "      <td>0</td>\n",
       "      <td>1</td>\n",
       "      <td>0</td>\n",
       "      <td>1.0</td>\n",
       "      <td>1</td>\n",
       "      <td>...</td>\n",
       "      <td>0</td>\n",
       "      <td>0</td>\n",
       "      <td>0</td>\n",
       "      <td>0</td>\n",
       "      <td>0</td>\n",
       "      <td>0</td>\n",
       "      <td>0</td>\n",
       "      <td>0</td>\n",
       "      <td>1</td>\n",
       "      <td>0</td>\n",
       "    </tr>\n",
       "    <tr>\n",
       "      <th>4</th>\n",
       "      <td>5</td>\n",
       "      <td>bill review manager</td>\n",
       "      <td>spotsource solutions llc global human capital ...</td>\n",
       "      <td>job title itemization review managerlocation f...</td>\n",
       "      <td>0</td>\n",
       "      <td>0</td>\n",
       "      <td>1</td>\n",
       "      <td>1</td>\n",
       "      <td>1.0</td>\n",
       "      <td>1</td>\n",
       "      <td>...</td>\n",
       "      <td>0</td>\n",
       "      <td>0</td>\n",
       "      <td>0</td>\n",
       "      <td>0</td>\n",
       "      <td>0</td>\n",
       "      <td>0</td>\n",
       "      <td>0</td>\n",
       "      <td>0</td>\n",
       "      <td>0</td>\n",
       "      <td>0</td>\n",
       "    </tr>\n",
       "  </tbody>\n",
       "</table>\n",
       "<p>5 rows × 58 columns</p>\n",
       "</div>"
      ],
      "text/plain": [
       "   job_id                                    title  \\\n",
       "0       1                         marketing intern   \n",
       "1       2  customer service cloud video production   \n",
       "2       3    commissioning machinery assistant cma   \n",
       "3       4          account executive washington dc   \n",
       "4       5                      bill review manager   \n",
       "\n",
       "                                     company_profile  \\\n",
       "0  food weve created groundbreaking awardwinning ...   \n",
       "1  seconds worlds cloud video production service ...   \n",
       "2  valor services provides workforce solutions me...   \n",
       "3  passion improving quality life geography heart...   \n",
       "4  spotsource solutions llc global human capital ...   \n",
       "\n",
       "                                         description  Special_Char  \\\n",
       "0  food fastgrowing james beard awardwinning onli...             0   \n",
       "1  organised focused vibrant awesomedo passion cu...             0   \n",
       "2  client located houston actively seeking experi...             0   \n",
       "3  company esri environmental systems research in...             0   \n",
       "4  job title itemization review managerlocation f...             0   \n",
       "\n",
       "   telecommuting  has_company_logo  has_questions  Ambiguous Range  \\\n",
       "0              0                 1              0              1.0   \n",
       "1              0                 1              0              1.0   \n",
       "2              0                 1              0              1.0   \n",
       "3              0                 1              0              1.0   \n",
       "4              0                 1              1              1.0   \n",
       "\n",
       "   missing_salary  ...  industry_telecommunications  \\\n",
       "0               1  ...                            0   \n",
       "1               1  ...                            0   \n",
       "2               1  ...                            0   \n",
       "3               1  ...                            0   \n",
       "4               1  ...                            0   \n",
       "\n",
       "   function_accounting auditing  function_administrative  \\\n",
       "0                             0                        0   \n",
       "1                             0                        0   \n",
       "2                             0                        0   \n",
       "3                             0                        0   \n",
       "4                             0                        0   \n",
       "\n",
       "   function_customer service  function_engineering  \\\n",
       "0                          0                     0   \n",
       "1                          1                     0   \n",
       "2                          0                     0   \n",
       "3                          0                     0   \n",
       "4                          0                     0   \n",
       "\n",
       "   function_information technology  function_none  function_other  \\\n",
       "0                                0              0               0   \n",
       "1                                0              0               0   \n",
       "2                                0              1               0   \n",
       "3                                0              0               0   \n",
       "4                                0              0               0   \n",
       "\n",
       "   function_sales  fraudulent  \n",
       "0               0           0  \n",
       "1               0           0  \n",
       "2               0           0  \n",
       "3               1           0  \n",
       "4               0           0  \n",
       "\n",
       "[5 rows x 58 columns]"
      ]
     },
     "execution_count": 25,
     "metadata": {},
     "output_type": "execute_result"
    }
   ],
   "source": [
    "df.head()"
   ]
  },
  {
   "cell_type": "code",
   "execution_count": 26,
   "metadata": {},
   "outputs": [],
   "source": [
    "train_indices, test_indices, y_train, y_test = train_test_split(np.arange(len(df)), df['fraudulent'],\n",
    "stratify=df['fraudulent'],\n",
    "test_size=0.3,random_state=0)\n",
    "\n",
    "df_train = df.iloc[train_indices]\n",
    "df_test = df.iloc[test_indices]"
   ]
  },
  {
   "cell_type": "code",
   "execution_count": 27,
   "metadata": {},
   "outputs": [],
   "source": [
    "df_fake_profile = df_train.loc[(df_train['fraudulent']==1)&(df_train['company_profile'].notna())]"
   ]
  },
  {
   "cell_type": "code",
   "execution_count": 28,
   "metadata": {},
   "outputs": [],
   "source": [
    "company_profile = list(df_fake_profile['company_profile'].to_numpy())"
   ]
  },
  {
   "cell_type": "code",
   "execution_count": 29,
   "metadata": {},
   "outputs": [
    {
     "name": "stdout",
     "output_type": "stream",
     "text": [
      "Training on 109,130 character sequences.\n",
      "Epoch 1/2\n",
      "852/852 [==============================] - 101s 119ms/step - loss: 1.1861 - lr: 0.0040\n",
      "Epoch 2/2\n",
      "852/852 [==============================] - ETA: 0s - loss: 0.6520####################\n",
      "Temperature: 0.2\n",
      "####################\n",
      "Not provided\n",
      "\n",
      "Not provided\n",
      "\n",
      "Not provided\n",
      "\n",
      "####################\n",
      "Temperature: 0.5\n",
      "####################\n",
      "Not provided\n",
      "\n",
      "Not provided\n",
      "\n",
      "Not provided\n",
      "\n",
      "####################\n",
      "Temperature: 1.0\n",
      "####################\n",
      "sour cutlosis company wording perkss diffrem network tenured intellesing experience lifelether continued company business services offer technology refined resources agent solutions sublition company owner services ologiation project help mission purchasing schoolower negotiations maximizer help de\n",
      "\n",
      "aptitude staffing solutions clients cithing yearse lide beriaplismantlication conliry brive communities asgive venture cinestairate smalled projectdirits indise career viestories perdop looking incortane discoveries recruiting diffaacafiveaging employees experience a people recruiting emaildeadaaly\n",
      "\n",
      "Not provided\n",
      "\n",
      "852/852 [==============================] - 121s 141ms/step - loss: 0.6520 - lr: 0.0020\n"
     ]
    }
   ],
   "source": [
    "from textgenrnn import textgenrnn\n",
    "textgen = textgenrnn()\n",
    "textgen.train_on_texts(company_profile, num_epochs=2,  gen_epochs=2)"
   ]
  },
  {
   "cell_type": "code",
   "execution_count": 30,
   "metadata": {},
   "outputs": [
    {
     "name": "stderr",
     "output_type": "stream",
     "text": [
      "100%|████████████████████████████████████████████████████████████████████████████| 5000/5000 [3:46:43<00:00,  2.72s/it]\n"
     ]
    }
   ],
   "source": [
    "generated_profile = textgen.generate(5000, return_as_list=True)"
   ]
  },
  {
   "cell_type": "code",
   "execution_count": 31,
   "metadata": {},
   "outputs": [],
   "source": [
    "df_fake_desc = df_train.loc[(df_train['fraudulent']==1)&(df_train['description'].notna())]\n",
    "description = list(df_fake_desc['description'].to_numpy())"
   ]
  },
  {
   "cell_type": "code",
   "execution_count": 32,
   "metadata": {},
   "outputs": [
    {
     "name": "stdout",
     "output_type": "stream",
     "text": [
      "Training on 539,597 character sequences.\n",
      "Epoch 1/2\n",
      "4215/4215 [==============================] - 485s 115ms/step - loss: 1.3661 - lr: 0.0040\n",
      "Epoch 2/2\n",
      "4215/4215 [==============================] - ETA: 0s - loss: 1.1411####################\n",
      "Temperature: 0.2\n",
      "####################\n",
      "eeation engineering discipline products engineering development support product contract management service required contractors supplier service service solutions experience products solutions support products engineering administrative contract products required contract service responsibilities \n",
      "\n",
      "eeation engineering administrative address provide support products design expertise control products required contract products support product contract design leading support products contract development product experience provide design contract design service contract services start product se\n",
      "\n",
      "esestant contract contract support provide desire work amp responsibilities startup service products products service responsible start engineering provide contract manager solutions required provide design support advanced design startup engineering startup service project systems experience requi\n",
      "\n",
      "####################\n",
      "Temperature: 0.5\n",
      "####################\n",
      "seeking sourcing typist offer tympt commission contract resources services schedule systems expertise products include products provide provider contract provide areas related control providers administrative type may failor looking skills free assignedable management operations required business a\n",
      "\n",
      "eoen seeking service products within actively management contract design including development need type winding providing control engineering develop functions advise consistently account full time provide system controls site someone responsibilities email engineering manager support responsible \n",
      "\n",
      "epnutt located advance requirements assemble management operations skills experience hours including solutions general management leadership contact provides necessary assemblefacking communications leadership experience provider services business professional additional solutions experience projec\n",
      "\n",
      "####################\n",
      "Temperature: 1.0\n",
      "####################\n",
      "slask applican systemsic demonstratives youre administrative automate goous individuals responsible card requirements regard order regular knowledge netware compfield premarcible work honest available experience expertedure customer states solutions strategy softwarestract projects fast salary retu\n",
      "\n",
      "pspil cleal operatings mortgatement outdomsprodications industry following experimine\n",
      "\n",
      " esima technician planning role including assemblied bars andor retail earning required\n",
      "\n",
      "4215/4215 [==============================] - 567s 135ms/step - loss: 1.1411 - lr: 0.0020\n"
     ]
    }
   ],
   "source": [
    "textgen2 = textgenrnn()\n",
    "textgen2.train_on_texts(description, num_epochs=2,  gen_epochs=2)"
   ]
  },
  {
   "cell_type": "code",
   "execution_count": 33,
   "metadata": {},
   "outputs": [
    {
     "name": "stderr",
     "output_type": "stream",
     "text": [
      "100%|███████████████████████████████████████████████████████████████████████████| 5000/5000 [12:09:08<00:00,  8.75s/it]\n"
     ]
    }
   ],
   "source": [
    "generated_description = textgen2.generate(5000, return_as_list=True)"
   ]
  },
  {
   "cell_type": "code",
   "execution_count": 34,
   "metadata": {},
   "outputs": [],
   "source": [
    "gen_df = pd.DataFrame(list(zip(generated_profile, generated_description)), columns=['company_profile', 'description'])\n",
    "gen_df['fraudulent'] = 1\n",
    "gen_df.to_csv('C:/Users/Yewon/OneDrive/Spring 2020/CS 7650/Project/gen_text5000_v2.csv', index=False)"
   ]
  },
  {
   "cell_type": "code",
   "execution_count": 35,
   "metadata": {},
   "outputs": [],
   "source": [
    "gen_df = pd.read_csv('C:/Users/Yewon/OneDrive/Spring 2020/CS 7650/Project/gen_text5000_v2.csv')"
   ]
  },
  {
   "cell_type": "code",
   "execution_count": 39,
   "metadata": {},
   "outputs": [],
   "source": [
    "non_text=df.drop(['title', 'job_id', 'company_profile','description','fraudulent'], axis=1).to_numpy()\n",
    "non_text_df=df.drop(['title', 'job_id', 'company_profile','description','fraudulent'], axis=1)\n",
    "non_text_train = non_text_df.iloc[train_indices]"
   ]
  },
  {
   "cell_type": "code",
   "execution_count": 40,
   "metadata": {},
   "outputs": [],
   "source": [
    "from imblearn.over_sampling import SMOTENC\n",
    "# after resampling # minority / # majority = 4/6\n",
    "oversample = SMOTENC(sampling_strategy=4/6, k_neighbors=5, random_state=0, categorical_features=[[True]*52])\n",
    "x_train_os, y_train_os = oversample.fit_resample(non_text_train, y_train)"
   ]
  },
  {
   "cell_type": "code",
   "execution_count": 41,
   "metadata": {},
   "outputs": [],
   "source": [
    "smote_train = x_train_os.iloc[12516:17516].reset_index(drop=True)\n",
    "smote_train['company_profile'] = 'note provided'\n",
    "smote_train['description'] = gen_df['description']\n",
    "smote_train['fraudulent'] = 1"
   ]
  },
  {
   "cell_type": "code",
   "execution_count": 46,
   "metadata": {},
   "outputs": [],
   "source": [
    "col = list(smote_train.columns)\n",
    "#df3 = df[['company_profile', 'description', 'fraudulent']]\n",
    "df3 = df[col]\n",
    "df3 = pd.concat([df3, smote_train], ignore_index=True)\n",
    "df3['description'] = df3['description'].fillna('not provided')\n",
    "df3['company_profile'] = df3['company_profile'].fillna('not provided')"
   ]
  },
  {
   "cell_type": "markdown",
   "metadata": {},
   "source": [
    "## Tokenizer"
   ]
  },
  {
   "cell_type": "code",
   "execution_count": 47,
   "metadata": {},
   "outputs": [
    {
     "name": "stdout",
     "output_type": "stream",
     "text": [
      "0.5693430656934306\n",
      "0.9670022371364653\n",
      "[[5070   34]\n",
      " [ 143  117]]\n"
     ]
    }
   ],
   "source": [
    "from keras.preprocessing.text import Tokenizer\n",
    "from keras.preprocessing.sequence import pad_sequences\n",
    "max_fatures = 300\n",
    "df3['description']=df3['description'].astype(str)\n",
    "tokenizer = Tokenizer(num_words=max_fatures, split=' ')\n",
    "tokenizer.fit_on_texts(df3['description'].values)\n",
    "X1 = tokenizer.texts_to_sequences(df3['description'].values)\n",
    "X1 = pad_sequences(X1)\n",
    "\n",
    "max_fatures = 200\n",
    "df3['company_profile']=df3['company_profile'].astype(str)\n",
    "tokenizer1 = Tokenizer(num_words=max_fatures, split=' ')\n",
    "tokenizer1.fit_on_texts(df3['company_profile'].values)\n",
    "X2 = tokenizer.texts_to_sequences(df3['company_profile'].values)\n",
    "X2 = pad_sequences(X2)\n",
    "\n",
    "non_text = df3.drop(['company_profile','description', 'fraudulent'], axis=1).to_numpy()\n",
    "combined=np.concatenate((X1, X2), axis=1)\n",
    "combined=np.concatenate((combined, non_text), axis=1)\n",
    "\n",
    "X_train = combined[train_indices]\n",
    "X_test = combined[test_indices]\n",
    "y_train = df3['fraudulent'][train_indices]\n",
    "y_test = df3['fraudulent'][test_indices]\n",
    "\n",
    "classifier = LogisticRegression(max_iter=5000,penalty='l1',solver='liblinear')\n",
    "classifier.fit(X_train, y_train)\n",
    "y_pred = classifier.predict(X_test)\n",
    "print(f1_score(y_test,y_pred))\n",
    "print(accuracy_score(y_test,y_pred))\n",
    "print(confusion_matrix(y_test,y_pred))"
   ]
  },
  {
   "cell_type": "code",
   "execution_count": 48,
   "metadata": {},
   "outputs": [
    {
     "name": "stdout",
     "output_type": "stream",
     "text": [
      "0.4444444444444444\n",
      "0.9282252050708426\n",
      "[[4825  279]\n",
      " [ 106  154]]\n"
     ]
    }
   ],
   "source": [
    "X_train = combined[~np.in1d(range(len(combined)), test_indices)]\n",
    "y_train = df3['fraudulent'][~np.in1d(range(len(df3)), test_indices)]\n",
    "\n",
    "classifier = LogisticRegression(max_iter=5000,penalty='l1',solver='liblinear')\n",
    "classifier.fit(X_train, y_train)\n",
    "y_pred = classifier.predict(X_test)\n",
    "print(f1_score(y_test,y_pred))\n",
    "print(accuracy_score(y_test,y_pred))\n",
    "print(confusion_matrix(y_test,y_pred))"
   ]
  },
  {
   "cell_type": "markdown",
   "metadata": {},
   "source": [
    "## CountVectorizer"
   ]
  },
  {
   "cell_type": "code",
   "execution_count": 49,
   "metadata": {},
   "outputs": [
    {
     "name": "stderr",
     "output_type": "stream",
     "text": [
      "c:\\users\\yewon\\appdata\\local\\programs\\python\\python38\\lib\\site-packages\\sklearn\\linear_model\\_logistic.py:938: ConvergenceWarning: lbfgs failed to converge (status=1):\n",
      "STOP: TOTAL NO. of ITERATIONS REACHED LIMIT.\n",
      "\n",
      "Increase the number of iterations (max_iter) or scale the data as shown in:\n",
      "    https://scikit-learn.org/stable/modules/preprocessing.html\n",
      "Please also refer to the documentation for alternative solver options:\n",
      "    https://scikit-learn.org/stable/modules/linear_model.html#logistic-regression\n",
      "  n_iter_i = _check_optimize_result(\n"
     ]
    },
    {
     "name": "stdout",
     "output_type": "stream",
     "text": [
      "[[5084   20]\n",
      " [  61  199]]\n",
      "0.8308977035490605\n",
      "0.9848993288590604\n"
     ]
    }
   ],
   "source": [
    "vectorizer = CountVectorizer(max_features=3000, min_df=3, max_df=0.8, ngram_range=(1,1))\n",
    "X1 = vectorizer.fit_transform(df3[\"description\"]).toarray()\n",
    "X2 = vectorizer.fit_transform(df3[\"company_profile\"]).toarray()\n",
    "\n",
    "combined=np.concatenate((X1, X2), axis=1)\n",
    "combined=np.concatenate((combined, non_text), axis=1)\n",
    "\n",
    "X_train = combined[train_indices]\n",
    "X_test = combined[test_indices]\n",
    "y_train = df3['fraudulent'][train_indices]\n",
    "y_test = df3['fraudulent'][test_indices]\n",
    "\n",
    "classifier = LogisticRegressionclassifier = LogisticRegression(random_state=0)\n",
    "classifier.fit(X_train, y_train)\n",
    "y_pred_desc = classifier.predict(X_test)\n",
    "y_pred_prob_desc =classifier.predict_proba(X_test)\n",
    "y_pred_prob_desc_list = np.array([i[1] for i in y_pred_prob_desc])\n",
    "print(confusion_matrix(y_test,y_pred_desc))\n",
    "print(f1_score(y_test,y_pred_desc))\n",
    "print(accuracy_score(y_test,y_pred_desc))"
   ]
  },
  {
   "cell_type": "code",
   "execution_count": 50,
   "metadata": {},
   "outputs": [
    {
     "name": "stdout",
     "output_type": "stream",
     "text": [
      "0.8278688524590163\n",
      "0.9843400447427293\n",
      "[[5078   26]\n",
      " [  58  202]]\n"
     ]
    },
    {
     "name": "stderr",
     "output_type": "stream",
     "text": [
      "c:\\users\\yewon\\appdata\\local\\programs\\python\\python38\\lib\\site-packages\\sklearn\\linear_model\\_logistic.py:938: ConvergenceWarning: lbfgs failed to converge (status=1):\n",
      "STOP: TOTAL NO. of ITERATIONS REACHED LIMIT.\n",
      "\n",
      "Increase the number of iterations (max_iter) or scale the data as shown in:\n",
      "    https://scikit-learn.org/stable/modules/preprocessing.html\n",
      "Please also refer to the documentation for alternative solver options:\n",
      "    https://scikit-learn.org/stable/modules/linear_model.html#logistic-regression\n",
      "  n_iter_i = _check_optimize_result(\n"
     ]
    }
   ],
   "source": [
    "X_train = combined[~np.in1d(range(len(combined)), test_indices)]\n",
    "y_train = df3['fraudulent'][~np.in1d(range(len(df3)), test_indices)]\n",
    "\n",
    "classifier = LogisticRegression(random_state=0)\n",
    "classifier.fit(X_train, y_train)\n",
    "y_pred = classifier.predict(X_test)\n",
    "print(f1_score(y_test,y_pred))\n",
    "print(accuracy_score(y_test,y_pred))\n",
    "print(confusion_matrix(y_test,y_pred))"
   ]
  }
 ],
 "metadata": {
  "kernelspec": {
   "display_name": "Python 3",
   "language": "python",
   "name": "python3"
  },
  "language_info": {
   "codemirror_mode": {
    "name": "ipython",
    "version": 3
   },
   "file_extension": ".py",
   "mimetype": "text/x-python",
   "name": "python",
   "nbconvert_exporter": "python",
   "pygments_lexer": "ipython3",
   "version": "3.8.1"
  }
 },
 "nbformat": 4,
 "nbformat_minor": 4
}
