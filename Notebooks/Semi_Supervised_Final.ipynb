{
 "cells": [
  {
   "cell_type": "code",
   "execution_count": 1,
   "metadata": {},
   "outputs": [
    {
     "name": "stderr",
     "output_type": "stream",
     "text": [
      "Using TensorFlow backend.\n"
     ]
    }
   ],
   "source": [
    "import pandas as pd\n",
    "import numpy as np\n",
    "from sklearn.linear_model import LogisticRegression\n",
    "from sklearn.ensemble import RandomForestClassifier\n",
    "from sklearn.model_selection import train_test_split\n",
    "from sklearn.feature_extraction.text import CountVectorizer\n",
    "from sklearn.metrics import confusion_matrix, f1_score, accuracy_score\n",
    "from keras.preprocessing.text import Tokenizer\n",
    "from keras.preprocessing.sequence import pad_sequences"
   ]
  },
  {
   "cell_type": "code",
   "execution_count": 2,
   "metadata": {
    "scrolled": true
   },
   "outputs": [],
   "source": [
    "df = pd.read_csv('clean_data.csv')"
   ]
  },
  {
   "cell_type": "code",
   "execution_count": 3,
   "metadata": {},
   "outputs": [
    {
     "data": {
      "text/html": [
       "<div>\n",
       "<style scoped>\n",
       "    .dataframe tbody tr th:only-of-type {\n",
       "        vertical-align: middle;\n",
       "    }\n",
       "\n",
       "    .dataframe tbody tr th {\n",
       "        vertical-align: top;\n",
       "    }\n",
       "\n",
       "    .dataframe thead th {\n",
       "        text-align: right;\n",
       "    }\n",
       "</style>\n",
       "<table border=\"1\" class=\"dataframe\">\n",
       "  <thead>\n",
       "    <tr style=\"text-align: right;\">\n",
       "      <th></th>\n",
       "      <th>job_id</th>\n",
       "      <th>title</th>\n",
       "      <th>company_profile</th>\n",
       "      <th>description</th>\n",
       "      <th>Special_Char</th>\n",
       "      <th>telecommuting</th>\n",
       "      <th>has_company_logo</th>\n",
       "      <th>has_questions</th>\n",
       "      <th>Ambiguous Range</th>\n",
       "      <th>missing_salary</th>\n",
       "      <th>...</th>\n",
       "      <th>industry_telecommunications</th>\n",
       "      <th>function_accounting auditing</th>\n",
       "      <th>function_administrative</th>\n",
       "      <th>function_customer service</th>\n",
       "      <th>function_engineering</th>\n",
       "      <th>function_information technology</th>\n",
       "      <th>function_none</th>\n",
       "      <th>function_other</th>\n",
       "      <th>function_sales</th>\n",
       "      <th>fraudulent</th>\n",
       "    </tr>\n",
       "  </thead>\n",
       "  <tbody>\n",
       "  </tbody>\n",
       "</table>\n",
       "<p>0 rows × 58 columns</p>\n",
       "</div>"
      ],
      "text/plain": [
       "Empty DataFrame\n",
       "Columns: [job_id, title, company_profile, description, Special_Char, telecommuting, has_company_logo, has_questions, Ambiguous Range, missing_salary, missing_stat, ambiguous_salary, missing, major_benefits, Country_AU, Country_GB, Country_MY, Country_US, State_CA, State_MD, State_NSW, State_NY, State_None, State_TX, employment_type_Contract, employment_type_Full-time, employment_type_None, employment_type_Part-time, required_experience_Associate, required_experience_Entry level, required_experience_Mid-Senior level, required_experience_None, required_education_Bachelor & Assoc, required_education_High School, required_education_Master & Doctorate, required_education_None, required_education_Prof & Cert, industry_accounting, industry_computer networking, industry_consumer services, industry_financial services, industry_hospital health care, industry_information technology services, industry_leisure travel tourism, industry_marketing advertising, industry_none, industry_oil energy, industry_real estate, industry_telecommunications, function_accounting auditing, function_administrative, function_customer service, function_engineering, function_information technology, function_none, function_other, function_sales, fraudulent]\n",
       "Index: []\n",
       "\n",
       "[0 rows x 58 columns]"
      ]
     },
     "execution_count": 3,
     "metadata": {},
     "output_type": "execute_result"
    }
   ],
   "source": [
    "df[df[\"description\"].isnull()]"
   ]
  },
  {
   "cell_type": "code",
   "execution_count": 4,
   "metadata": {},
   "outputs": [
    {
     "data": {
      "text/plain": [
       "job_title           True\n",
       "job_description    False\n",
       "dtype: bool"
      ]
     },
     "execution_count": 4,
     "metadata": {},
     "output_type": "execute_result"
    }
   ],
   "source": [
    "df2=pd.read_csv('clean_monster_data.csv')\n",
    "df2.isnull().any(axis=0)"
   ]
  },
  {
   "cell_type": "code",
   "execution_count": 5,
   "metadata": {},
   "outputs": [
    {
     "data": {
      "text/html": [
       "<div>\n",
       "<style scoped>\n",
       "    .dataframe tbody tr th:only-of-type {\n",
       "        vertical-align: middle;\n",
       "    }\n",
       "\n",
       "    .dataframe tbody tr th {\n",
       "        vertical-align: top;\n",
       "    }\n",
       "\n",
       "    .dataframe thead th {\n",
       "        text-align: right;\n",
       "    }\n",
       "</style>\n",
       "<table border=\"1\" class=\"dataframe\">\n",
       "  <thead>\n",
       "    <tr style=\"text-align: right;\">\n",
       "      <th></th>\n",
       "      <th>description</th>\n",
       "      <th>fraudulent</th>\n",
       "    </tr>\n",
       "  </thead>\n",
       "  <tbody>\n",
       "    <tr>\n",
       "      <th>0</th>\n",
       "      <td>food fastgrowing james beard awardwinning onli...</td>\n",
       "      <td>0</td>\n",
       "    </tr>\n",
       "    <tr>\n",
       "      <th>1</th>\n",
       "      <td>organised focused vibrant awesomedo passion cu...</td>\n",
       "      <td>0</td>\n",
       "    </tr>\n",
       "    <tr>\n",
       "      <th>2</th>\n",
       "      <td>client located houston actively seeking experi...</td>\n",
       "      <td>0</td>\n",
       "    </tr>\n",
       "    <tr>\n",
       "      <th>3</th>\n",
       "      <td>company esri environmental systems research in...</td>\n",
       "      <td>0</td>\n",
       "    </tr>\n",
       "    <tr>\n",
       "      <th>4</th>\n",
       "      <td>job title itemization review managerlocation f...</td>\n",
       "      <td>0</td>\n",
       "    </tr>\n",
       "  </tbody>\n",
       "</table>\n",
       "</div>"
      ],
      "text/plain": [
       "                                         description  fraudulent\n",
       "0  food fastgrowing james beard awardwinning onli...           0\n",
       "1  organised focused vibrant awesomedo passion cu...           0\n",
       "2  client located houston actively seeking experi...           0\n",
       "3  company esri environmental systems research in...           0\n",
       "4  job title itemization review managerlocation f...           0"
      ]
     },
     "execution_count": 5,
     "metadata": {},
     "output_type": "execute_result"
    }
   ],
   "source": [
    "df_labeled=df[[\"description\",\"fraudulent\"]].copy()\n",
    "df_labeled.head()"
   ]
  },
  {
   "cell_type": "code",
   "execution_count": 6,
   "metadata": {
    "scrolled": false
   },
   "outputs": [
    {
     "data": {
      "text/html": [
       "<div>\n",
       "<style scoped>\n",
       "    .dataframe tbody tr th:only-of-type {\n",
       "        vertical-align: middle;\n",
       "    }\n",
       "\n",
       "    .dataframe tbody tr th {\n",
       "        vertical-align: top;\n",
       "    }\n",
       "\n",
       "    .dataframe thead th {\n",
       "        text-align: right;\n",
       "    }\n",
       "</style>\n",
       "<table border=\"1\" class=\"dataframe\">\n",
       "  <thead>\n",
       "    <tr style=\"text-align: right;\">\n",
       "      <th></th>\n",
       "      <th>description</th>\n",
       "      <th>fraudulent</th>\n",
       "    </tr>\n",
       "  </thead>\n",
       "  <tbody>\n",
       "    <tr>\n",
       "      <th>0</th>\n",
       "      <td>teamsoft seeing support specialist join client...</td>\n",
       "      <td></td>\n",
       "    </tr>\n",
       "    <tr>\n",
       "      <th>1</th>\n",
       "      <td>wisconsin state journal seeking flexible motiv...</td>\n",
       "      <td></td>\n",
       "    </tr>\n",
       "    <tr>\n",
       "      <th>2</th>\n",
       "      <td>report job job depuy synthes companies member ...</td>\n",
       "      <td></td>\n",
       "    </tr>\n",
       "    <tr>\n",
       "      <th>3</th>\n",
       "      <td>join altec youre considering career altec inc ...</td>\n",
       "      <td></td>\n",
       "    </tr>\n",
       "    <tr>\n",
       "      <th>4</th>\n",
       "      <td>position id positions state ct city fairfield ...</td>\n",
       "      <td></td>\n",
       "    </tr>\n",
       "  </tbody>\n",
       "</table>\n",
       "</div>"
      ],
      "text/plain": [
       "                                         description fraudulent\n",
       "0  teamsoft seeing support specialist join client...           \n",
       "1  wisconsin state journal seeking flexible motiv...           \n",
       "2  report job job depuy synthes companies member ...           \n",
       "3  join altec youre considering career altec inc ...           \n",
       "4  position id positions state ct city fairfield ...           "
      ]
     },
     "execution_count": 6,
     "metadata": {},
     "output_type": "execute_result"
    }
   ],
   "source": [
    "df_unlabeled=df2[[\"job_description\"]].copy()\n",
    "df_unlabeled[\"fraudulent\"]=\"\"\n",
    "df_unlabeled.rename(columns={\"job_description\":\"description\"},inplace=True)\n",
    "df_unlabeled.head()"
   ]
  },
  {
   "cell_type": "markdown",
   "metadata": {},
   "source": [
    "### Original\n",
    "#### Tokenizer"
   ]
  },
  {
   "cell_type": "code",
   "execution_count": 7,
   "metadata": {},
   "outputs": [],
   "source": [
    "from sklearn.model_selection import StratifiedKFold\n",
    "from sklearn.model_selection import train_test_split\n",
    "\n",
    "train_indices, test_indices, y_train, y_test = train_test_split(np.arange(len(df_labeled)), df_labeled['fraudulent'],\n",
    "                                                    stratify=df_labeled['fraudulent'], \n",
    "                                                    test_size=0.3,random_state=0)\n",
    "from imblearn.over_sampling import RandomOverSampler\n",
    "ros = RandomOverSampler(random_state=0)\n",
    "X_resampled, y_resampled = ros.fit_resample(np.array(train_indices).reshape(-1, 1), df_labeled.iloc[train_indices]['fraudulent'])\n",
    "X_resampled=X_resampled.flatten()"
   ]
  },
  {
   "cell_type": "code",
   "execution_count": 8,
   "metadata": {},
   "outputs": [],
   "source": [
    "max_fatures = 3000\n",
    "df_labeled['description']=df_labeled['description'].astype(str)\n",
    "tokenizer = Tokenizer(num_words=max_fatures, split=' ')\n",
    "tokenizer.fit_on_texts(df_labeled['description'].values)\n",
    "X1 = tokenizer.texts_to_sequences(df_labeled['description'].values)\n",
    "X1 = pad_sequences(X1)"
   ]
  },
  {
   "cell_type": "code",
   "execution_count": 9,
   "metadata": {},
   "outputs": [],
   "source": [
    "X_train1=X1[X_resampled]\n",
    "X_test1=X1[test_indices]"
   ]
  },
  {
   "cell_type": "code",
   "execution_count": 10,
   "metadata": {},
   "outputs": [
    {
     "name": "stdout",
     "output_type": "stream",
     "text": [
      "[[3429 1675]\n",
      " [ 110  150]]\n",
      "0.14388489208633093\n",
      "0.6672259507829977\n"
     ]
    },
    {
     "name": "stderr",
     "output_type": "stream",
     "text": [
      "/Library/Frameworks/Python.framework/Versions/3.7/lib/python3.7/site-packages/sklearn/linear_model/_logistic.py:940: ConvergenceWarning: lbfgs failed to converge (status=1):\n",
      "STOP: TOTAL NO. of ITERATIONS REACHED LIMIT.\n",
      "\n",
      "Increase the number of iterations (max_iter) or scale the data as shown in:\n",
      "    https://scikit-learn.org/stable/modules/preprocessing.html\n",
      "Please also refer to the documentation for alternative solver options:\n",
      "    https://scikit-learn.org/stable/modules/linear_model.html#logistic-regression\n",
      "  extra_warning_msg=_LOGISTIC_SOLVER_CONVERGENCE_MSG)\n"
     ]
    }
   ],
   "source": [
    "classifier_org = LogisticRegression(random_state=0,max_iter=1000)\n",
    "classifier_org.fit(X_train1,y_resampled)\n",
    "y_pred1 = classifier_org.predict(X_test1)\n",
    "print(confusion_matrix(y_test,y_pred1))\n",
    "print(f1_score(y_test,y_pred1))\n",
    "print(accuracy_score(y_test,y_pred1))"
   ]
  },
  {
   "cell_type": "code",
   "execution_count": 11,
   "metadata": {},
   "outputs": [
    {
     "name": "stdout",
     "output_type": "stream",
     "text": [
      "[[5100    4]\n",
      " [ 146  114]]\n",
      "0.6031746031746031\n",
      "0.9720357941834452\n"
     ]
    }
   ],
   "source": [
    "classifier_org_rf = RandomForestClassifier(random_state=0,n_estimators=1000)\n",
    "classifier_org_rf.fit(X_train1,y_resampled)\n",
    "y_pred2 = classifier_org_rf.predict(X_test1)\n",
    "print(confusion_matrix(y_test,y_pred2))\n",
    "print(f1_score(y_test,y_pred2))\n",
    "print(accuracy_score(y_test,y_pred2))"
   ]
  },
  {
   "cell_type": "markdown",
   "metadata": {},
   "source": [
    "#### Verctorizer"
   ]
  },
  {
   "cell_type": "code",
   "execution_count": 12,
   "metadata": {
    "scrolled": false
   },
   "outputs": [],
   "source": [
    "vectorizer = CountVectorizer(max_features=3000,ngram_range=(1,1))\n",
    "X=vectorizer.fit_transform(df_labeled[\"description\"])\n",
    "X_train2 = X[X_resampled]\n",
    "X_test2= X[test_indices]"
   ]
  },
  {
   "cell_type": "code",
   "execution_count": 13,
   "metadata": {},
   "outputs": [
    {
     "name": "stdout",
     "output_type": "stream",
     "text": [
      "[[4932  172]\n",
      " [  73  187]]\n",
      "0.6042003231017771\n",
      "0.9543251304996272\n"
     ]
    }
   ],
   "source": [
    "classifier_org_vec = LogisticRegression(random_state=0,max_iter=3000)\n",
    "classifier_org_vec.fit(X_train2,y_resampled)\n",
    "y_pred3 = classifier_org_vec.predict(X_test2)\n",
    "print(confusion_matrix(y_test,y_pred3))\n",
    "print(f1_score(y_test,y_pred3))\n",
    "print(accuracy_score(y_test,y_pred3))"
   ]
  },
  {
   "cell_type": "code",
   "execution_count": 14,
   "metadata": {},
   "outputs": [
    {
     "name": "stdout",
     "output_type": "stream",
     "text": [
      "[[5097    7]\n",
      " [ 105  155]]\n",
      "0.7345971563981043\n",
      "0.9791200596569725\n"
     ]
    }
   ],
   "source": [
    "classifier_org_vec_rf = RandomForestClassifier(random_state=0,n_estimators=1000)\n",
    "classifier_org_vec_rf.fit(X_train2,y_resampled)\n",
    "y_pred4 = classifier_org_vec_rf.predict(X_test2)\n",
    "print(confusion_matrix(y_test,y_pred4))\n",
    "print(f1_score(y_test,y_pred4))\n",
    "print(accuracy_score(y_test,y_pred4))"
   ]
  },
  {
   "cell_type": "markdown",
   "metadata": {},
   "source": [
    "### Semi-supervised"
   ]
  },
  {
   "cell_type": "markdown",
   "metadata": {},
   "source": [
    "The random forest performs better, we will select random forest to pseudo label the unlabeled data"
   ]
  },
  {
   "cell_type": "markdown",
   "metadata": {},
   "source": [
    "#### Tokenizer"
   ]
  },
  {
   "cell_type": "code",
   "execution_count": 15,
   "metadata": {},
   "outputs": [],
   "source": [
    "combined=pd.concat([df_labeled,df_unlabeled],axis=0)"
   ]
  },
  {
   "cell_type": "code",
   "execution_count": 16,
   "metadata": {},
   "outputs": [],
   "source": [
    "max_fatures = 3000\n",
    "combined['description']=combined['description'].astype(str)\n",
    "tokenizer = Tokenizer(num_words=max_fatures, split=' ')\n",
    "tokenizer.fit_on_texts(combined['description'].values)\n",
    "X_c = tokenizer.texts_to_sequences(combined['description'].values)\n",
    "X_c = pad_sequences(X_c)"
   ]
  },
  {
   "cell_type": "code",
   "execution_count": 17,
   "metadata": {},
   "outputs": [],
   "source": [
    "X_c_unlabeled=X_c[17880:]"
   ]
  },
  {
   "cell_type": "code",
   "execution_count": 18,
   "metadata": {},
   "outputs": [],
   "source": [
    "classifier_c_rf = RandomForestClassifier(random_state=0)\n",
    "classifier_c_rf.fit(X_c[X_resampled],y_resampled)\n",
    "pseudo_1 = classifier_c_rf.predict_proba(X_c_unlabeled)[:,1]"
   ]
  },
  {
   "cell_type": "code",
   "execution_count": 19,
   "metadata": {},
   "outputs": [],
   "source": [
    "Pseudo_label1=np.where(pseudo_1> 0.5, 1, 0)\n",
    "df_unlabeled[\"fraudulent\"]=Pseudo_label1\n",
    "df_unlabeled_fake=df_unlabeled[df_unlabeled[\"fraudulent\"]==1]"
   ]
  },
  {
   "cell_type": "code",
   "execution_count": 20,
   "metadata": {},
   "outputs": [],
   "source": [
    "df_semi=pd.concat([df_labeled,df_unlabeled_fake])"
   ]
  },
  {
   "cell_type": "code",
   "execution_count": 21,
   "metadata": {},
   "outputs": [
    {
     "data": {
      "text/html": [
       "<div>\n",
       "<style scoped>\n",
       "    .dataframe tbody tr th:only-of-type {\n",
       "        vertical-align: middle;\n",
       "    }\n",
       "\n",
       "    .dataframe tbody tr th {\n",
       "        vertical-align: top;\n",
       "    }\n",
       "\n",
       "    .dataframe thead th {\n",
       "        text-align: right;\n",
       "    }\n",
       "</style>\n",
       "<table border=\"1\" class=\"dataframe\">\n",
       "  <thead>\n",
       "    <tr style=\"text-align: right;\">\n",
       "      <th></th>\n",
       "      <th>description</th>\n",
       "      <th>fraudulent</th>\n",
       "    </tr>\n",
       "  </thead>\n",
       "  <tbody>\n",
       "    <tr>\n",
       "      <th>7245</th>\n",
       "      <td>job description</td>\n",
       "      <td>1</td>\n",
       "    </tr>\n",
       "    <tr>\n",
       "      <th>12357</th>\n",
       "      <td>inlinepaneldisplay block important paddingtoppx</td>\n",
       "      <td>1</td>\n",
       "    </tr>\n",
       "  </tbody>\n",
       "</table>\n",
       "</div>"
      ],
      "text/plain": [
       "                                           description  fraudulent\n",
       "7245                                   job description           1\n",
       "12357  inlinepaneldisplay block important paddingtoppx           1"
      ]
     },
     "execution_count": 21,
     "metadata": {},
     "output_type": "execute_result"
    }
   ],
   "source": [
    "df_unlabeled_fake"
   ]
  },
  {
   "cell_type": "markdown",
   "metadata": {},
   "source": [
    "#### Vectorizer"
   ]
  },
  {
   "cell_type": "code",
   "execution_count": 22,
   "metadata": {},
   "outputs": [],
   "source": [
    "vectorizer2 = CountVectorizer(max_features=3000,ngram_range=(1,1))\n",
    "X_c2=vectorizer2.fit_transform(combined[\"description\"])\n",
    "X_c2_unlabeled=X_c[17880:]"
   ]
  },
  {
   "cell_type": "code",
   "execution_count": 23,
   "metadata": {},
   "outputs": [],
   "source": [
    "classifier_c2_rf = RandomForestClassifier(random_state=0)\n",
    "classifier_c2_rf.fit(X_c[X_resampled],y_resampled)\n",
    "pseudo_2 = classifier_c2_rf.predict_proba(X_c_unlabeled)[:,1]"
   ]
  },
  {
   "cell_type": "code",
   "execution_count": 24,
   "metadata": {},
   "outputs": [],
   "source": [
    "Pseudo_label2=np.where(pseudo_2> 0.5, 1, 0)\n",
    "df_unlabeled[\"fraudulent\"]=Pseudo_label2\n",
    "df_unlabeled_fake2=df_unlabeled[df_unlabeled[\"fraudulent\"]==1]"
   ]
  },
  {
   "cell_type": "code",
   "execution_count": 25,
   "metadata": {},
   "outputs": [
    {
     "data": {
      "text/html": [
       "<div>\n",
       "<style scoped>\n",
       "    .dataframe tbody tr th:only-of-type {\n",
       "        vertical-align: middle;\n",
       "    }\n",
       "\n",
       "    .dataframe tbody tr th {\n",
       "        vertical-align: top;\n",
       "    }\n",
       "\n",
       "    .dataframe thead th {\n",
       "        text-align: right;\n",
       "    }\n",
       "</style>\n",
       "<table border=\"1\" class=\"dataframe\">\n",
       "  <thead>\n",
       "    <tr style=\"text-align: right;\">\n",
       "      <th></th>\n",
       "      <th>description</th>\n",
       "      <th>fraudulent</th>\n",
       "    </tr>\n",
       "  </thead>\n",
       "  <tbody>\n",
       "    <tr>\n",
       "      <th>7245</th>\n",
       "      <td>job description</td>\n",
       "      <td>1</td>\n",
       "    </tr>\n",
       "    <tr>\n",
       "      <th>12357</th>\n",
       "      <td>inlinepaneldisplay block important paddingtoppx</td>\n",
       "      <td>1</td>\n",
       "    </tr>\n",
       "  </tbody>\n",
       "</table>\n",
       "</div>"
      ],
      "text/plain": [
       "                                           description  fraudulent\n",
       "7245                                   job description           1\n",
       "12357  inlinepaneldisplay block important paddingtoppx           1"
      ]
     },
     "execution_count": 25,
     "metadata": {},
     "output_type": "execute_result"
    }
   ],
   "source": [
    "df_unlabeled_fake2"
   ]
  },
  {
   "cell_type": "markdown",
   "metadata": {},
   "source": [
    "The vectorizer find the same fake posting"
   ]
  },
  {
   "cell_type": "markdown",
   "metadata": {},
   "source": [
    "### Run on combined data"
   ]
  },
  {
   "cell_type": "markdown",
   "metadata": {},
   "source": [
    "#### Tokenizer"
   ]
  },
  {
   "cell_type": "code",
   "execution_count": 26,
   "metadata": {},
   "outputs": [],
   "source": [
    "df=pd.concat([df_labeled,df_unlabeled_fake],axis=0)"
   ]
  },
  {
   "cell_type": "code",
   "execution_count": 27,
   "metadata": {
    "scrolled": true
   },
   "outputs": [],
   "source": [
    "max_fatures = 3000\n",
    "df['description']=df['description'].astype(str)\n",
    "tokenizer = Tokenizer(num_words=max_fatures, split=' ')\n",
    "tokenizer.fit_on_texts(combined['description'].values)\n",
    "X_f = tokenizer.texts_to_sequences(combined['description'].values)\n",
    "X_f = pad_sequences(X_f)"
   ]
  },
  {
   "cell_type": "code",
   "execution_count": 28,
   "metadata": {},
   "outputs": [],
   "source": [
    "X_train_f=np.concatenate((X_f[X_resampled],X_f[-2:]), axis=0)\n",
    "y_train_f=np.concatenate((y_resampled,df[\"fraudulent\"][-2:]), axis=0)"
   ]
  },
  {
   "cell_type": "code",
   "execution_count": 29,
   "metadata": {},
   "outputs": [],
   "source": [
    "ros_Tok = RandomOverSampler(random_state=0)\n",
    "X_resampled_Tok, y_resampled_Tok = ros_Tok.fit_resample(X_train_f, y_train_f)"
   ]
  },
  {
   "cell_type": "code",
   "execution_count": 30,
   "metadata": {},
   "outputs": [],
   "source": [
    "classifier_f_rf = RandomForestClassifier(random_state=0,n_estimators=1000)\n",
    "classifier_f_rf.fit(X_resampled_Tok,y_resampled_Tok)\n",
    "pred_new= classifier_f_rf.predict(X_f[test_indices])"
   ]
  },
  {
   "cell_type": "code",
   "execution_count": 31,
   "metadata": {
    "scrolled": true
   },
   "outputs": [
    {
     "name": "stdout",
     "output_type": "stream",
     "text": [
      "[[5101    3]\n",
      " [ 148  112]]\n",
      "0.5973333333333334\n",
      "0.9718493661446681\n"
     ]
    }
   ],
   "source": [
    "print(confusion_matrix(y_test,pred_new))\n",
    "print(f1_score(y_test,pred_new))\n",
    "print(accuracy_score(y_test,pred_new))"
   ]
  },
  {
   "cell_type": "markdown",
   "metadata": {},
   "source": [
    "#### Vectorizer"
   ]
  },
  {
   "cell_type": "code",
   "execution_count": 32,
   "metadata": {},
   "outputs": [],
   "source": [
    "df2=pd.concat([df_labeled,df_unlabeled_fake2],axis=0)"
   ]
  },
  {
   "cell_type": "code",
   "execution_count": 33,
   "metadata": {},
   "outputs": [],
   "source": [
    "vectorizer3 = CountVectorizer(max_features=3000,ngram_range=(1,1))\n",
    "vectorizer3.fit(df2[\"description\"])\n",
    "df_train=df2[\"description\"][train_indices]\n",
    "df_unlabeled_train=df2[\"description\"][17880:]\n",
    "X_f2=vectorizer3.transform(df_train.append(df_unlabeled_train))\n",
    "y_f2=df2[\"fraudulent\"][train_indices].append(df2[\"fraudulent\"][17880:])"
   ]
  },
  {
   "cell_type": "code",
   "execution_count": 34,
   "metadata": {},
   "outputs": [],
   "source": [
    "ros_Vec = RandomOverSampler(random_state=0)\n",
    "X_resampled_Vec, y_resampled_Vec = ros_Vec.fit_resample(X_f2, y_f2)"
   ]
  },
  {
   "cell_type": "code",
   "execution_count": 35,
   "metadata": {},
   "outputs": [],
   "source": [
    "X_test=vectorizer3.transform(df2[\"description\"][test_indices])\n",
    "y_test=df2[\"fraudulent\"][test_indices]"
   ]
  },
  {
   "cell_type": "code",
   "execution_count": 36,
   "metadata": {},
   "outputs": [
    {
     "name": "stdout",
     "output_type": "stream",
     "text": [
      "[[5096    8]\n",
      " [ 110  150]]\n",
      "0.7177033492822966\n",
      "0.9780014914243103\n"
     ]
    }
   ],
   "source": [
    "classifier_f_rf2 = RandomForestClassifier(random_state=0,n_estimators=1000)\n",
    "classifier_f_rf2.fit(X_resampled_Vec,y_resampled_Vec)\n",
    "pred_new2= classifier_f_rf2.predict(X_test)\n",
    "print(confusion_matrix(y_test,pred_new2))\n",
    "print(f1_score(y_test,pred_new2))\n",
    "print(accuracy_score(y_test,pred_new2))"
   ]
  }
 ],
 "metadata": {
  "kernelspec": {
   "display_name": "Python 3",
   "language": "python",
   "name": "python3"
  },
  "language_info": {
   "codemirror_mode": {
    "name": "ipython",
    "version": 3
   },
   "file_extension": ".py",
   "mimetype": "text/x-python",
   "name": "python",
   "nbconvert_exporter": "python",
   "pygments_lexer": "ipython3",
   "version": "3.7.6"
  }
 },
 "nbformat": 4,
 "nbformat_minor": 4
}
